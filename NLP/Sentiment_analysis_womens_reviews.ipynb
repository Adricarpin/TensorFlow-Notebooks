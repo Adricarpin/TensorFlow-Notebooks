{
  "nbformat": 4,
  "nbformat_minor": 0,
  "metadata": {
    "colab": {
      "name": "Sentiment-analysis-womens-reviews.ipynb",
      "provenance": [],
      "collapsed_sections": [],
      "authorship_tag": "ABX9TyOFNicBL474jEi7P9OzUH1G",
      "include_colab_link": true
    },
    "kernelspec": {
      "name": "python3",
      "display_name": "Python 3"
    },
    "language_info": {
      "name": "python"
    }
  },
  "cells": [
    {
      "cell_type": "markdown",
      "metadata": {
        "id": "view-in-github",
        "colab_type": "text"
      },
      "source": [
        "<a href=\"https://colab.research.google.com/github/Adricarpin/TensorFlow-notebooks/blob/master/NLP/Sentiment_analysis_womens_reviews.ipynb\" target=\"_parent\"><img src=\"https://colab.research.google.com/assets/colab-badge.svg\" alt=\"Open In Colab\"/></a>"
      ]
    },
    {
      "cell_type": "markdown",
      "metadata": {
        "id": "q7vRNk3tptZp"
      },
      "source": [
        "# Download Dataset"
      ]
    },
    {
      "cell_type": "code",
      "metadata": {
        "colab": {
          "base_uri": "https://localhost:8080/"
        },
        "id": "yHzTqjhEpz2y",
        "outputId": "7905204b-ced6-40d3-e041-17833310bf6f"
      },
      "source": [
        "! pip install kaggle\n"
      ],
      "execution_count": null,
      "outputs": [
        {
          "output_type": "stream",
          "name": "stdout",
          "text": [
            "Requirement already satisfied: kaggle in /usr/local/lib/python3.7/dist-packages (1.5.12)\n",
            "Requirement already satisfied: tqdm in /usr/local/lib/python3.7/dist-packages (from kaggle) (4.62.3)\n",
            "Requirement already satisfied: python-dateutil in /usr/local/lib/python3.7/dist-packages (from kaggle) (2.8.2)\n",
            "Requirement already satisfied: requests in /usr/local/lib/python3.7/dist-packages (from kaggle) (2.23.0)\n",
            "Requirement already satisfied: python-slugify in /usr/local/lib/python3.7/dist-packages (from kaggle) (5.0.2)\n",
            "Requirement already satisfied: six>=1.10 in /usr/local/lib/python3.7/dist-packages (from kaggle) (1.15.0)\n",
            "Requirement already satisfied: certifi in /usr/local/lib/python3.7/dist-packages (from kaggle) (2021.5.30)\n",
            "Requirement already satisfied: urllib3 in /usr/local/lib/python3.7/dist-packages (from kaggle) (1.24.3)\n",
            "Requirement already satisfied: text-unidecode>=1.3 in /usr/local/lib/python3.7/dist-packages (from python-slugify->kaggle) (1.3)\n",
            "Requirement already satisfied: chardet<4,>=3.0.2 in /usr/local/lib/python3.7/dist-packages (from requests->kaggle) (3.0.4)\n",
            "Requirement already satisfied: idna<3,>=2.5 in /usr/local/lib/python3.7/dist-packages (from requests->kaggle) (2.10)\n"
          ]
        }
      ]
    },
    {
      "cell_type": "code",
      "metadata": {
        "id": "LyMMiLhsp4Ch"
      },
      "source": [
        "! mkdir ~/.kaggle\n"
      ],
      "execution_count": null,
      "outputs": []
    },
    {
      "cell_type": "code",
      "metadata": {
        "id": "DQvWb7pyp7fB"
      },
      "source": [
        "from google.colab import files"
      ],
      "execution_count": null,
      "outputs": []
    },
    {
      "cell_type": "code",
      "metadata": {
        "id": "EIW1xlfIp7zc"
      },
      "source": [
        "files.upload()"
      ],
      "execution_count": null,
      "outputs": []
    },
    {
      "cell_type": "code",
      "metadata": {
        "id": "Vi9X6B1tp9qx"
      },
      "source": [
        "! cp kaggle.json ~/.kaggle/"
      ],
      "execution_count": null,
      "outputs": []
    },
    {
      "cell_type": "code",
      "metadata": {
        "id": "ZdQZW4S_qBrN"
      },
      "source": [
        "! chmod 600 ~/.kaggle/kaggle.json"
      ],
      "execution_count": null,
      "outputs": []
    },
    {
      "cell_type": "code",
      "metadata": {
        "colab": {
          "base_uri": "https://localhost:8080/"
        },
        "id": "URgKRL8iqEHC",
        "outputId": "b79ec98b-baaa-400e-a21e-ecdedbe506f2"
      },
      "source": [
        "! kaggle datasets download -d nicapotato/womens-ecommerce-clothing-reviews"
      ],
      "execution_count": null,
      "outputs": [
        {
          "output_type": "stream",
          "name": "stdout",
          "text": [
            "Downloading womens-ecommerce-clothing-reviews.zip to /content\n",
            "\r  0% 0.00/2.79M [00:00<?, ?B/s]\n",
            "\r100% 2.79M/2.79M [00:00<00:00, 92.1MB/s]\n"
          ]
        }
      ]
    },
    {
      "cell_type": "code",
      "metadata": {
        "colab": {
          "base_uri": "https://localhost:8080/"
        },
        "id": "TDpyGY_uqVGY",
        "outputId": "a3fefd7c-47f2-44cf-b199-e638e5a8993c"
      },
      "source": [
        "! unzip womens-ecommerce-clothing-reviews.zip"
      ],
      "execution_count": null,
      "outputs": [
        {
          "output_type": "stream",
          "name": "stdout",
          "text": [
            "Archive:  womens-ecommerce-clothing-reviews.zip\n",
            "  inflating: Womens Clothing E-Commerce Reviews.csv  \n"
          ]
        }
      ]
    },
    {
      "cell_type": "markdown",
      "metadata": {
        "id": "msBL_WpHqj3u"
      },
      "source": [
        "# Preprocessing"
      ]
    },
    {
      "cell_type": "code",
      "metadata": {
        "id": "pqjxvTtmqslX"
      },
      "source": [
        "import pandas as pd\n",
        "import numpy as np"
      ],
      "execution_count": null,
      "outputs": []
    },
    {
      "cell_type": "code",
      "metadata": {
        "id": "cBoys5_erEXv"
      },
      "source": [
        "df = pd.read_csv('Womens Clothing E-Commerce Reviews.csv')"
      ],
      "execution_count": null,
      "outputs": []
    },
    {
      "cell_type": "code",
      "metadata": {
        "id": "QltF4i-XrMd_"
      },
      "source": [
        "df = df[['Review Text', 'Rating']]"
      ],
      "execution_count": null,
      "outputs": []
    },
    {
      "cell_type": "code",
      "metadata": {
        "colab": {
          "base_uri": "https://localhost:8080/"
        },
        "id": "Uw7zaTeJwA_r",
        "outputId": "071638b0-21a0-4d5d-aead-1da245137a66"
      },
      "source": [
        "len(df)"
      ],
      "execution_count": null,
      "outputs": [
        {
          "output_type": "execute_result",
          "data": {
            "text/plain": [
              "23486"
            ]
          },
          "metadata": {},
          "execution_count": 12
        }
      ]
    },
    {
      "cell_type": "code",
      "metadata": {
        "id": "2Xnn1CD3vlCm"
      },
      "source": [
        "df.dropna(inplace=True)"
      ],
      "execution_count": null,
      "outputs": []
    },
    {
      "cell_type": "code",
      "metadata": {
        "colab": {
          "base_uri": "https://localhost:8080/"
        },
        "id": "BMZ6IfLgv-qJ",
        "outputId": "f310d92d-f2f6-4c8b-f7b5-be8481a381cf"
      },
      "source": [
        "len(df)"
      ],
      "execution_count": null,
      "outputs": [
        {
          "output_type": "execute_result",
          "data": {
            "text/plain": [
              "22641"
            ]
          },
          "metadata": {},
          "execution_count": 14
        }
      ]
    },
    {
      "cell_type": "code",
      "metadata": {
        "id": "H-JqR1QrrNfc"
      },
      "source": [
        "review = df['Review Text'].to_numpy()\n",
        "rating = df['Rating'].to_numpy()"
      ],
      "execution_count": null,
      "outputs": []
    },
    {
      "cell_type": "code",
      "metadata": {
        "id": "LzIQt0Gpr2Hn"
      },
      "source": [
        "from sklearn.model_selection import train_test_split"
      ],
      "execution_count": null,
      "outputs": []
    },
    {
      "cell_type": "code",
      "metadata": {
        "id": "u9Ehe1tor264"
      },
      "source": [
        "train_X, test_X, train_y, test_y = train_test_split(review, rating, test_size=0.2, stratify=rating)"
      ],
      "execution_count": null,
      "outputs": []
    },
    {
      "cell_type": "markdown",
      "metadata": {
        "id": "ceuf19EktbZV"
      },
      "source": [
        "# Tokenization"
      ]
    },
    {
      "cell_type": "markdown",
      "metadata": {
        "id": "pt30e1xxt1xk"
      },
      "source": [
        "## Token vector size"
      ]
    },
    {
      "cell_type": "code",
      "metadata": {
        "colab": {
          "base_uri": "https://localhost:8080/"
        },
        "id": "3KmLsCyOt5Aq",
        "outputId": "d3b238df-506a-488e-d50a-8efeead5bbe0"
      },
      "source": [
        "sent_lens = [len(i.split()) for i in train_X]\n",
        "avg_sent_len = np.mean(sent_lens)\n",
        "avg_sent_len"
      ],
      "execution_count": null,
      "outputs": [
        {
          "output_type": "execute_result",
          "data": {
            "text/plain": [
              "60.26695008833922"
            ]
          },
          "metadata": {},
          "execution_count": 18
        }
      ]
    },
    {
      "cell_type": "code",
      "metadata": {
        "colab": {
          "base_uri": "https://localhost:8080/",
          "height": 337
        },
        "id": "ID_jMY_tt5yw",
        "outputId": "d40099ab-9397-4a26-fbdc-0d497ca0b937"
      },
      "source": [
        "import matplotlib.pyplot as plt\n",
        "plt.hist(sent_lens, bins=7)"
      ],
      "execution_count": null,
      "outputs": [
        {
          "output_type": "execute_result",
          "data": {
            "text/plain": [
              "(array([1324., 2897., 3220., 2957., 2338., 3573., 1803.]),\n",
              " array([  2.        ,  18.14285714,  34.28571429,  50.42857143,\n",
              "         66.57142857,  82.71428571,  98.85714286, 115.        ]),\n",
              " <a list of 7 Patch objects>)"
            ]
          },
          "metadata": {},
          "execution_count": 19
        },
        {
          "output_type": "display_data",
          "data": {
            "image/png": "[encoded data removed]",
            "text/plain": [
              "<Figure size 432x288 with 1 Axes>"
            ]
          },
          "metadata": {
            "needs_background": "light"
          }
        }
      ]
    },
    {
      "cell_type": "code",
      "metadata": {
        "colab": {
          "base_uri": "https://localhost:8080/"
        },
        "id": "0avriFOZwRNj",
        "outputId": "a0b0c1ca-b609-4542-e32b-08f9aba1cbe2"
      },
      "source": [
        "output_seq_len = int(np.percentile(sent_lens, 95))\n",
        "output_seq_len"
      ],
      "execution_count": null,
      "outputs": [
        {
          "output_type": "execute_result",
          "data": {
            "text/plain": [
              "101"
            ]
          },
          "metadata": {},
          "execution_count": 20
        }
      ]
    },
    {
      "cell_type": "markdown",
      "metadata": {
        "id": "QY5TVXFTwWBS"
      },
      "source": [
        "## Vocab size"
      ]
    },
    {
      "cell_type": "code",
      "metadata": {
        "colab": {
          "base_uri": "https://localhost:8080/"
        },
        "id": "mEU7LCx5wdhq",
        "outputId": "c590199d-1211-4701-9fd9-ff7a25e9aedb"
      },
      "source": [
        "len(set(' '.join(train_X).split(\" \")))"
      ],
      "execution_count": null,
      "outputs": [
        {
          "output_type": "execute_result",
          "data": {
            "text/plain": [
              "35777"
            ]
          },
          "metadata": {},
          "execution_count": 21
        }
      ]
    },
    {
      "cell_type": "markdown",
      "metadata": {
        "id": "YG9R1hQPwh-i"
      },
      "source": [
        "## TextVectorization"
      ]
    },
    {
      "cell_type": "code",
      "metadata": {
        "id": "HA6omALTwd9X"
      },
      "source": [
        "from tensorflow.keras.layers import TextVectorization\n",
        "\n",
        "\n",
        "vocab_dim = 30000\n",
        "token_vector_len = 100\n",
        "\n",
        "text_vectorizer = TextVectorization(max_tokens = vocab_dim, # how many words in the vocabulary (all of the different words in your text)\n",
        "                                    output_sequence_length=token_vector_len) # how long should the output sequence of tokens be?\n"
      ],
      "execution_count": null,
      "outputs": []
    },
    {
      "cell_type": "code",
      "metadata": {
        "id": "clySgdxOwpOL"
      },
      "source": [
        "text_vectorizer.adapt(train_X)"
      ],
      "execution_count": null,
      "outputs": []
    },
    {
      "cell_type": "code",
      "metadata": {
        "id": "nXK7o1uTws-F"
      },
      "source": [
        "train_X_tokenized = text_vectorizer(train_X)\n",
        "test_X_tokenized = text_vectorizer(test_X)"
      ],
      "execution_count": null,
      "outputs": []
    },
    {
      "cell_type": "markdown",
      "metadata": {
        "id": "KnLb5iE5w56H"
      },
      "source": [
        "# Labels to OneHot"
      ]
    },
    {
      "cell_type": "code",
      "metadata": {
        "id": "FGSIkF69xBAF"
      },
      "source": [
        "from sklearn.preprocessing import OneHotEncoder"
      ],
      "execution_count": null,
      "outputs": []
    },
    {
      "cell_type": "code",
      "metadata": {
        "id": "wfW6ojNhxG7o"
      },
      "source": [
        "enc = OneHotEncoder(handle_unknown='ignore', sparse=False)"
      ],
      "execution_count": null,
      "outputs": []
    },
    {
      "cell_type": "code",
      "metadata": {
        "colab": {
          "base_uri": "https://localhost:8080/"
        },
        "id": "rTN5efHuxIJx",
        "outputId": "8fe43fc2-4291-43db-cae6-7415db75d8e4"
      },
      "source": [
        "enc.fit(train_y.reshape(-1,1))"
      ],
      "execution_count": null,
      "outputs": [
        {
          "output_type": "execute_result",
          "data": {
            "text/plain": [
              "OneHotEncoder(categories='auto', drop=None, dtype=<class 'numpy.float64'>,\n",
              "              handle_unknown='ignore', sparse=False)"
            ]
          },
          "metadata": {},
          "execution_count": 27
        }
      ]
    },
    {
      "cell_type": "code",
      "metadata": {
        "id": "VubNuoNCxL9x"
      },
      "source": [
        "train_y_encoded = enc.transform(train_y.reshape(-1,1))\n",
        "test_y_encoded = enc.transform(test_y.reshape(-1,1))"
      ],
      "execution_count": null,
      "outputs": []
    },
    {
      "cell_type": "code",
      "metadata": {
        "id": "UJ_oeK4tzLIk"
      },
      "source": [
        "num_categories = np.size(enc.categories_)"
      ],
      "execution_count": null,
      "outputs": []
    },
    {
      "cell_type": "markdown",
      "metadata": {
        "id": "kT70CEQm0NZA"
      },
      "source": [
        "# Subset"
      ]
    },
    {
      "cell_type": "code",
      "metadata": {
        "id": "JclMikiD0Q7w"
      },
      "source": [
        "make_split_train = int(0.1*len(train_X_tokenized))\n",
        "train_X_mini = train_X_tokenized[:make_split_train]\n",
        "train_y_mini = train_y_encoded[:make_split_train]"
      ],
      "execution_count": null,
      "outputs": []
    },
    {
      "cell_type": "code",
      "metadata": {
        "id": "Yy7pYLk70TK-"
      },
      "source": [
        "make_split_test = int(0.1*len(test_X_tokenized))\n",
        "test_X_mini = test_X_tokenized[:make_split_test]\n",
        "test_y_mini = test_y_encoded[:make_split_test]"
      ],
      "execution_count": null,
      "outputs": []
    },
    {
      "cell_type": "markdown",
      "metadata": {
        "id": "bnDbdVOpyzKd"
      },
      "source": [
        "# Modelo 1 (LSTM 10% data)"
      ]
    },
    {
      "cell_type": "code",
      "metadata": {
        "id": "LFYCT3PkzyB9"
      },
      "source": [
        "from tensorflow.keras import layers\n",
        "from tensorflow.keras import Model\n",
        "import tensorflow as tf"
      ],
      "execution_count": null,
      "outputs": []
    },
    {
      "cell_type": "code",
      "metadata": {
        "id": "fod516Jqy9dL"
      },
      "source": [
        "embedding = layers.Embedding(input_dim=vocab_dim, \n",
        "                             output_dim=128, \n",
        "                             input_length=token_vector_len) "
      ],
      "execution_count": null,
      "outputs": []
    },
    {
      "cell_type": "code",
      "metadata": {
        "id": "_dSbK0OMy59U"
      },
      "source": [
        "input = layers.Input(shape=(token_vector_len,))\n",
        "x = embedding(input)\n",
        "x = layers.LSTM(128)(x)\n",
        "output = layers.Dense(num_categories, activation='softmax')(x)\n",
        "\n",
        "model = Model(input, output)"
      ],
      "execution_count": null,
      "outputs": []
    },
    {
      "cell_type": "code",
      "metadata": {
        "id": "lcyIuDzrzk4G"
      },
      "source": [
        "model.compile(loss=\"categorical_crossentropy\",\n",
        "                optimizer=tf.keras.optimizers.Adam(learning_rate=0.01),\n",
        "                metrics=[\"accuracy\"])"
      ],
      "execution_count": null,
      "outputs": []
    },
    {
      "cell_type": "code",
      "metadata": {
        "colab": {
          "base_uri": "https://localhost:8080/"
        },
        "id": "YxN7wX_dzsOy",
        "outputId": "2a23eb7a-3044-4183-a7fd-1991607f01c1"
      },
      "source": [
        "history = model.fit(train_X_mini, train_y_mini,\n",
        "                    verbose=1,\n",
        "                    epochs=15,\n",
        "                    validation_data=(test_X_mini, test_y_mini))"
      ],
      "execution_count": null,
      "outputs": [
        {
          "output_type": "stream",
          "name": "stdout",
          "text": [
            "Epoch 1/15\n",
            "57/57 [==============================] - 12s 179ms/step - loss: 1.2933 - accuracy: 0.5318 - val_loss: 1.2158 - val_accuracy: 0.5531\n",
            "Epoch 2/15\n",
            "57/57 [==============================] - 10s 169ms/step - loss: 1.2333 - accuracy: 0.5522 - val_loss: 1.2324 - val_accuracy: 0.5531\n",
            "Epoch 3/15\n",
            "57/57 [==============================] - 10s 169ms/step - loss: 1.2047 - accuracy: 0.5638 - val_loss: 1.2340 - val_accuracy: 0.5442\n",
            "Epoch 4/15\n",
            "57/57 [==============================] - 10s 169ms/step - loss: 1.2070 - accuracy: 0.5627 - val_loss: 1.2739 - val_accuracy: 0.5420\n",
            "Epoch 5/15\n",
            "57/57 [==============================] - 10s 170ms/step - loss: 1.1671 - accuracy: 0.5853 - val_loss: 1.2637 - val_accuracy: 0.5354\n",
            "Epoch 6/15\n",
            "57/57 [==============================] - 10s 170ms/step - loss: 1.1264 - accuracy: 0.5986 - val_loss: 1.3115 - val_accuracy: 0.5199\n",
            "Epoch 7/15\n",
            "57/57 [==============================] - 10s 170ms/step - loss: 1.1120 - accuracy: 0.5997 - val_loss: 1.2507 - val_accuracy: 0.5442\n",
            "Epoch 8/15\n",
            "57/57 [==============================] - 10s 170ms/step - loss: 0.9458 - accuracy: 0.6361 - val_loss: 1.2040 - val_accuracy: 0.5730\n",
            "Epoch 9/15\n",
            "57/57 [==============================] - 10s 170ms/step - loss: 0.7884 - accuracy: 0.6875 - val_loss: 1.2269 - val_accuracy: 0.5243\n",
            "Epoch 10/15\n",
            "57/57 [==============================] - 10s 171ms/step - loss: 0.6573 - accuracy: 0.7532 - val_loss: 1.2947 - val_accuracy: 0.5310\n",
            "Epoch 11/15\n",
            "57/57 [==============================] - 10s 170ms/step - loss: 0.6029 - accuracy: 0.7769 - val_loss: 1.5182 - val_accuracy: 0.4912\n",
            "Epoch 12/15\n",
            "57/57 [==============================] - 10s 169ms/step - loss: 0.5400 - accuracy: 0.8056 - val_loss: 1.3983 - val_accuracy: 0.5642\n",
            "Epoch 13/15\n",
            "57/57 [==============================] - 10s 169ms/step - loss: 0.4540 - accuracy: 0.8338 - val_loss: 1.4755 - val_accuracy: 0.5000\n",
            "Epoch 14/15\n",
            "57/57 [==============================] - 10s 169ms/step - loss: 0.3697 - accuracy: 0.8669 - val_loss: 1.5156 - val_accuracy: 0.5332\n",
            "Epoch 15/15\n",
            "57/57 [==============================] - 10s 171ms/step - loss: 0.3364 - accuracy: 0.8840 - val_loss: 1.7574 - val_accuracy: 0.5088\n"
          ]
        }
      ]
    },
    {
      "cell_type": "markdown",
      "metadata": {
        "id": "x1wSAhFb6Wjk"
      },
      "source": [
        "# Modelo 2 (LSTM) (100% data)"
      ]
    },
    {
      "cell_type": "code",
      "metadata": {
        "id": "ajQ3iHSD6Wjl"
      },
      "source": [
        "from tensorflow.keras import layers\n",
        "from tensorflow.keras import Model\n",
        "import tensorflow as tf"
      ],
      "execution_count": null,
      "outputs": []
    },
    {
      "cell_type": "code",
      "metadata": {
        "id": "OpuhopvN6Wjm"
      },
      "source": [
        "embedding = layers.Embedding(input_dim=vocab_dim, \n",
        "                             output_dim=128, \n",
        "                             input_length=token_vector_len) "
      ],
      "execution_count": null,
      "outputs": []
    },
    {
      "cell_type": "code",
      "metadata": {
        "id": "8Dzk5NG26Wjn"
      },
      "source": [
        "input = layers.Input(shape=(token_vector_len,))\n",
        "x = embedding(input)\n",
        "x = layers.LSTM(128)(x)\n",
        "output = layers.Dense(num_categories, activation='softmax')(x)\n",
        "\n",
        "model = Model(input, output)"
      ],
      "execution_count": null,
      "outputs": []
    },
    {
      "cell_type": "code",
      "metadata": {
        "id": "m_dvvuKq6Wjo"
      },
      "source": [
        "model.compile(loss=\"categorical_crossentropy\",\n",
        "                optimizer=tf.keras.optimizers.Adam(learning_rate=0.01),\n",
        "                metrics=[\"accuracy\"])"
      ],
      "execution_count": null,
      "outputs": []
    },
    {
      "cell_type": "code",
      "metadata": {
        "colab": {
          "base_uri": "https://localhost:8080/"
        },
        "id": "f944rrwk6Wjp",
        "outputId": "41b6854b-f51f-4c9d-e4c5-ec595d75b994"
      },
      "source": [
        "history = model.fit(train_X_tokenized, train_y_encoded,\n",
        "                    verbose=1,\n",
        "                    epochs=8,\n",
        "                    validation_data=(test_X_tokenized, test_y_encoded))"
      ],
      "execution_count": null,
      "outputs": [
        {
          "output_type": "stream",
          "name": "stdout",
          "text": [
            "Epoch 1/8\n",
            "566/566 [==============================] - 99s 171ms/step - loss: 1.2037 - accuracy: 0.5526 - val_loss: 1.0528 - val_accuracy: 0.5856\n",
            "Epoch 2/8\n",
            "566/566 [==============================] - 100s 176ms/step - loss: 0.9877 - accuracy: 0.5974 - val_loss: 0.9698 - val_accuracy: 0.6006\n",
            "Epoch 3/8\n",
            "566/566 [==============================] - 98s 173ms/step - loss: 0.9069 - accuracy: 0.6236 - val_loss: 0.9752 - val_accuracy: 0.6085\n",
            "Epoch 4/8\n",
            "566/566 [==============================] - 98s 172ms/step - loss: 0.8704 - accuracy: 0.6384 - val_loss: 0.9844 - val_accuracy: 0.6079\n",
            "Epoch 5/8\n",
            "566/566 [==============================] - 98s 173ms/step - loss: 0.8404 - accuracy: 0.6497 - val_loss: 0.9816 - val_accuracy: 0.6039\n",
            "Epoch 6/8\n",
            "566/566 [==============================] - 97s 172ms/step - loss: 0.8243 - accuracy: 0.6588 - val_loss: 1.0007 - val_accuracy: 0.5984\n",
            "Epoch 7/8\n",
            "566/566 [==============================] - 98s 173ms/step - loss: 0.8101 - accuracy: 0.6652 - val_loss: 1.0241 - val_accuracy: 0.5962\n",
            "Epoch 8/8\n",
            "566/566 [==============================] - 100s 176ms/step - loss: 0.7932 - accuracy: 0.6692 - val_loss: 1.0141 - val_accuracy: 0.5924\n"
          ]
        }
      ]
    }
  ]
}