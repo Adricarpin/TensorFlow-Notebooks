{
  "nbformat": 4,
  "nbformat_minor": 0,
  "metadata": {
    "colab": {
      "name": "Sentiment-analysis-Disaster-Tweets.ipynb",
      "provenance": [],
      "collapsed_sections": [
        "5vS6BeOMwye-",
        "WTgT-lPHwWxH",
        "X2hs2Bkj55oA",
        "jSrxkp8oDzHs",
        "aomISlkhJOPV",
        "IWztBi4xOlzK",
        "7zJ9b5qW8D6h",
        "aHRSBiGddnwm",
        "PVPxAq34hEaM",
        "0l0XHFfhnfo9",
        "qZ753srns4ML",
        "NmK_RFKa5l_i"
      ],
      "authorship_tag": "ABX9TyMOy9fTMSox4TQh8uVbjfi7",
      "include_colab_link": true
    },
    "kernelspec": {
      "name": "python3",
      "display_name": "Python 3"
    },
    "language_info": {
      "name": "python"
    },
    "accelerator": "GPU"
  },
  "cells": [
    {
      "cell_type": "markdown",
      "metadata": {
        "id": "view-in-github",
        "colab_type": "text"
      },
      "source": [
        "<a href=\"https://colab.research.google.com/github/Adricarpin/TensorFlow-notebooks/blob/master/NLP/Sentiment_analysis_Disaster_Tweets.ipynb\" target=\"_parent\"><img src=\"https://colab.research.google.com/assets/colab-badge.svg\" alt=\"Open In Colab\"/></a>"
      ]
    },
    {
      "cell_type": "markdown",
      "metadata": {
        "id": "5vS6BeOMwye-"
      },
      "source": [
        "# Dowload Dataset"
      ]
    },
    {
      "cell_type": "code",
      "metadata": {
        "colab": {
          "base_uri": "https://localhost:8080/"
        },
        "id": "ck4fhkPzv0hJ",
        "outputId": "3465a9ee-4940-488c-9790-a7053e1d820d"
      },
      "source": [
        "! pip install kaggle\n"
      ],
      "execution_count": null,
      "outputs": [
        {
          "output_type": "stream",
          "name": "stdout",
          "text": [
            "Requirement already satisfied: kaggle in /usr/local/lib/python3.7/dist-packages (1.5.12)\n",
            "Requirement already satisfied: six>=1.10 in /usr/local/lib/python3.7/dist-packages (from kaggle) (1.15.0)\n",
            "Requirement already satisfied: certifi in /usr/local/lib/python3.7/dist-packages (from kaggle) (2021.5.30)\n",
            "Requirement already satisfied: python-dateutil in /usr/local/lib/python3.7/dist-packages (from kaggle) (2.8.2)\n",
            "Requirement already satisfied: urllib3 in /usr/local/lib/python3.7/dist-packages (from kaggle) (1.24.3)\n",
            "Requirement already satisfied: requests in /usr/local/lib/python3.7/dist-packages (from kaggle) (2.23.0)\n",
            "Requirement already satisfied: tqdm in /usr/local/lib/python3.7/dist-packages (from kaggle) (4.62.3)\n",
            "Requirement already satisfied: python-slugify in /usr/local/lib/python3.7/dist-packages (from kaggle) (5.0.2)\n",
            "Requirement already satisfied: text-unidecode>=1.3 in /usr/local/lib/python3.7/dist-packages (from python-slugify->kaggle) (1.3)\n",
            "Requirement already satisfied: idna<3,>=2.5 in /usr/local/lib/python3.7/dist-packages (from requests->kaggle) (2.10)\n",
            "Requirement already satisfied: chardet<4,>=3.0.2 in /usr/local/lib/python3.7/dist-packages (from requests->kaggle) (3.0.4)\n"
          ]
        }
      ]
    },
    {
      "cell_type": "code",
      "metadata": {
        "id": "kcnKoFz8v1jn"
      },
      "source": [
        "! mkdir ~/.kaggle\n"
      ],
      "execution_count": null,
      "outputs": []
    },
    {
      "cell_type": "code",
      "metadata": {
        "id": "RS57MeVCv4B7"
      },
      "source": [
        "from google.colab import files"
      ],
      "execution_count": null,
      "outputs": []
    },
    {
      "cell_type": "code",
      "metadata": {
        "id": "iTdvYntUwHUh"
      },
      "source": [
        "files.upload()"
      ],
      "execution_count": null,
      "outputs": []
    },
    {
      "cell_type": "code",
      "metadata": {
        "id": "JaOGNObPwImw"
      },
      "source": [
        "! cp kaggle.json ~/.kaggle/\n"
      ],
      "execution_count": null,
      "outputs": []
    },
    {
      "cell_type": "code",
      "metadata": {
        "id": "eat1fp9twPb0"
      },
      "source": [
        "! chmod 600 ~/.kaggle/kaggle.json\n"
      ],
      "execution_count": null,
      "outputs": []
    },
    {
      "cell_type": "code",
      "metadata": {
        "colab": {
          "base_uri": "https://localhost:8080/"
        },
        "id": "a7xA_pswwRgH",
        "outputId": "98fc3ebd-fe4f-4b7b-d6bd-3999be33270d"
      },
      "source": [
        "! kaggle competitions download -c nlp-getting-started"
      ],
      "execution_count": null,
      "outputs": [
        {
          "output_type": "stream",
          "name": "stdout",
          "text": [
            "Warning: Looks like you're using an outdated API Version, please consider updating (server 1.5.12 / client 1.5.4)\n",
            "Downloading test.csv to /content\n",
            "  0% 0.00/411k [00:00<?, ?B/s]\n",
            "100% 411k/411k [00:00<00:00, 62.1MB/s]\n",
            "Downloading train.csv to /content\n",
            "  0% 0.00/965k [00:00<?, ?B/s]\n",
            "100% 965k/965k [00:00<00:00, 29.5MB/s]\n",
            "Downloading sample_submission.csv to /content\n",
            "  0% 0.00/22.2k [00:00<?, ?B/s]\n",
            "100% 22.2k/22.2k [00:00<00:00, 22.2MB/s]\n"
          ]
        }
      ]
    },
    {
      "cell_type": "markdown",
      "metadata": {
        "id": "WTgT-lPHwWxH"
      },
      "source": [
        "# Preprocessing"
      ]
    },
    {
      "cell_type": "code",
      "metadata": {
        "id": "lZjCf5Efw85E"
      },
      "source": [
        "import pandas as pd"
      ],
      "execution_count": null,
      "outputs": []
    },
    {
      "cell_type": "code",
      "metadata": {
        "id": "IxqylVhSxMjy"
      },
      "source": [
        "train_df = pd.read_csv('train.csv')"
      ],
      "execution_count": null,
      "outputs": []
    },
    {
      "cell_type": "code",
      "metadata": {
        "colab": {
          "base_uri": "https://localhost:8080/",
          "height": 204
        },
        "id": "2edphGmOxSmN",
        "outputId": "17ce9a43-b8de-44df-fe2d-0bb72b99cabc"
      },
      "source": [
        "train_df.head()"
      ],
      "execution_count": null,
      "outputs": [
        {
          "output_type": "execute_result",
          "data": {
            "text/html": [
              "<div>\n",
              "<style scoped>\n",
              "    .dataframe tbody tr th:only-of-type {\n",
              "        vertical-align: middle;\n",
              "    }\n",
              "\n",
              "    .dataframe tbody tr th {\n",
              "        vertical-align: top;\n",
              "    }\n",
              "\n",
              "    .dataframe thead th {\n",
              "        text-align: right;\n",
              "    }\n",
              "</style>\n",
              "<table border=\"1\" class=\"dataframe\">\n",
              "  <thead>\n",
              "    <tr style=\"text-align: right;\">\n",
              "      <th></th>\n",
              "      <th>id</th>\n",
              "      <th>keyword</th>\n",
              "      <th>location</th>\n",
              "      <th>text</th>\n",
              "      <th>target</th>\n",
              "    </tr>\n",
              "  </thead>\n",
              "  <tbody>\n",
              "    <tr>\n",
              "      <th>0</th>\n",
              "      <td>1</td>\n",
              "      <td>NaN</td>\n",
              "      <td>NaN</td>\n",
              "      <td>Our Deeds are the Reason of this #earthquake M...</td>\n",
              "      <td>1</td>\n",
              "    </tr>\n",
              "    <tr>\n",
              "      <th>1</th>\n",
              "      <td>4</td>\n",
              "      <td>NaN</td>\n",
              "      <td>NaN</td>\n",
              "      <td>Forest fire near La Ronge Sask. Canada</td>\n",
              "      <td>1</td>\n",
              "    </tr>\n",
              "    <tr>\n",
              "      <th>2</th>\n",
              "      <td>5</td>\n",
              "      <td>NaN</td>\n",
              "      <td>NaN</td>\n",
              "      <td>All residents asked to 'shelter in place' are ...</td>\n",
              "      <td>1</td>\n",
              "    </tr>\n",
              "    <tr>\n",
              "      <th>3</th>\n",
              "      <td>6</td>\n",
              "      <td>NaN</td>\n",
              "      <td>NaN</td>\n",
              "      <td>13,000 people receive #wildfires evacuation or...</td>\n",
              "      <td>1</td>\n",
              "    </tr>\n",
              "    <tr>\n",
              "      <th>4</th>\n",
              "      <td>7</td>\n",
              "      <td>NaN</td>\n",
              "      <td>NaN</td>\n",
              "      <td>Just got sent this photo from Ruby #Alaska as ...</td>\n",
              "      <td>1</td>\n",
              "    </tr>\n",
              "  </tbody>\n",
              "</table>\n",
              "</div>"
            ],
            "text/plain": [
              "   id keyword  ...                                               text target\n",
              "0   1     NaN  ...  Our Deeds are the Reason of this #earthquake M...      1\n",
              "1   4     NaN  ...             Forest fire near La Ronge Sask. Canada      1\n",
              "2   5     NaN  ...  All residents asked to 'shelter in place' are ...      1\n",
              "3   6     NaN  ...  13,000 people receive #wildfires evacuation or...      1\n",
              "4   7     NaN  ...  Just got sent this photo from Ruby #Alaska as ...      1\n",
              "\n",
              "[5 rows x 5 columns]"
            ]
          },
          "metadata": {},
          "execution_count": 10
        }
      ]
    },
    {
      "cell_type": "code",
      "metadata": {
        "id": "TJH0UMeNyAfp"
      },
      "source": [
        "# shuffle data\n",
        "train_df = train_df.sample(frac=1)"
      ],
      "execution_count": null,
      "outputs": []
    },
    {
      "cell_type": "code",
      "metadata": {
        "colab": {
          "base_uri": "https://localhost:8080/"
        },
        "id": "lb4TPkA3zMh6",
        "outputId": "95788227-c1df-481e-9c03-74985640ab4d"
      },
      "source": [
        "train_df['target'].value_counts()"
      ],
      "execution_count": null,
      "outputs": [
        {
          "output_type": "execute_result",
          "data": {
            "text/plain": [
              "0    4342\n",
              "1    3271\n",
              "Name: target, dtype: int64"
            ]
          },
          "metadata": {},
          "execution_count": 12
        }
      ]
    },
    {
      "cell_type": "code",
      "metadata": {
        "colab": {
          "base_uri": "https://localhost:8080/"
        },
        "id": "zMzXTBvrxjuO",
        "outputId": "2bb8834a-5680-4576-aec1-0822f3bf6ffb"
      },
      "source": [
        "# visualize some samples\n",
        "import random\n",
        "\n",
        "for i in range(5):\n",
        "  random_index = random.randint(0, len(train_df))\n",
        "  print(train_df['text'].iloc[random_index])\n",
        "  print(train_df['target'].iloc[random_index])\n",
        "  print(\"---\\n\")"
      ],
      "execution_count": null,
      "outputs": [
        {
          "output_type": "stream",
          "name": "stdout",
          "text": [
            "There has not been 1 real tear out of #Shelli 's eyes this entire episode. #bb17\n",
            "0\n",
            "---\n",
            "\n",
            "I guess ill never be able to go to mayhem...\n",
            "0\n",
            "---\n",
            "\n",
            "I was over here dreaming peacefully then that loud ass thunder wanted to scare me. ??\n",
            "1\n",
            "---\n",
            "\n",
            "That horrible sinking feeling when youÛªve been at home on your phone for a while and you realise its been on 3G this whole time.\n",
            "0\n",
            "---\n",
            "\n",
            "Brain twister homefolks are opinionated over against proposal modernized canada: oMw\n",
            "0\n",
            "---\n",
            "\n"
          ]
        }
      ]
    },
    {
      "cell_type": "code",
      "metadata": {
        "id": "ABWgnfCk3bRF"
      },
      "source": [
        "from sklearn.model_selection import train_test_split\n",
        "\n",
        "train_X, val_X, train_y, val_y = train_test_split(train_df['text'].to_numpy(),\n",
        "                                                  train_df['target'].to_numpy(),\n",
        "                                                  test_size=0.1)\n"
      ],
      "execution_count": null,
      "outputs": []
    },
    {
      "cell_type": "markdown",
      "metadata": {
        "id": "X2hs2Bkj55oA"
      },
      "source": [
        "# Tokenization"
      ]
    },
    {
      "cell_type": "markdown",
      "metadata": {
        "id": "5SvbbdDHAD_w"
      },
      "source": [
        "In order to Tokenize we need to specify a lenght for all the tokenized sentences and the size of the vocabulary. Let's find good parameters for both."
      ]
    },
    {
      "cell_type": "code",
      "metadata": {
        "colab": {
          "base_uri": "https://localhost:8080/"
        },
        "id": "AxA4mnhP6Uov",
        "outputId": "9a75e7da-96c5-4526-eba4-a4c11195cebb"
      },
      "source": [
        "# sentene size average\n",
        "round(sum(len(i.split(\" \"))for i in train_X)/len(train_X))\n",
        "\n"
      ],
      "execution_count": null,
      "outputs": [
        {
          "output_type": "execute_result",
          "data": {
            "text/plain": [
              "15"
            ]
          },
          "metadata": {},
          "execution_count": 15
        }
      ]
    },
    {
      "cell_type": "code",
      "metadata": {
        "colab": {
          "base_uri": "https://localhost:8080/"
        },
        "id": "KB1ymXMr-vo1",
        "outputId": "fde50bf8-7afd-4bbf-cfc0-183dfdbaad0f"
      },
      "source": [
        "# Show size of the vocabulary\n",
        "\n",
        "len(set(' '.join(train_X).split(\" \")))\n",
        "\n",
        "# ' '.join joins all the values in the np.array\n",
        "# split(\" \") splits by white space\n",
        "# set() convert the list to a set of unique values\n"
      ],
      "execution_count": null,
      "outputs": [
        {
          "output_type": "execute_result",
          "data": {
            "text/plain": [
              "29652"
            ]
          },
          "metadata": {},
          "execution_count": 16
        }
      ]
    },
    {
      "cell_type": "code",
      "metadata": {
        "id": "n1YuQvsmBq7M"
      },
      "source": [
        "# set Tokenizer\n",
        "from tensorflow.keras.layers import TextVectorization\n",
        "\n",
        "max_vocab_length = 10000\n",
        "max_length = 15\n",
        "\n",
        "\n",
        "text_vectorizer = TextVectorization(max_tokens = max_vocab_length,\n",
        "                                    output_sequence_length = max_length)"
      ],
      "execution_count": null,
      "outputs": []
    },
    {
      "cell_type": "code",
      "metadata": {
        "id": "HavKedGhCB0h"
      },
      "source": [
        "text_vectorizer.adapt(train_X)"
      ],
      "execution_count": null,
      "outputs": []
    },
    {
      "cell_type": "code",
      "metadata": {
        "colab": {
          "base_uri": "https://localhost:8080/"
        },
        "id": "prRByzBVCxJy",
        "outputId": "34acf1a4-8dee-4cf6-d8e4-12eefdeb92e9"
      },
      "source": [
        "# random sentence\n",
        "\n",
        "random_sentence = random.choice(train_X)\n",
        "print(random_sentence)\n",
        "text_vectorizer([random_sentence])"
      ],
      "execution_count": null,
      "outputs": [
        {
          "output_type": "stream",
          "name": "stdout",
          "text": [
            "Uribe just obliterated a baseball.\n"
          ]
        },
        {
          "output_type": "execute_result",
          "data": {
            "text/plain": [
              "<tf.Tensor: shape=(1, 15), dtype=int64, numpy=\n",
              "array([[3259,   28,  483,    3, 1904,    0,    0,    0,    0,    0,    0,\n",
              "           0,    0,    0,    0]])>"
            ]
          },
          "metadata": {},
          "execution_count": 19
        }
      ]
    },
    {
      "cell_type": "code",
      "metadata": {
        "colab": {
          "base_uri": "https://localhost:8080/"
        },
        "id": "Aml4T_n6DCdT",
        "outputId": "10c72949-4eae-49fd-d7af-940c8f1256c9"
      },
      "source": [
        "# check the words in the vocabulary\n",
        "\n",
        "vocabulary = text_vectorizer.get_vocabulary()\n",
        "\n",
        "print(f\"Size of the vocabulary: {len(vocabulary)}\")\n",
        "print(f\"Top 5 most common words: {vocabulary[:10]}\")\n",
        "print(f\"Top 5 less common words: {vocabulary[-10:]}\")"
      ],
      "execution_count": null,
      "outputs": [
        {
          "output_type": "stream",
          "name": "stdout",
          "text": [
            "Size of the vocabulary: 10000\n",
            "Top 5 most common words: ['', '[UNK]', 'the', 'a', 'in', 'to', 'of', 'and', 'i', 'is']\n",
            "Top 5 less common words: ['pandora', 'pandemoniumiso', 'panda', 'panay', 'panama', 'pan', 'pams', 'pampered', 'pampalmater', 'palmoil']\n"
          ]
        }
      ]
    },
    {
      "cell_type": "markdown",
      "metadata": {
        "id": "jSrxkp8oDzHs"
      },
      "source": [
        "# Embedding"
      ]
    },
    {
      "cell_type": "code",
      "metadata": {
        "id": "bpFzALrmETj2"
      },
      "source": [
        "from tensorflow.keras import layers"
      ],
      "execution_count": null,
      "outputs": []
    },
    {
      "cell_type": "code",
      "metadata": {
        "id": "Jfcg3lB0F42L"
      },
      "source": [
        "embedding = layers.Embedding(input_dim = max_vocab_length,\n",
        "                             output_dim = 128,\n",
        "                             input_length = max_length)"
      ],
      "execution_count": null,
      "outputs": []
    },
    {
      "cell_type": "code",
      "metadata": {
        "colab": {
          "base_uri": "https://localhost:8080/"
        },
        "id": "1B4vlzT7JDQV",
        "outputId": "b3544c43-ebc4-4f6d-e38d-337dc5305efe"
      },
      "source": [
        "# random sentence\n",
        "\n",
        "random_sentence = random.choice(train_X)\n",
        "\n",
        "print(random_sentence)\n",
        "print(\"---\\n\")\n",
        "print(text_vectorizer([random_sentence]))\n",
        "print(\"---\\n\")\n",
        "print(embedding(text_vectorizer([random_sentence])))\n",
        "print(\"---\\n\")\n",
        "\n",
        "print(f\"sentence length: {len(random_sentence)}\")\n",
        "print(f\"tokenizer vector shape: {text_vectorizer([random_sentence]).shape}\")\n",
        "print(f\"embedding shape: {embedding(text_vectorizer([random_sentence])).shape}\")\n"
      ],
      "execution_count": null,
      "outputs": [
        {
          "output_type": "stream",
          "name": "stdout",
          "text": [
            "@lauren_miller_7 she won't harm you\n",
            "---\n",
            "\n",
            "tf.Tensor([[  1 205 614 365  12   0   0   0   0   0   0   0   0   0   0]], shape=(1, 15), dtype=int64)\n",
            "---\n",
            "\n",
            "tf.Tensor(\n",
            "[[[-0.01157458  0.04921461 -0.04929483 ... -0.01241614  0.00243498\n",
            "   -0.02356727]\n",
            "  [ 0.02033425 -0.02430183  0.00327678 ...  0.01314323  0.00556104\n",
            "   -0.01779706]\n",
            "  [ 0.00227452 -0.03251087 -0.02050589 ... -0.02136606 -0.04120754\n",
            "   -0.02279681]\n",
            "  ...\n",
            "  [ 0.03122913 -0.00161781  0.02779105 ... -0.03231294 -0.02499832\n",
            "    0.03883935]\n",
            "  [ 0.03122913 -0.00161781  0.02779105 ... -0.03231294 -0.02499832\n",
            "    0.03883935]\n",
            "  [ 0.03122913 -0.00161781  0.02779105 ... -0.03231294 -0.02499832\n",
            "    0.03883935]]], shape=(1, 15, 128), dtype=float32)\n",
            "---\n",
            "\n",
            "sentence length: 35\n",
            "tokenizer vector shape: (1, 15)\n",
            "embedding shape: (1, 15, 128)\n"
          ]
        }
      ]
    },
    {
      "cell_type": "markdown",
      "metadata": {
        "id": "aomISlkhJOPV"
      },
      "source": [
        "# Model 1: TfidfVectorizer + MultinomialNB"
      ]
    },
    {
      "cell_type": "code",
      "metadata": {
        "colab": {
          "base_uri": "https://localhost:8080/"
        },
        "id": "61CAmva_MMzK",
        "outputId": "39e843b6-59f7-4043-fc5e-54730c1f1490"
      },
      "source": [
        "from sklearn.feature_extraction.text import TfidfVectorizer\n",
        "from sklearn.naive_bayes import MultinomialNB\n",
        "from sklearn.pipeline import Pipeline\n",
        "\n",
        "model_1 = Pipeline([\n",
        "                    (\"tfidf\", TfidfVectorizer()), \n",
        "                    (\"clf\", MultinomialNB())\n",
        "])\n",
        "\n",
        "model_1.fit(train_X, train_y)"
      ],
      "execution_count": null,
      "outputs": [
        {
          "output_type": "execute_result",
          "data": {
            "text/plain": [
              "Pipeline(memory=None,\n",
              "         steps=[('tfidf',\n",
              "                 TfidfVectorizer(analyzer='word', binary=False,\n",
              "                                 decode_error='strict',\n",
              "                                 dtype=<class 'numpy.float64'>,\n",
              "                                 encoding='utf-8', input='content',\n",
              "                                 lowercase=True, max_df=1.0, max_features=None,\n",
              "                                 min_df=1, ngram_range=(1, 1), norm='l2',\n",
              "                                 preprocessor=None, smooth_idf=True,\n",
              "                                 stop_words=None, strip_accents=None,\n",
              "                                 sublinear_tf=False,\n",
              "                                 token_pattern='(?u)\\\\b\\\\w\\\\w+\\\\b',\n",
              "                                 tokenizer=None, use_idf=True,\n",
              "                                 vocabulary=None)),\n",
              "                ('clf',\n",
              "                 MultinomialNB(alpha=1.0, class_prior=None, fit_prior=True))],\n",
              "         verbose=False)"
            ]
          },
          "metadata": {},
          "execution_count": 24
        }
      ]
    },
    {
      "cell_type": "code",
      "metadata": {
        "colab": {
          "base_uri": "https://localhost:8080/"
        },
        "id": "13bmDy4xNXXN",
        "outputId": "48a72a16-a365-471b-b793-8182002ce0ae"
      },
      "source": [
        "model_1_acc= model_1.score(val_X, val_y)\n",
        "model_1_acc"
      ],
      "execution_count": null,
      "outputs": [
        {
          "output_type": "execute_result",
          "data": {
            "text/plain": [
              "0.8162729658792651"
            ]
          },
          "metadata": {},
          "execution_count": 25
        }
      ]
    },
    {
      "cell_type": "markdown",
      "metadata": {
        "id": "IWztBi4xOlzK"
      },
      "source": [
        "# Model 2: Simple Neural Network"
      ]
    },
    {
      "cell_type": "code",
      "metadata": {
        "id": "JZt9Q98-PUqA"
      },
      "source": [
        "import tensorflow as tf\n",
        "from tensorflow.keras import layers\n",
        "from tensorflow.keras import Model\n",
        "\n",
        "input = layers.Input(shape=(1,), dtype='string')\n",
        "x = text_vectorizer(input)\n",
        "x = embedding(x)\n",
        "x = layers.GlobalAveragePooling1D()(x) # if Dense, val_accuracy = 0.65\n",
        "output = layers.Dense(1, activation='sigmoid')(x)\n",
        "\n",
        "model_2 = Model(input, output)\n"
      ],
      "execution_count": null,
      "outputs": []
    },
    {
      "cell_type": "code",
      "metadata": {
        "id": "eJo06eccaipH"
      },
      "source": [
        "model_2.compile(loss=\"binary_crossentropy\",\n",
        "                optimizer=tf.keras.optimizers.Adam(),\n",
        "                metrics=[\"accuracy\"])\n"
      ],
      "execution_count": null,
      "outputs": []
    },
    {
      "cell_type": "code",
      "metadata": {
        "colab": {
          "base_uri": "https://localhost:8080/"
        },
        "id": "fQik1svVaxtC",
        "outputId": "a96ef971-602d-41ad-9b90-f3549c4cbdeb"
      },
      "source": [
        "history_2 = model_2.fit(train_X, \n",
        "                      train_y,\n",
        "                      epochs = 5,\n",
        "                      validation_data= (val_X, val_y))"
      ],
      "execution_count": null,
      "outputs": [
        {
          "output_type": "stream",
          "name": "stdout",
          "text": [
            "Epoch 1/5\n",
            "215/215 [==============================] - 5s 8ms/step - loss: 0.6140 - accuracy: 0.6939 - val_loss: 0.5021 - val_accuracy: 0.8110\n",
            "Epoch 2/5\n",
            "215/215 [==============================] - 1s 6ms/step - loss: 0.4471 - accuracy: 0.8146 - val_loss: 0.4171 - val_accuracy: 0.8307\n",
            "Epoch 3/5\n",
            "215/215 [==============================] - 1s 6ms/step - loss: 0.3527 - accuracy: 0.8584 - val_loss: 0.3990 - val_accuracy: 0.8268\n",
            "Epoch 4/5\n",
            "215/215 [==============================] - 1s 6ms/step - loss: 0.2905 - accuracy: 0.8879 - val_loss: 0.4026 - val_accuracy: 0.8176\n",
            "Epoch 5/5\n",
            "215/215 [==============================] - 2s 7ms/step - loss: 0.2421 - accuracy: 0.9102 - val_loss: 0.4223 - val_accuracy: 0.8084\n"
          ]
        }
      ]
    },
    {
      "cell_type": "code",
      "metadata": {
        "colab": {
          "base_uri": "https://localhost:8080/"
        },
        "id": "gh2YBOhWcYya",
        "outputId": "82dc1bd9-d360-4fdc-dcbe-d9930c93fdb5"
      },
      "source": [
        "model_2_loss, model_2_acc = model_2.evaluate(val_X, val_y)\n",
        "model_2_acc"
      ],
      "execution_count": null,
      "outputs": [
        {
          "output_type": "stream",
          "name": "stdout",
          "text": [
            "24/24 [==============================] - 0s 4ms/step - loss: 0.4223 - accuracy: 0.8084\n"
          ]
        },
        {
          "output_type": "execute_result",
          "data": {
            "text/plain": [
              "0.808398962020874"
            ]
          },
          "metadata": {},
          "execution_count": 29
        }
      ]
    },
    {
      "cell_type": "markdown",
      "metadata": {
        "id": "7zJ9b5qW8D6h"
      },
      "source": [
        "# Model 2.2 Remake with tf.data.Dataset"
      ]
    },
    {
      "cell_type": "code",
      "metadata": {
        "colab": {
          "base_uri": "https://localhost:8080/"
        },
        "id": "MSFfrzkm8LfO",
        "outputId": "f3bda70b-8dee-49d0-e680-7630ea11ba8e"
      },
      "source": [
        "# Turn our data into TensorFlow Datasets\n",
        "train_dataset = tf.data.Dataset.from_tensor_slices((train_X, train_y))\n",
        "valid_dataset = tf.data.Dataset.from_tensor_slices((val_X, val_y))\n",
        "\n",
        "train_dataset"
      ],
      "execution_count": null,
      "outputs": [
        {
          "output_type": "execute_result",
          "data": {
            "text/plain": [
              "<TensorSliceDataset shapes: ((), ()), types: (tf.string, tf.int64)>"
            ]
          },
          "metadata": {},
          "execution_count": 30
        }
      ]
    },
    {
      "cell_type": "code",
      "metadata": {
        "colab": {
          "base_uri": "https://localhost:8080/"
        },
        "id": "-CrdSh978wwy",
        "outputId": "886f46fb-8fc2-4f09-cf94-7b785eecc438"
      },
      "source": [
        "train_dataset = train_dataset.batch(32).prefetch(tf.data.AUTOTUNE)\n",
        "valid_dataset = valid_dataset.batch(32).prefetch(tf.data.AUTOTUNE)\n",
        "\n",
        "train_dataset"
      ],
      "execution_count": null,
      "outputs": [
        {
          "output_type": "execute_result",
          "data": {
            "text/plain": [
              "<PrefetchDataset shapes: ((None,), (None,)), types: (tf.string, tf.int64)>"
            ]
          },
          "metadata": {},
          "execution_count": 31
        }
      ]
    },
    {
      "cell_type": "code",
      "metadata": {
        "id": "qvipgozR87jy"
      },
      "source": [
        "import tensorflow as tf\n",
        "from tensorflow.keras import layers\n",
        "from tensorflow.keras import Model\n",
        "\n",
        "input = layers.Input(shape=(1,), dtype='string')\n",
        "x = text_vectorizer(input)\n",
        "x = embedding(x)\n",
        "x = layers.GlobalAveragePooling1D()(x) # if Dense, val_accuracy = 0.65\n",
        "output = layers.Dense(1, activation='sigmoid')(x)\n",
        "\n",
        "model_2 = Model(input, output)\n"
      ],
      "execution_count": null,
      "outputs": []
    },
    {
      "cell_type": "code",
      "metadata": {
        "id": "bopGyOkC9IM_"
      },
      "source": [
        "model_2.compile(loss=\"binary_crossentropy\",\n",
        "                optimizer=tf.keras.optimizers.Adam(),\n",
        "                metrics=[\"accuracy\"])"
      ],
      "execution_count": null,
      "outputs": []
    },
    {
      "cell_type": "code",
      "metadata": {
        "colab": {
          "base_uri": "https://localhost:8080/"
        },
        "id": "-eqLe1nd9JfX",
        "outputId": "7e56640d-fda4-4913-f2b5-d4ad6bbbd6df"
      },
      "source": [
        "history_2 = model_2.fit(train_dataset,\n",
        "                      epochs = 5,\n",
        "                      validation_data=valid_dataset )"
      ],
      "execution_count": null,
      "outputs": [
        {
          "output_type": "stream",
          "name": "stdout",
          "text": [
            "Epoch 1/5\n",
            "215/215 [==============================] - 2s 7ms/step - loss: 0.5126 - accuracy: 0.8481 - val_loss: 0.4568 - val_accuracy: 0.8123\n",
            "Epoch 2/5\n",
            "215/215 [==============================] - 1s 6ms/step - loss: 0.3389 - accuracy: 0.8838 - val_loss: 0.4053 - val_accuracy: 0.8189\n",
            "Epoch 3/5\n",
            "215/215 [==============================] - 1s 6ms/step - loss: 0.2703 - accuracy: 0.9045 - val_loss: 0.4038 - val_accuracy: 0.8097\n",
            "Epoch 4/5\n",
            "215/215 [==============================] - 1s 6ms/step - loss: 0.2289 - accuracy: 0.9172 - val_loss: 0.4176 - val_accuracy: 0.8058\n",
            "Epoch 5/5\n",
            "215/215 [==============================] - 1s 6ms/step - loss: 0.1982 - accuracy: 0.9291 - val_loss: 0.4377 - val_accuracy: 0.8058\n"
          ]
        }
      ]
    },
    {
      "cell_type": "markdown",
      "metadata": {
        "id": "aHRSBiGddnwm"
      },
      "source": [
        "# Model 3: LSTM"
      ]
    },
    {
      "cell_type": "code",
      "metadata": {
        "id": "PlWwBjqBeXq4"
      },
      "source": [
        "from tensorflow.keras import layers\n",
        "from tensorflow.keras import Model"
      ],
      "execution_count": null,
      "outputs": []
    },
    {
      "cell_type": "code",
      "metadata": {
        "id": "XuuI1iSDeo8j"
      },
      "source": [
        "embedding_model_3 = layers.Embedding(input_dim = max_vocab_length,\n",
        "                             output_dim = 32,\n",
        "                             input_length = max_length)\n",
        "\n",
        "input = layers.Input(shape=(1,), dtype=\"string\")\n",
        "x = text_vectorizer(input)\n",
        "x = embedding_model_3(x)\n",
        "x = layers.LSTM(32)(x)\n",
        "output = layers.Dense(1, activation=\"sigmoid\")(x)\n",
        "\n",
        "model_3 = Model(input, output)"
      ],
      "execution_count": null,
      "outputs": []
    },
    {
      "cell_type": "code",
      "metadata": {
        "id": "jOm8qGKygJ3K"
      },
      "source": [
        "model_3.compile(loss=\"binary_crossentropy\",\n",
        "                optimizer=tf.keras.optimizers.Adam(learning_rate=0.001),\n",
        "                metrics=[\"accuracy\"])\n"
      ],
      "execution_count": null,
      "outputs": []
    },
    {
      "cell_type": "code",
      "metadata": {
        "colab": {
          "base_uri": "https://localhost:8080/"
        },
        "id": "FcwgIHeDgNEl",
        "outputId": "3855027a-091b-48c8-b625-b7b5c574e7da"
      },
      "source": [
        "history_3 = model_3.fit(train_X, \n",
        "                      train_y,\n",
        "                      epochs = 5,\n",
        "                      validation_data= (val_X, val_y), batch_size=32)"
      ],
      "execution_count": null,
      "outputs": [
        {
          "output_type": "stream",
          "name": "stdout",
          "text": [
            "Epoch 1/5\n",
            "215/215 [==============================] - 7s 11ms/step - loss: 0.5467 - accuracy: 0.7110 - val_loss: 0.4059 - val_accuracy: 0.8228\n",
            "Epoch 2/5\n",
            "215/215 [==============================] - 2s 8ms/step - loss: 0.3431 - accuracy: 0.8597 - val_loss: 0.4135 - val_accuracy: 0.8136\n",
            "Epoch 3/5\n",
            "215/215 [==============================] - 2s 8ms/step - loss: 0.2432 - accuracy: 0.9057 - val_loss: 0.5009 - val_accuracy: 0.8045\n",
            "Epoch 4/5\n",
            "215/215 [==============================] - 2s 8ms/step - loss: 0.1774 - accuracy: 0.9391 - val_loss: 0.6227 - val_accuracy: 0.7507\n",
            "Epoch 5/5\n",
            "215/215 [==============================] - 2s 8ms/step - loss: 0.1441 - accuracy: 0.9482 - val_loss: 0.6352 - val_accuracy: 0.7743\n"
          ]
        }
      ]
    },
    {
      "cell_type": "code",
      "metadata": {
        "colab": {
          "base_uri": "https://localhost:8080/"
        },
        "id": "R27C6p9agQ2n",
        "outputId": "895789b3-4490-406f-955a-627de80ed5e2"
      },
      "source": [
        "model_3_loss, model_3_acc = model_3.evaluate(val_X, val_y)\n",
        "model_3_acc"
      ],
      "execution_count": null,
      "outputs": [
        {
          "output_type": "stream",
          "name": "stdout",
          "text": [
            "24/24 [==============================] - 0s 5ms/step - loss: 0.6352 - accuracy: 0.7743\n"
          ]
        },
        {
          "output_type": "execute_result",
          "data": {
            "text/plain": [
              "0.7742782235145569"
            ]
          },
          "metadata": {},
          "execution_count": 39
        }
      ]
    },
    {
      "cell_type": "markdown",
      "metadata": {
        "id": "PVPxAq34hEaM"
      },
      "source": [
        "# Model 4: Convolutional"
      ]
    },
    {
      "cell_type": "code",
      "metadata": {
        "id": "qagdnwiAidPh"
      },
      "source": [
        "from tensorflow.keras import layers\n",
        "from tensorflow.keras import Model"
      ],
      "execution_count": null,
      "outputs": []
    },
    {
      "cell_type": "code",
      "metadata": {
        "id": "SfpG-0Y9ipQJ"
      },
      "source": [
        "embedding_model_4 = layers.Embedding(input_dim = max_vocab_length,\n",
        "                             output_dim = 32,\n",
        "                             input_length = max_length)\n",
        "\n",
        "input = layers.Input(shape=(1,), dtype=\"string\")\n",
        "x = text_vectorizer(input)\n",
        "x = embedding_model_3(x)\n",
        "x = layers.Conv1D(filters = 10,\n",
        "                  kernel_size = 12,\n",
        "                  activation = 'relu')(x)\n",
        "x = layers.GlobalAveragePooling1D()(x)\n",
        "output = layers.Dense(1, activation=\"sigmoid\")(x)\n",
        "\n",
        "model_4 = Model(input, output)\n",
        "               "
      ],
      "execution_count": null,
      "outputs": []
    },
    {
      "cell_type": "code",
      "metadata": {
        "id": "cAROg2W-lb-O",
        "colab": {
          "base_uri": "https://localhost:8080/",
          "height": 644
        },
        "outputId": "31635b8d-f9c6-49af-b575-f97d2e46d4b3"
      },
      "source": [
        "from tensorflow.keras.utils import plot_model\n",
        "plot_model(model_4, show_shapes=True)"
      ],
      "execution_count": null,
      "outputs": [
        {
          "output_type": "execute_result",
          "data": {
            "image/png": "[encoded data removed]",
            "text/plain": [
              "<IPython.core.display.Image object>"
            ]
          },
          "metadata": {},
          "execution_count": 42
        }
      ]
    },
    {
      "cell_type": "code",
      "metadata": {
        "id": "0shav82ji70V"
      },
      "source": [
        "model_4.compile(loss=\"binary_crossentropy\",\n",
        "                optimizer=tf.keras.optimizers.Adam(),\n",
        "                metrics=[\"accuracy\"])\n"
      ],
      "execution_count": null,
      "outputs": []
    },
    {
      "cell_type": "code",
      "metadata": {
        "colab": {
          "base_uri": "https://localhost:8080/"
        },
        "id": "RguRGs76nM7T",
        "outputId": "57a50b7c-9ddf-42ee-ac9d-ce4c6a8613f3"
      },
      "source": [
        "history_4 = model_4.fit(train_X, \n",
        "                      train_y,\n",
        "                      epochs = 5,\n",
        "                      validation_data= (val_X, val_y))"
      ],
      "execution_count": null,
      "outputs": [
        {
          "output_type": "stream",
          "name": "stdout",
          "text": [
            "Epoch 1/5\n",
            "215/215 [==============================] - 28s 8ms/step - loss: 0.3530 - accuracy: 0.8964 - val_loss: 0.4620 - val_accuracy: 0.7900\n",
            "Epoch 2/5\n",
            "215/215 [==============================] - 1s 6ms/step - loss: 0.1732 - accuracy: 0.9391 - val_loss: 0.5596 - val_accuracy: 0.7756\n",
            "Epoch 3/5\n",
            "215/215 [==============================] - 1s 6ms/step - loss: 0.1288 - accuracy: 0.9539 - val_loss: 0.6491 - val_accuracy: 0.7598\n",
            "Epoch 4/5\n",
            "215/215 [==============================] - 1s 7ms/step - loss: 0.1068 - accuracy: 0.9610 - val_loss: 0.6983 - val_accuracy: 0.7743\n",
            "Epoch 5/5\n",
            "215/215 [==============================] - 1s 6ms/step - loss: 0.0908 - accuracy: 0.9667 - val_loss: 0.7717 - val_accuracy: 0.7625\n"
          ]
        }
      ]
    },
    {
      "cell_type": "code",
      "metadata": {
        "colab": {
          "base_uri": "https://localhost:8080/"
        },
        "id": "hk7rF60tnbrr",
        "outputId": "eefa2697-a019-4335-d084-c726461eb86f"
      },
      "source": [
        "model_4_loss, model_4_acc = model_4.evaluate(val_X, val_y)\n",
        "model_4_acc"
      ],
      "execution_count": null,
      "outputs": [
        {
          "output_type": "stream",
          "name": "stdout",
          "text": [
            "24/24 [==============================] - 0s 4ms/step - loss: 0.7717 - accuracy: 0.7625\n"
          ]
        },
        {
          "output_type": "execute_result",
          "data": {
            "text/plain": [
              "0.7624672055244446"
            ]
          },
          "metadata": {},
          "execution_count": 45
        }
      ]
    },
    {
      "cell_type": "markdown",
      "metadata": {
        "id": "0l0XHFfhnfo9"
      },
      "source": [
        "# Model 5: Universal Sentence Encoder"
      ]
    },
    {
      "cell_type": "code",
      "metadata": {
        "id": "pa6qnA_boS8k"
      },
      "source": [
        "import tensorflow_hub as hub\n",
        "\n",
        "from tensorflow.keras import layers\n",
        "from tensorflow.keras import Model"
      ],
      "execution_count": null,
      "outputs": []
    },
    {
      "cell_type": "code",
      "metadata": {
        "id": "KCJYBTGqoX3n"
      },
      "source": [
        "sentence_encoder_layer = hub.KerasLayer(\"https://tfhub.dev/google/universal-sentence-encoder/4\",\n",
        "                                        trainable=False,\n",
        "                                        name=\"USE\")"
      ],
      "execution_count": null,
      "outputs": []
    },
    {
      "cell_type": "code",
      "metadata": {
        "id": "3oXm6urTo8yd"
      },
      "source": [
        "input = layers.Input(shape=[] , dtype=tf.string)\n",
        "x = sentence_encoder_layer(input)\n",
        "x = layers.Dense(64, activation=\"relu\")(x)\n",
        "output = layers.Dense(1, activation=\"sigmoid\")(x)\n",
        "\n",
        "model_5 = Model(input, output)"
      ],
      "execution_count": null,
      "outputs": []
    },
    {
      "cell_type": "code",
      "metadata": {
        "id": "cledfwolpRgQ"
      },
      "source": [
        "model_5.compile(loss=\"binary_crossentropy\",\n",
        "                optimizer=tf.keras.optimizers.Adam(),\n",
        "                metrics=[\"accuracy\"])\n"
      ],
      "execution_count": null,
      "outputs": []
    },
    {
      "cell_type": "code",
      "metadata": {
        "colab": {
          "base_uri": "https://localhost:8080/"
        },
        "id": "M4c947DmsZM8",
        "outputId": "3ec4d09a-10a2-47c7-d30c-2460262f46cf"
      },
      "source": [
        "history_5 = model_5.fit(train_X, \n",
        "                      train_y,\n",
        "                      epochs = 5,\n",
        "                      validation_data= (val_X, val_y))"
      ],
      "execution_count": null,
      "outputs": [
        {
          "output_type": "stream",
          "name": "stdout",
          "text": [
            "Epoch 1/5\n",
            "215/215 [==============================] - 7s 19ms/step - loss: 0.5074 - accuracy: 0.7738 - val_loss: 0.4088 - val_accuracy: 0.8294\n",
            "Epoch 2/5\n",
            "215/215 [==============================] - 4s 17ms/step - loss: 0.4187 - accuracy: 0.8148 - val_loss: 0.3951 - val_accuracy: 0.8294\n",
            "Epoch 3/5\n",
            "215/215 [==============================] - 4s 17ms/step - loss: 0.4052 - accuracy: 0.8197 - val_loss: 0.3961 - val_accuracy: 0.8307\n",
            "Epoch 4/5\n",
            "215/215 [==============================] - 4s 17ms/step - loss: 0.3964 - accuracy: 0.8259 - val_loss: 0.3901 - val_accuracy: 0.8281\n",
            "Epoch 5/5\n",
            "215/215 [==============================] - 4s 17ms/step - loss: 0.3898 - accuracy: 0.8305 - val_loss: 0.3929 - val_accuracy: 0.8360\n"
          ]
        }
      ]
    },
    {
      "cell_type": "code",
      "metadata": {
        "colab": {
          "base_uri": "https://localhost:8080/"
        },
        "id": "INWqdJbYsfyP",
        "outputId": "bdb83ec8-4eb1-40b6-ffae-3cf2d400de34"
      },
      "source": [
        "model_5_loss, model_5_acc = model_5.evaluate(val_X, val_y)\n",
        "model_5_acc"
      ],
      "execution_count": null,
      "outputs": [
        {
          "output_type": "stream",
          "name": "stdout",
          "text": [
            "24/24 [==============================] - 0s 15ms/step - loss: 0.3929 - accuracy: 0.8360\n"
          ]
        },
        {
          "output_type": "execute_result",
          "data": {
            "text/plain": [
              "0.8359580039978027"
            ]
          },
          "metadata": {},
          "execution_count": 51
        }
      ]
    },
    {
      "cell_type": "markdown",
      "metadata": {
        "id": "qZ753srns4ML"
      },
      "source": [
        "# Model 6: Character embedding"
      ]
    },
    {
      "cell_type": "code",
      "metadata": {
        "id": "N0ZJFARu1dY3"
      },
      "source": [
        "def split_chars(text):\n",
        "  return \" \".join(list(text))"
      ],
      "execution_count": null,
      "outputs": []
    },
    {
      "cell_type": "code",
      "metadata": {
        "id": "jL7lkLfV28UQ"
      },
      "source": [
        "train_chars = [split_chars(sentence) for sentence in train_X]\n",
        "val_chars = [split_chars(sentence) for sentence in val_X]\n"
      ],
      "execution_count": null,
      "outputs": []
    },
    {
      "cell_type": "markdown",
      "metadata": {
        "id": "DaxEwS1k6htd"
      },
      "source": [
        "Find tokenizer vector size and vocabulary size\n"
      ]
    },
    {
      "cell_type": "code",
      "metadata": {
        "colab": {
          "base_uri": "https://localhost:8080/"
        },
        "id": "EkGt__vo8yVF",
        "outputId": "262c55ad-c78c-4e48-af5e-c82890e2da48"
      },
      "source": [
        "# sentene size average\n",
        "len_char = round(sum(len(i.split(\" \"))for i in train_chars)/len(train_chars))\n",
        "len_char"
      ],
      "execution_count": null,
      "outputs": [
        {
          "output_type": "execute_result",
          "data": {
            "text/plain": [
              "115"
            ]
          },
          "metadata": {},
          "execution_count": 54
        }
      ]
    },
    {
      "cell_type": "code",
      "metadata": {
        "colab": {
          "base_uri": "https://localhost:8080/",
          "height": 36
        },
        "id": "ooDsm_lr3yLh",
        "outputId": "f574b53c-481e-4ee4-b126-7fc2f8b59a7d"
      },
      "source": [
        "# Get all keyboard characters for char-level embedding\n",
        "import string\n",
        "alphabet = string.ascii_lowercase + string.digits + string.punctuation\n",
        "alphabet"
      ],
      "execution_count": null,
      "outputs": [
        {
          "output_type": "execute_result",
          "data": {
            "application/vnd.google.colaboratory.intrinsic+json": {
              "type": "string"
            },
            "text/plain": [
              "'abcdefghijklmnopqrstuvwxyz0123456789!\"#$%&\\'()*+,-./:;<=>?@[\\\\]^_`{|}~'"
            ]
          },
          "metadata": {},
          "execution_count": 55
        }
      ]
    },
    {
      "cell_type": "code",
      "metadata": {
        "id": "QwNexhwS4Lgp"
      },
      "source": [
        "vocabulary = len(alphabet) + 2 # num characters in alphabet + space + OOV token\n",
        "char_vectorizer = TextVectorization(max_tokens=vocabulary,  \n",
        "                                    output_sequence_length = len_char)\n",
        "\n",
        "char_vectorizer.adapt(train_chars)"
      ],
      "execution_count": null,
      "outputs": []
    },
    {
      "cell_type": "code",
      "metadata": {
        "colab": {
          "base_uri": "https://localhost:8080/"
        },
        "id": "8gmSSIV44sj8",
        "outputId": "1617a575-9ca1-4be0-db2d-081ed96c25de"
      },
      "source": [
        "# Check character vocabulary characteristics\n",
        "char_vocab = char_vectorizer.get_vocabulary()\n",
        "print(f\"Number of different characters in character vocab: {len(char_vocab)}\")\n",
        "print(f\"5 most common characters: {char_vocab[:5]}\")\n",
        "print(f\"5 least common characters: {char_vocab[-5:]}\")"
      ],
      "execution_count": null,
      "outputs": [
        {
          "output_type": "stream",
          "name": "stdout",
          "text": [
            "Number of different characters in character vocab: 66\n",
            "5 most common characters: ['', '[UNK]', 'e', 't', 'a']\n",
            "5 least common characters: ['«', 'â', 'Â', '´', '¬']\n"
          ]
        }
      ]
    },
    {
      "cell_type": "markdown",
      "metadata": {
        "id": "-8OooVLp4s9Q"
      },
      "source": [
        "## Embedding"
      ]
    },
    {
      "cell_type": "code",
      "metadata": {
        "id": "lxnjaQwE5JCi"
      },
      "source": [
        "char_embed = layers.Embedding(input_dim=vocabulary, # number of different characters\n",
        "                              output_dim=25)"
      ],
      "execution_count": null,
      "outputs": []
    },
    {
      "cell_type": "markdown",
      "metadata": {
        "id": "EsOmOvuu5JpU"
      },
      "source": [
        "## Model"
      ]
    },
    {
      "cell_type": "code",
      "metadata": {
        "id": "PLgEEAC05OhE"
      },
      "source": [
        "from tensorflow.keras import layers\n",
        "from tensorflow.keras import Model\n",
        "import numpy as np\n",
        "\n",
        "input = layers.Input(shape=(1,), dtype=\"string\")\n",
        "x = char_vectorizer(input)\n",
        "x = char_embed(x)\n",
        "x = layers.GlobalMaxPool1D()(x)\n",
        "output = layers.Dense(1, activation=\"sigmoid\")(x)\n",
        "model_6 = Model(input, output)\n",
        "\n"
      ],
      "execution_count": null,
      "outputs": []
    },
    {
      "cell_type": "code",
      "metadata": {
        "id": "WqFQd6rLAayX"
      },
      "source": [
        "model_6.compile(loss=\"binary_crossentropy\",\n",
        "                optimizer=tf.keras.optimizers.Adam(),\n",
        "                metrics=[\"accuracy\"])"
      ],
      "execution_count": null,
      "outputs": []
    },
    {
      "cell_type": "code",
      "metadata": {
        "colab": {
          "base_uri": "https://localhost:8080/"
        },
        "id": "fa0hNIuW5XIB",
        "outputId": "ac31f830-a708-430a-970f-269925ee7646"
      },
      "source": [
        "history_6 = model_6.fit(np.array(train_chars), \n",
        "                      train_y,\n",
        "                      epochs = 5,\n",
        "                      validation_data= (np.array(val_chars), val_y))"
      ],
      "execution_count": null,
      "outputs": [
        {
          "output_type": "stream",
          "name": "stdout",
          "text": [
            "Epoch 1/5\n",
            "215/215 [==============================] - 3s 8ms/step - loss: 0.6795 - accuracy: 0.5693 - val_loss: 0.6644 - val_accuracy: 0.5932\n",
            "Epoch 2/5\n",
            "215/215 [==============================] - 2s 7ms/step - loss: 0.6624 - accuracy: 0.6021 - val_loss: 0.6484 - val_accuracy: 0.6181\n",
            "Epoch 3/5\n",
            "215/215 [==============================] - 2s 7ms/step - loss: 0.6542 - accuracy: 0.6081 - val_loss: 0.6420 - val_accuracy: 0.6273\n",
            "Epoch 4/5\n",
            "215/215 [==============================] - 2s 7ms/step - loss: 0.6515 - accuracy: 0.6148 - val_loss: 0.6394 - val_accuracy: 0.6260\n",
            "Epoch 5/5\n",
            "215/215 [==============================] - 2s 7ms/step - loss: 0.6499 - accuracy: 0.6142 - val_loss: 0.6390 - val_accuracy: 0.6273\n"
          ]
        }
      ]
    },
    {
      "cell_type": "markdown",
      "metadata": {
        "id": "NmK_RFKa5l_i"
      },
      "source": [
        "# Model 7: BERT"
      ]
    },
    {
      "cell_type": "code",
      "metadata": {
        "id": "F8R-qIYqsRou",
        "colab": {
          "base_uri": "https://localhost:8080/"
        },
        "outputId": "630239f9-07e4-429c-dbc2-938d8db82528"
      },
      "source": [
        "! pip install -q -U tensorflow-text\n"
      ],
      "execution_count": null,
      "outputs": [
        {
          "output_type": "stream",
          "name": "stdout",
          "text": [
            "\u001b[K     |████████████████████████████████| 4.4 MB 11.4 MB/s \n",
            "\u001b[?25h"
          ]
        }
      ]
    },
    {
      "cell_type": "code",
      "metadata": {
        "id": "v2ghauStn7o4"
      },
      "source": [
        "import tensorflow_text\n",
        "import tensorflow_hub as hub\n",
        "from tensorflow.keras import layers\n",
        "from tensorflow.keras import Model\n",
        "\n",
        "preprocessor = hub.KerasLayer(\"https://tfhub.dev/tensorflow/bert_en_uncased_preprocess/3\")\n",
        "encoder = hub.KerasLayer(\"https://tfhub.dev/tensorflow/small_bert/bert_en_uncased_L-4_H-512_A-8/2\", trainable=False)\n",
        "\n",
        "inputs = layers.Input(shape=(), dtype=\"string\")\n",
        "encoder_inputs = preprocessor(inputs)\n",
        "outputs = encoder(encoder_inputs)\n",
        "pooled_output = outputs[\"pooled_output\"]      # [batch_size, 512]\n",
        "net = layers.Dropout(0.1)(pooled_output)\n",
        "net = layers.Dense(1, activation='sigmoid')(net)\n",
        "embedding_model = Model(inputs, net)\n",
        "\n"
      ],
      "execution_count": null,
      "outputs": []
    },
    {
      "cell_type": "code",
      "metadata": {
        "colab": {
          "base_uri": "https://localhost:8080/"
        },
        "id": "u-UzlkzkC3q5",
        "outputId": "9754ddda-d458-4f90-f046-63caf94c1f53"
      },
      "source": [
        "for layer in embedding_model.layers:\n",
        "  print(layer.trainable)"
      ],
      "execution_count": null,
      "outputs": [
        {
          "output_type": "stream",
          "name": "stdout",
          "text": [
            "True\n",
            "False\n",
            "False\n",
            "True\n",
            "True\n"
          ]
        }
      ]
    },
    {
      "cell_type": "code",
      "metadata": {
        "id": "IhdtSsRkoXLC"
      },
      "source": [
        "embedding_model.compile(loss=\"binary_crossentropy\",\n",
        "                optimizer=tf.keras.optimizers.Adam(),\n",
        "                metrics=[\"accuracy\"])"
      ],
      "execution_count": null,
      "outputs": []
    },
    {
      "cell_type": "code",
      "metadata": {
        "id": "zQAPTVt3-EGX"
      },
      "source": [
        "checkpoint_path = \"model_checkpoints_weights/checkpoint\" \n",
        "\n",
        "\n",
        "checkpoint_callback = tf.keras.callbacks.ModelCheckpoint(filepath=checkpoint_path,\n",
        "                                                         monitor=\"val_accuracy\", \n",
        "                                                         save_weights_only=True, # set to False to save the entire model\n",
        "                                                         save_best_only=True, # set to True to save only the best model instead of a model every epoch \n",
        "                                                       # save_freq=\"epoch\", # save every epoch (se sobreescriben, osea se guardan los de la ultima epoch)\n",
        "                                                  verbose=1)"
      ],
      "execution_count": null,
      "outputs": []
    },
    {
      "cell_type": "code",
      "metadata": {
        "colab": {
          "base_uri": "https://localhost:8080/"
        },
        "id": "EZooAeDZs7ji",
        "outputId": "4bd1456d-7afd-4714-d1e1-bbdd5a2a1e6a"
      },
      "source": [
        "history_7 = embedding_model.fit(train_X, \n",
        "                      train_y,\n",
        "                      epochs = 5,\n",
        "                      validation_data= (val_X, val_y), batch_size=64, callbacks=[checkpoint_callback])"
      ],
      "execution_count": null,
      "outputs": [
        {
          "output_type": "stream",
          "name": "stdout",
          "text": [
            "Epoch 1/5\n",
            "108/108 [==============================] - 54s 461ms/step - loss: 0.5959 - accuracy: 0.6908 - val_loss: 0.5372 - val_accuracy: 0.7467\n",
            "\n",
            "Epoch 00001: val_accuracy improved from -inf to 0.74672, saving model to model_checkpoints_weights/checkpoint\n",
            "Epoch 2/5\n",
            "108/108 [==============================] - 49s 455ms/step - loss: 0.5324 - accuracy: 0.7481 - val_loss: 0.4963 - val_accuracy: 0.7795\n",
            "\n",
            "Epoch 00002: val_accuracy improved from 0.74672 to 0.77953, saving model to model_checkpoints_weights/checkpoint\n",
            "Epoch 3/5\n",
            "108/108 [==============================] - 49s 457ms/step - loss: 0.5080 - accuracy: 0.7605 - val_loss: 0.4818 - val_accuracy: 0.7769\n",
            "\n",
            "Epoch 00003: val_accuracy did not improve from 0.77953\n",
            "Epoch 4/5\n",
            "108/108 [==============================] - 49s 459ms/step - loss: 0.4960 - accuracy: 0.7694 - val_loss: 0.4732 - val_accuracy: 0.7927\n",
            "\n",
            "Epoch 00004: val_accuracy improved from 0.77953 to 0.79265, saving model to model_checkpoints_weights/checkpoint\n",
            "Epoch 5/5\n",
            "108/108 [==============================] - 49s 456ms/step - loss: 0.4912 - accuracy: 0.7755 - val_loss: 0.4680 - val_accuracy: 0.7966\n",
            "\n",
            "Epoch 00005: val_accuracy improved from 0.79265 to 0.79659, saving model to model_checkpoints_weights/checkpoint\n"
          ]
        }
      ]
    }
  ]
}