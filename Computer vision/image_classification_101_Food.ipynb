{
  "nbformat": 4,
  "nbformat_minor": 0,
  "metadata": {
    "accelerator": "GPU",
    "colab": {
      "name": "image-classification-101-Food.ipynb",
      "provenance": [],
      "collapsed_sections": [],
      "authorship_tag": "ABX9TyNSc2sD1Xet8QqWLfgCPAtT",
      "include_colab_link": true
    },
    "kernelspec": {
      "display_name": "Python 3",
      "name": "python3"
    },
    "language_info": {
      "name": "python"
    }
  },
  "cells": [
    {
      "cell_type": "markdown",
      "metadata": {
        "id": "view-in-github",
        "colab_type": "text"
      },
      "source": [
        "<a href=\"https://colab.research.google.com/github/Adricarpin/TensorFlow-notebooks/blob/master/Computer%20vision/image_classification_101_Food.ipynb\" target=\"_parent\"><img src=\"https://colab.research.google.com/assets/colab-badge.svg\" alt=\"Open In Colab\"/></a>"
      ]
    },
    {
      "cell_type": "markdown",
      "metadata": {
        "id": "xN7q3K5wicP1"
      },
      "source": [
        "# Load data"
      ]
    },
    {
      "cell_type": "code",
      "metadata": {
        "colab": {
          "base_uri": "https://localhost:8080/"
        },
        "id": "maDVTs9Kiero",
        "outputId": "fdf068f5-eb84-4b7a-a244-859348c9218d"
      },
      "source": [
        "! wget http://data.vision.ee.ethz.ch/cvl/food-101.tar.gz"
      ],
      "execution_count": null,
      "outputs": [
        {
          "name": "stdout",
          "output_type": "stream",
          "text": [
            "--2021-11-07 08:27:07--  http://data.vision.ee.ethz.ch/cvl/food-101.tar.gz\n",
            "Resolving data.vision.ee.ethz.ch (data.vision.ee.ethz.ch)... 129.132.52.178, 2001:67c:10ec:36c2::178\n",
            "Connecting to data.vision.ee.ethz.ch (data.vision.ee.ethz.ch)|129.132.52.178|:80... connected.\n",
            "HTTP request sent, awaiting response... 302 Found\n",
            "Location: https://data.vision.ee.ethz.ch/cvl/food-101.tar.gz [following]\n",
            "--2021-11-07 08:27:08--  https://data.vision.ee.ethz.ch/cvl/food-101.tar.gz\n",
            "Connecting to data.vision.ee.ethz.ch (data.vision.ee.ethz.ch)|129.132.52.178|:443... connected.\n",
            "HTTP request sent, awaiting response... 200 OK\n",
            "Length: 4996278331 (4.7G) [application/x-gzip]\n",
            "Saving to: ‘food-101.tar.gz’\n",
            "\n",
            "food-101.tar.gz     100%[===================>]   4.65G  10.3MB/s    in 7m 30s  \n",
            "\n",
            "2021-11-07 08:34:39 (10.6 MB/s) - ‘food-101.tar.gz’ saved [4996278331/4996278331]\n",
            "\n"
          ]
        }
      ]
    },
    {
      "cell_type": "code",
      "metadata": {
        "id": "1dznGomcj-XO"
      },
      "source": [
        "! tar xzf food-101.tar.gz"
      ],
      "execution_count": null,
      "outputs": []
    },
    {
      "cell_type": "markdown",
      "metadata": {
        "id": "1c1jssFkwLK2"
      },
      "source": [
        "# Become one with data"
      ]
    },
    {
      "cell_type": "code",
      "metadata": {
        "id": "MFM2AVlwwTKK"
      },
      "source": [
        "train_dir = 'food-101/images/'"
      ],
      "execution_count": null,
      "outputs": []
    },
    {
      "cell_type": "markdown",
      "metadata": {
        "id": "la71dbzwWV68"
      },
      "source": [
        "Show number of folders and number of images per folder:"
      ]
    },
    {
      "cell_type": "code",
      "metadata": {
        "colab": {
          "base_uri": "https://localhost:8080/"
        },
        "id": "pVUwryxEwP4D",
        "outputId": "9b4ab590-cda8-4786-ba56-de1c34b44c14"
      },
      "source": [
        "import os\n",
        "for dirpath, dirnames, filenames in os.walk(train_dir): \n",
        "  print(f\"There are {len(dirnames)} directories and {len(filenames)} images in '{dirpath}'.\")"
      ],
      "execution_count": null,
      "outputs": [
        {
          "name": "stdout",
          "output_type": "stream",
          "text": [
            "There are 101 directories and 0 images in 'food-101/images/'.\n",
            "There are 0 directories and 1000 images in 'food-101/images/pad_thai'.\n",
            "There are 0 directories and 1000 images in 'food-101/images/cheese_plate'.\n",
            "There are 0 directories and 1000 images in 'food-101/images/guacamole'.\n",
            "There are 0 directories and 1000 images in 'food-101/images/grilled_cheese_sandwich'.\n",
            "There are 0 directories and 1000 images in 'food-101/images/fish_and_chips'.\n",
            "There are 0 directories and 1000 images in 'food-101/images/sushi'.\n",
            "There are 0 directories and 1000 images in 'food-101/images/cheesecake'.\n",
            "There are 0 directories and 1000 images in 'food-101/images/french_toast'.\n",
            "There are 0 directories and 1000 images in 'food-101/images/carrot_cake'.\n",
            "There are 0 directories and 1000 images in 'food-101/images/chicken_wings'.\n",
            "There are 0 directories and 1000 images in 'food-101/images/macaroni_and_cheese'.\n",
            "There are 0 directories and 1000 images in 'food-101/images/falafel'.\n",
            "There are 0 directories and 1000 images in 'food-101/images/caprese_salad'.\n",
            "There are 0 directories and 1000 images in 'food-101/images/caesar_salad'.\n",
            "There are 0 directories and 1000 images in 'food-101/images/apple_pie'.\n",
            "There are 0 directories and 1000 images in 'food-101/images/churros'.\n",
            "There are 0 directories and 1000 images in 'food-101/images/tacos'.\n",
            "There are 0 directories and 1000 images in 'food-101/images/bread_pudding'.\n",
            "There are 0 directories and 1000 images in 'food-101/images/lasagna'.\n",
            "There are 0 directories and 1000 images in 'food-101/images/bruschetta'.\n",
            "There are 0 directories and 1000 images in 'food-101/images/escargots'.\n",
            "There are 0 directories and 1000 images in 'food-101/images/baby_back_ribs'.\n",
            "There are 0 directories and 1000 images in 'food-101/images/hummus'.\n",
            "There are 0 directories and 1000 images in 'food-101/images/bibimbap'.\n",
            "There are 0 directories and 1000 images in 'food-101/images/ravioli'.\n",
            "There are 0 directories and 1000 images in 'food-101/images/baklava'.\n",
            "There are 0 directories and 1000 images in 'food-101/images/prime_rib'.\n",
            "There are 0 directories and 1000 images in 'food-101/images/pancakes'.\n",
            "There are 0 directories and 1000 images in 'food-101/images/gnocchi'.\n",
            "There are 0 directories and 1000 images in 'food-101/images/french_fries'.\n",
            "There are 0 directories and 1000 images in 'food-101/images/hot_dog'.\n",
            "There are 0 directories and 1000 images in 'food-101/images/cannoli'.\n",
            "There are 0 directories and 1000 images in 'food-101/images/steak'.\n",
            "There are 0 directories and 1000 images in 'food-101/images/spaghetti_carbonara'.\n",
            "There are 0 directories and 1000 images in 'food-101/images/beet_salad'.\n",
            "There are 0 directories and 1000 images in 'food-101/images/scallops'.\n",
            "There are 0 directories and 1000 images in 'food-101/images/beef_carpaccio'.\n",
            "There are 0 directories and 1000 images in 'food-101/images/poutine'.\n",
            "There are 0 directories and 1000 images in 'food-101/images/peking_duck'.\n",
            "There are 0 directories and 1000 images in 'food-101/images/beef_tartare'.\n",
            "There are 0 directories and 1000 images in 'food-101/images/red_velvet_cake'.\n",
            "There are 0 directories and 1000 images in 'food-101/images/chocolate_cake'.\n",
            "There are 0 directories and 1000 images in 'food-101/images/seaweed_salad'.\n",
            "There are 0 directories and 1000 images in 'food-101/images/sashimi'.\n",
            "There are 0 directories and 1000 images in 'food-101/images/pho'.\n",
            "There are 0 directories and 1000 images in 'food-101/images/spaghetti_bolognese'.\n",
            "There are 0 directories and 1000 images in 'food-101/images/garlic_bread'.\n",
            "There are 0 directories and 1000 images in 'food-101/images/croque_madame'.\n",
            "There are 0 directories and 1000 images in 'food-101/images/grilled_salmon'.\n",
            "There are 0 directories and 1000 images in 'food-101/images/fried_rice'.\n",
            "There are 0 directories and 1000 images in 'food-101/images/spring_rolls'.\n",
            "There are 0 directories and 1000 images in 'food-101/images/risotto'.\n",
            "There are 0 directories and 1000 images in 'food-101/images/donuts'.\n",
            "There are 0 directories and 1000 images in 'food-101/images/huevos_rancheros'.\n",
            "There are 0 directories and 1000 images in 'food-101/images/samosa'.\n",
            "There are 0 directories and 1000 images in 'food-101/images/edamame'.\n",
            "There are 0 directories and 1000 images in 'food-101/images/dumplings'.\n",
            "There are 0 directories and 1000 images in 'food-101/images/tuna_tartare'.\n",
            "There are 0 directories and 1000 images in 'food-101/images/club_sandwich'.\n",
            "There are 0 directories and 1000 images in 'food-101/images/tiramisu'.\n",
            "There are 0 directories and 1000 images in 'food-101/images/clam_chowder'.\n",
            "There are 0 directories and 1000 images in 'food-101/images/chicken_curry'.\n",
            "There are 0 directories and 1000 images in 'food-101/images/foie_gras'.\n",
            "There are 0 directories and 1000 images in 'food-101/images/eggs_benedict'.\n",
            "There are 0 directories and 1000 images in 'food-101/images/gyoza'.\n",
            "There are 0 directories and 1000 images in 'food-101/images/panna_cotta'.\n",
            "There are 0 directories and 1000 images in 'food-101/images/hamburger'.\n",
            "There are 0 directories and 1000 images in 'food-101/images/hot_and_sour_soup'.\n",
            "There are 0 directories and 1000 images in 'food-101/images/french_onion_soup'.\n",
            "There are 0 directories and 1000 images in 'food-101/images/nachos'.\n",
            "There are 0 directories and 1000 images in 'food-101/images/strawberry_shortcake'.\n",
            "There are 0 directories and 1000 images in 'food-101/images/greek_salad'.\n",
            "There are 0 directories and 1000 images in 'food-101/images/pulled_pork_sandwich'.\n",
            "There are 0 directories and 1000 images in 'food-101/images/ramen'.\n",
            "There are 0 directories and 1000 images in 'food-101/images/miso_soup'.\n",
            "There are 0 directories and 1000 images in 'food-101/images/breakfast_burrito'.\n",
            "There are 0 directories and 1000 images in 'food-101/images/cup_cakes'.\n",
            "There are 0 directories and 1000 images in 'food-101/images/oysters'.\n",
            "There are 0 directories and 1000 images in 'food-101/images/ice_cream'.\n",
            "There are 0 directories and 1000 images in 'food-101/images/paella'.\n",
            "There are 0 directories and 1000 images in 'food-101/images/beignets'.\n",
            "There are 0 directories and 1000 images in 'food-101/images/takoyaki'.\n",
            "There are 0 directories and 1000 images in 'food-101/images/creme_brulee'.\n",
            "There are 0 directories and 1000 images in 'food-101/images/waffles'.\n",
            "There are 0 directories and 1000 images in 'food-101/images/filet_mignon'.\n",
            "There are 0 directories and 1000 images in 'food-101/images/lobster_bisque'.\n",
            "There are 0 directories and 1000 images in 'food-101/images/fried_calamari'.\n",
            "There are 0 directories and 1000 images in 'food-101/images/frozen_yogurt'.\n",
            "There are 0 directories and 1000 images in 'food-101/images/macarons'.\n",
            "There are 0 directories and 1000 images in 'food-101/images/onion_rings'.\n",
            "There are 0 directories and 1000 images in 'food-101/images/lobster_roll_sandwich'.\n",
            "There are 0 directories and 1000 images in 'food-101/images/crab_cakes'.\n",
            "There are 0 directories and 1000 images in 'food-101/images/pork_chop'.\n",
            "There are 0 directories and 1000 images in 'food-101/images/chocolate_mousse'.\n",
            "There are 0 directories and 1000 images in 'food-101/images/deviled_eggs'.\n",
            "There are 0 directories and 1000 images in 'food-101/images/chicken_quesadilla'.\n",
            "There are 0 directories and 1000 images in 'food-101/images/omelette'.\n",
            "There are 0 directories and 1000 images in 'food-101/images/shrimp_and_grits'.\n",
            "There are 0 directories and 1000 images in 'food-101/images/pizza'.\n",
            "There are 0 directories and 1000 images in 'food-101/images/mussels'.\n",
            "There are 0 directories and 1000 images in 'food-101/images/ceviche'.\n"
          ]
        }
      ]
    },
    {
      "cell_type": "code",
      "metadata": {
        "colab": {
          "base_uri": "https://localhost:8080/"
        },
        "id": "CshxBa52yC3w",
        "outputId": "5f32188e-ce90-4521-8016-d4d77e6dae5d"
      },
      "source": [
        "import pathlib\n",
        "import numpy as np\n",
        "data_dir = pathlib.Path(\"food-101/images\") \n",
        "class_names = np.array(sorted([item.name for item in data_dir.glob('*')])) \n",
        "print(class_names)"
      ],
      "execution_count": null,
      "outputs": [
        {
          "name": "stdout",
          "output_type": "stream",
          "text": [
            "['apple_pie' 'baby_back_ribs' 'baklava' 'beef_carpaccio' 'beef_tartare'\n",
            " 'beet_salad' 'beignets' 'bibimbap' 'bread_pudding' 'breakfast_burrito'\n",
            " 'bruschetta' 'caesar_salad' 'cannoli' 'caprese_salad' 'carrot_cake'\n",
            " 'ceviche' 'cheese_plate' 'cheesecake' 'chicken_curry'\n",
            " 'chicken_quesadilla' 'chicken_wings' 'chocolate_cake' 'chocolate_mousse'\n",
            " 'churros' 'clam_chowder' 'club_sandwich' 'crab_cakes' 'creme_brulee'\n",
            " 'croque_madame' 'cup_cakes' 'deviled_eggs' 'donuts' 'dumplings' 'edamame'\n",
            " 'eggs_benedict' 'escargots' 'falafel' 'filet_mignon' 'fish_and_chips'\n",
            " 'foie_gras' 'french_fries' 'french_onion_soup' 'french_toast'\n",
            " 'fried_calamari' 'fried_rice' 'frozen_yogurt' 'garlic_bread' 'gnocchi'\n",
            " 'greek_salad' 'grilled_cheese_sandwich' 'grilled_salmon' 'guacamole'\n",
            " 'gyoza' 'hamburger' 'hot_and_sour_soup' 'hot_dog' 'huevos_rancheros'\n",
            " 'hummus' 'ice_cream' 'lasagna' 'lobster_bisque' 'lobster_roll_sandwich'\n",
            " 'macaroni_and_cheese' 'macarons' 'miso_soup' 'mussels' 'nachos'\n",
            " 'omelette' 'onion_rings' 'oysters' 'pad_thai' 'paella' 'pancakes'\n",
            " 'panna_cotta' 'peking_duck' 'pho' 'pizza' 'pork_chop' 'poutine'\n",
            " 'prime_rib' 'pulled_pork_sandwich' 'ramen' 'ravioli' 'red_velvet_cake'\n",
            " 'risotto' 'samosa' 'sashimi' 'scallops' 'seaweed_salad'\n",
            " 'shrimp_and_grits' 'spaghetti_bolognese' 'spaghetti_carbonara'\n",
            " 'spring_rolls' 'steak' 'strawberry_shortcake' 'sushi' 'tacos' 'takoyaki'\n",
            " 'tiramisu' 'tuna_tartare' 'waffles']\n"
          ]
        }
      ]
    },
    {
      "cell_type": "code",
      "metadata": {
        "id": "m3gyHWXP5Qu8"
      },
      "source": [
        "# View an image\n",
        "import matplotlib.pyplot as plt\n",
        "import matplotlib.image as mpimg\n",
        "import random\n",
        "\n",
        "def view_random_image(target_dir, target_class):\n",
        "  # Setup target directory (we'll view images from here)\n",
        "  target_folder = target_dir+target_class\n",
        "\n",
        "  # Get a random image path\n",
        "  random_image = random.sample(os.listdir(target_folder), 1)\n",
        "\n",
        "  # Read in the image and plot it using matplotlib\n",
        "  img = mpimg.imread(target_folder + \"/\" + random_image[0])\n",
        "  plt.imshow(img)\n",
        "  plt.title(target_class)\n",
        "  plt.axis(\"off\");\n",
        "\n",
        "  print(f\"Image shape: {img.shape}\") # show the shape of the image\n",
        "\n",
        "  return img"
      ],
      "execution_count": null,
      "outputs": []
    },
    {
      "cell_type": "code",
      "metadata": {
        "colab": {
          "base_uri": "https://localhost:8080/",
          "height": 281
        },
        "id": "QQUJJjhF5UHr",
        "outputId": "f57ba482-30f4-45dd-9dbf-418e56712f24"
      },
      "source": [
        "# View a random image from the training dataset\n",
        "img = view_random_image(target_dir=\"food-101/images/\",\n",
        "                        target_class=\"steak\")"
      ],
      "execution_count": null,
      "outputs": [
        {
          "name": "stdout",
          "output_type": "stream",
          "text": [
            "Image shape: (512, 512, 3)\n"
          ]
        },
        {
          "data": {
            "image/png": "[encoded data removed]",
            "text/plain": [
              "<Figure size 432x288 with 1 Axes>"
            ]
          },
          "metadata": {},
          "output_type": "display_data"
        }
      ]
    },
    {
      "cell_type": "markdown",
      "metadata": {
        "id": "siqt6wyvx9eM"
      },
      "source": [
        "# Folder to Dataset"
      ]
    },
    {
      "cell_type": "markdown",
      "metadata": {
        "id": "kKlujbv7Ws_S"
      },
      "source": [
        "We will split the data into training and validation datasets."
      ]
    },
    {
      "cell_type": "code",
      "metadata": {
        "id": "eVjtph_ekHX4"
      },
      "source": [
        "import tensorflow as tf"
      ],
      "execution_count": null,
      "outputs": []
    },
    {
      "cell_type": "code",
      "metadata": {
        "colab": {
          "base_uri": "https://localhost:8080/"
        },
        "id": "Lnr99YuDkHdZ",
        "outputId": "55b9b0d9-f05c-4836-ef16-6fb980f01835"
      },
      "source": [
        "train_data = tf.keras.preprocessing.image_dataset_from_directory(directory=train_dir,\n",
        "                                                                            image_size=(224, 224),\n",
        "                                                                            label_mode=\"categorical\",\n",
        "                                                                            batch_size=32,\n",
        "                                                                            validation_split=0.2,\n",
        "                                                                            subset='training',\n",
        "                                                                            seed=17,\n",
        "                                                                            shuffle=True) # default"
      ],
      "execution_count": null,
      "outputs": [
        {
          "name": "stdout",
          "output_type": "stream",
          "text": [
            "Found 101000 files belonging to 101 classes.\n",
            "Using 80800 files for training.\n"
          ]
        }
      ]
    },
    {
      "cell_type": "code",
      "metadata": {
        "colab": {
          "base_uri": "https://localhost:8080/"
        },
        "id": "-PFuTyVukHgU",
        "outputId": "7c084f71-5893-4a68-d8db-373ed125daca"
      },
      "source": [
        "val_data = tf.keras.preprocessing.image_dataset_from_directory(directory=train_dir,\n",
        "                                                                            image_size=(224, 224),\n",
        "                                                                            label_mode=\"categorical\",\n",
        "                                                                            batch_size=32,\n",
        "                                                                            validation_split=0.2,\n",
        "                                                                            subset='validation',\n",
        "                                                                            seed=17,\n",
        "                                                                            shuffle=True)"
      ],
      "execution_count": null,
      "outputs": [
        {
          "name": "stdout",
          "output_type": "stream",
          "text": [
            "Found 101000 files belonging to 101 classes.\n",
            "Using 20200 files for validation.\n"
          ]
        }
      ]
    },
    {
      "cell_type": "markdown",
      "metadata": {
        "id": "WvoGY0ZDiEk6"
      },
      "source": [
        "# Working with tf.data.Dataset"
      ]
    },
    {
      "cell_type": "code",
      "metadata": {
        "colab": {
          "base_uri": "https://localhost:8080/"
        },
        "id": "jfDvkNEhpB3F",
        "outputId": "04e63135-3b4f-4b90-d34d-3e06b4586d30"
      },
      "source": [
        "train_len = train_data.cardinality().numpy()\n",
        "train_len"
      ],
      "execution_count": null,
      "outputs": [
        {
          "data": {
            "text/plain": [
              "2525"
            ]
          },
          "execution_count": 11,
          "metadata": {},
          "output_type": "execute_result"
        }
      ]
    },
    {
      "cell_type": "code",
      "metadata": {
        "colab": {
          "base_uri": "https://localhost:8080/"
        },
        "id": "KNoil1MpS8XX",
        "outputId": "bbff52f5-254b-43d2-87a5-069841ad8033"
      },
      "source": [
        "train_data.class_names"
      ],
      "execution_count": null,
      "outputs": [
        {
          "data": {
            "text/plain": [
              "['apple_pie',\n",
              " 'baby_back_ribs',\n",
              " 'baklava',\n",
              " 'beef_carpaccio',\n",
              " 'beef_tartare',\n",
              " 'beet_salad',\n",
              " 'beignets',\n",
              " 'bibimbap',\n",
              " 'bread_pudding',\n",
              " 'breakfast_burrito',\n",
              " 'bruschetta',\n",
              " 'caesar_salad',\n",
              " 'cannoli',\n",
              " 'caprese_salad',\n",
              " 'carrot_cake',\n",
              " 'ceviche',\n",
              " 'cheese_plate',\n",
              " 'cheesecake',\n",
              " 'chicken_curry',\n",
              " 'chicken_quesadilla',\n",
              " 'chicken_wings',\n",
              " 'chocolate_cake',\n",
              " 'chocolate_mousse',\n",
              " 'churros',\n",
              " 'clam_chowder',\n",
              " 'club_sandwich',\n",
              " 'crab_cakes',\n",
              " 'creme_brulee',\n",
              " 'croque_madame',\n",
              " 'cup_cakes',\n",
              " 'deviled_eggs',\n",
              " 'donuts',\n",
              " 'dumplings',\n",
              " 'edamame',\n",
              " 'eggs_benedict',\n",
              " 'escargots',\n",
              " 'falafel',\n",
              " 'filet_mignon',\n",
              " 'fish_and_chips',\n",
              " 'foie_gras',\n",
              " 'french_fries',\n",
              " 'french_onion_soup',\n",
              " 'french_toast',\n",
              " 'fried_calamari',\n",
              " 'fried_rice',\n",
              " 'frozen_yogurt',\n",
              " 'garlic_bread',\n",
              " 'gnocchi',\n",
              " 'greek_salad',\n",
              " 'grilled_cheese_sandwich',\n",
              " 'grilled_salmon',\n",
              " 'guacamole',\n",
              " 'gyoza',\n",
              " 'hamburger',\n",
              " 'hot_and_sour_soup',\n",
              " 'hot_dog',\n",
              " 'huevos_rancheros',\n",
              " 'hummus',\n",
              " 'ice_cream',\n",
              " 'lasagna',\n",
              " 'lobster_bisque',\n",
              " 'lobster_roll_sandwich',\n",
              " 'macaroni_and_cheese',\n",
              " 'macarons',\n",
              " 'miso_soup',\n",
              " 'mussels',\n",
              " 'nachos',\n",
              " 'omelette',\n",
              " 'onion_rings',\n",
              " 'oysters',\n",
              " 'pad_thai',\n",
              " 'paella',\n",
              " 'pancakes',\n",
              " 'panna_cotta',\n",
              " 'peking_duck',\n",
              " 'pho',\n",
              " 'pizza',\n",
              " 'pork_chop',\n",
              " 'poutine',\n",
              " 'prime_rib',\n",
              " 'pulled_pork_sandwich',\n",
              " 'ramen',\n",
              " 'ravioli',\n",
              " 'red_velvet_cake',\n",
              " 'risotto',\n",
              " 'samosa',\n",
              " 'sashimi',\n",
              " 'scallops',\n",
              " 'seaweed_salad',\n",
              " 'shrimp_and_grits',\n",
              " 'spaghetti_bolognese',\n",
              " 'spaghetti_carbonara',\n",
              " 'spring_rolls',\n",
              " 'steak',\n",
              " 'strawberry_shortcake',\n",
              " 'sushi',\n",
              " 'tacos',\n",
              " 'takoyaki',\n",
              " 'tiramisu',\n",
              " 'tuna_tartare',\n",
              " 'waffles']"
            ]
          },
          "execution_count": 12,
          "metadata": {},
          "output_type": "execute_result"
        }
      ]
    },
    {
      "cell_type": "code",
      "metadata": {
        "colab": {
          "base_uri": "https://localhost:8080/"
        },
        "id": "AcFx_7lhU_BA",
        "outputId": "3c4a43f1-9ebb-4fa3-f113-982d9255d678"
      },
      "source": [
        "for images, labels in train_data.take(1):\n",
        "  print(images, labels)"
      ],
      "execution_count": null,
      "outputs": [
        {
          "name": "stdout",
          "output_type": "stream",
          "text": [
            "tf.Tensor(\n",
            "[[[[0.00000000e+00 0.00000000e+00 0.00000000e+00]\n",
            "   [0.00000000e+00 0.00000000e+00 0.00000000e+00]\n",
            "   [0.00000000e+00 0.00000000e+00 0.00000000e+00]\n",
            "   ...\n",
            "   [3.00000000e+00 0.00000000e+00 0.00000000e+00]\n",
            "   [4.07144165e+00 7.14416504e-02 0.00000000e+00]\n",
            "   [3.64282227e+00 0.00000000e+00 0.00000000e+00]]\n",
            "\n",
            "  [[0.00000000e+00 0.00000000e+00 0.00000000e+00]\n",
            "   [0.00000000e+00 0.00000000e+00 0.00000000e+00]\n",
            "   [0.00000000e+00 0.00000000e+00 0.00000000e+00]\n",
            "   ...\n",
            "   [3.00000000e+00 0.00000000e+00 0.00000000e+00]\n",
            "   [4.07144165e+00 7.14416504e-02 0.00000000e+00]\n",
            "   [3.64282227e+00 0.00000000e+00 0.00000000e+00]]\n",
            "\n",
            "  [[0.00000000e+00 0.00000000e+00 0.00000000e+00]\n",
            "   [0.00000000e+00 0.00000000e+00 0.00000000e+00]\n",
            "   [0.00000000e+00 0.00000000e+00 0.00000000e+00]\n",
            "   ...\n",
            "   [3.00000000e+00 0.00000000e+00 0.00000000e+00]\n",
            "   [4.07144165e+00 7.14416504e-02 0.00000000e+00]\n",
            "   [3.64282227e+00 0.00000000e+00 0.00000000e+00]]\n",
            "\n",
            "  ...\n",
            "\n",
            "  [[1.23016884e+02 1.00016884e+02 6.86052094e+01]\n",
            "   [1.29550674e+02 1.01851089e+02 7.94151611e+01]\n",
            "   [1.30388336e+02 9.71294479e+01 7.96705780e+01]\n",
            "   ...\n",
            "   [1.38665939e+02 8.91208725e+01 6.39914436e+01]\n",
            "   [1.30995667e+02 8.41385422e+01 5.60671043e+01]\n",
            "   [1.17336143e+02 7.45712891e+01 4.51595764e+01]]\n",
            "\n",
            "  [[1.24328781e+02 9.99760895e+01 7.11323700e+01]\n",
            "   [1.27334816e+02 1.00916130e+02 7.85966187e+01]\n",
            "   [1.28931137e+02 9.76958084e+01 7.98134689e+01]\n",
            "   ...\n",
            "   [1.39076889e+02 8.77630997e+01 6.22927551e+01]\n",
            "   [1.24173714e+02 7.82828140e+01 4.97604790e+01]\n",
            "   [1.11384415e+02 7.29610062e+01 4.09963646e+01]]\n",
            "\n",
            "  [[1.26642860e+02 1.00642860e+02 7.72768326e+01]\n",
            "   [1.26785713e+02 9.97987900e+01 7.87726440e+01]\n",
            "   [1.29216171e+02 9.95000000e+01 8.15000000e+01]\n",
            "   ...\n",
            "   [1.40097473e+02 8.85723267e+01 6.17473793e+01]\n",
            "   [1.21852859e+02 7.71386261e+01 4.80671883e+01]\n",
            "   [1.06577454e+02 7.26339722e+01 3.77516174e+01]]]\n",
            "\n",
            "\n",
            " [[[1.32660706e+02 1.23067917e+02 1.45130417e+02]\n",
            "   [1.33342163e+02 1.30388077e+02 1.50211105e+02]\n",
            "   [1.30089600e+02 1.35518173e+02 1.54379456e+02]\n",
            "   ...\n",
            "   [1.28437719e+01 2.38437710e+01 2.71384144e+01]\n",
            "   [1.40580359e+01 2.34107151e+01 2.73526783e+01]\n",
            "   [1.39320669e+01 2.32847462e+01 2.72267094e+01]]\n",
            "\n",
            "  [[1.32324295e+02 1.28631058e+02 1.51651779e+02]\n",
            "   [1.29227997e+02 1.30084198e+02 1.51383621e+02]\n",
            "   [1.31488205e+02 1.36632019e+02 1.57325897e+02]\n",
            "   ...\n",
            "   [1.18740864e+01 2.42777443e+01 2.41368027e+01]\n",
            "   [1.22901793e+01 2.41782532e+01 2.41077785e+01]\n",
            "   [1.12901793e+01 2.31948376e+01 2.30746136e+01]]\n",
            "\n",
            "  [[1.34847260e+02 1.38968430e+02 1.66633301e+02]\n",
            "   [1.29275192e+02 1.33565369e+02 1.61618942e+02]\n",
            "   [1.40135208e+02 1.44135208e+02 1.71861603e+02]\n",
            "   ...\n",
            "   [1.52589502e+01 2.64955578e+01 2.25402431e+01]\n",
            "   [1.61820698e+01 2.54355793e+01 2.27490063e+01]\n",
            "   [1.52366066e+01 2.45577240e+01 2.12320728e+01]]\n",
            "\n",
            "  ...\n",
            "\n",
            "  [[3.90621643e+01 3.99776535e+01 3.47404518e+01]\n",
            "   [3.97633667e+01 4.07464638e+01 3.50883293e+01]\n",
            "   [4.13571434e+01 4.23571434e+01 3.65937767e+01]\n",
            "   ...\n",
            "   [1.75363174e+02 1.41816833e+02 6.58091202e+01]\n",
            "   [1.71817902e+02 1.35763367e+02 5.00054016e+01]\n",
            "   [1.72273178e+02 1.36509811e+02 4.27419853e+01]]\n",
            "\n",
            "  [[3.89078522e+01 3.89451447e+01 3.75061111e+01]\n",
            "   [3.80580139e+01 3.81118851e+01 3.60848427e+01]\n",
            "   [4.13571434e+01 4.23571434e+01 3.73571434e+01]\n",
            "   ...\n",
            "   [1.68213425e+02 1.30329453e+02 5.52963066e+01]\n",
            "   [1.62454834e+02 1.25512840e+02 4.51969109e+01]\n",
            "   [1.57615265e+02 1.22346191e+02 3.50633240e+01]]\n",
            "\n",
            "  [[4.01597633e+01 4.01597633e+01 4.17063408e+01]\n",
            "   [3.73526611e+01 3.73526611e+01 3.86977196e+01]\n",
            "   [4.23571434e+01 4.23571434e+01 4.13743896e+01]\n",
            "   ...\n",
            "   [1.59112030e+02 1.20973328e+02 4.85620728e+01]\n",
            "   [1.47691864e+02 1.11691864e+02 3.68436584e+01]\n",
            "   [1.39309372e+02 1.05981934e+02 2.68569336e+01]]]\n",
            "\n",
            "\n",
            " [[[1.30000000e+01 8.00000000e+00 5.00000000e+00]\n",
            "   [1.30000000e+01 9.00000000e+00 6.00000000e+00]\n",
            "   [1.22788582e+01 8.27885818e+00 7.70742989e+00]\n",
            "   ...\n",
            "   [1.53549109e+01 1.13549109e+01 1.23549109e+01]\n",
            "   [1.53549109e+01 9.35491085e+00 1.13549109e+01]\n",
            "   [1.47098217e+01 8.70982170e+00 1.07098217e+01]]\n",
            "\n",
            "  [[1.26659765e+01 8.66597652e+00 5.66597557e+00]\n",
            "   [1.30000000e+01 9.00000000e+00 8.00000000e+00]\n",
            "   [1.30647316e+01 9.06473160e+00 8.06473160e+00]\n",
            "   ...\n",
            "   [1.70000000e+01 1.30000000e+01 1.40000000e+01]\n",
            "   [1.80647316e+01 1.20647316e+01 1.40647316e+01]\n",
            "   [1.80647316e+01 1.20647316e+01 1.40647316e+01]]\n",
            "\n",
            "  [[1.30000000e+01 9.00000000e+00 7.54910755e+00]\n",
            "   [1.37192287e+01 9.71922874e+00 8.71922874e+00]\n",
            "   [1.43319521e+01 1.01659756e+01 8.83402443e+00]\n",
            "   ...\n",
            "   [1.76085949e+01 1.23914051e+01 1.40000000e+01]\n",
            "   [1.82807808e+01 1.22807817e+01 1.42807817e+01]\n",
            "   [1.90000000e+01 1.30000000e+01 1.50000000e+01]]\n",
            "\n",
            "  ...\n",
            "\n",
            "  [[8.96428604e+01 8.76428604e+01 9.06428604e+01]\n",
            "   [9.28571472e+01 9.08571472e+01 9.38571472e+01]\n",
            "   [9.51771469e+01 9.01771469e+01 9.41771469e+01]\n",
            "   ...\n",
            "   [1.01560272e+02 9.39888000e+01 9.24173279e+01]\n",
            "   [9.97030945e+01 9.17030945e+01 8.97030945e+01]\n",
            "   [9.74173584e+01 8.94173584e+01 8.74173584e+01]]\n",
            "\n",
            "  [[8.96428604e+01 8.76428604e+01 8.87723160e+01]\n",
            "   [9.29239502e+01 9.09239502e+01 9.20534058e+01]\n",
            "   [9.45164185e+01 9.17209854e+01 9.49861298e+01]\n",
            "   ...\n",
            "   [1.00585342e+02 9.30138702e+01 9.14423981e+01]\n",
            "   [9.79932861e+01 8.99932861e+01 8.79932861e+01]\n",
            "   [9.60416107e+01 8.80416107e+01 8.60416107e+01]]\n",
            "\n",
            "  [[9.12879715e+01 8.92879715e+01 9.02879715e+01]\n",
            "   [9.35736847e+01 9.15736847e+01 9.25736847e+01]\n",
            "   [9.42142868e+01 9.15714264e+01 9.37719650e+01]\n",
            "   ...\n",
            "   [9.91406250e+01 9.15691528e+01 8.99976807e+01]\n",
            "   [9.69285583e+01 8.89285583e+01 8.69285583e+01]\n",
            "   [9.47695770e+01 8.67695770e+01 8.47695770e+01]]]\n",
            "\n",
            "\n",
            " ...\n",
            "\n",
            "\n",
            " [[[4.35714293e+00 4.35714293e+00 2.35714269e+00]\n",
            "   [9.35714436e+00 9.35714436e+00 7.35714388e+00]\n",
            "   [7.57142925e+00 7.78571510e+00 5.14285755e+00]\n",
            "   ...\n",
            "   [7.75867767e+01 5.55867767e+01 1.45867767e+01]\n",
            "   [9.01478043e+01 6.81478043e+01 2.91478024e+01]\n",
            "   [7.11429977e+01 4.91429977e+01 1.01429968e+01]]\n",
            "\n",
            "  [[3.28571439e+00 3.28571439e+00 1.28571427e+00]\n",
            "   [5.71938848e+00 5.71938848e+00 3.71938825e+00]\n",
            "   [3.69898009e+00 3.91326594e+00 1.32653093e+00]\n",
            "   ...\n",
            "   [7.86274872e+01 5.66274872e+01 1.56274872e+01]\n",
            "   [8.82192841e+01 6.62192841e+01 2.52192841e+01]\n",
            "   [7.51225586e+01 5.31225586e+01 1.21225586e+01]]\n",
            "\n",
            "  [[2.35714293e+00 2.35714293e+00 3.57142806e-01]\n",
            "   [2.41326523e+00 2.41326523e+00 4.13265169e-01]\n",
            "   [8.57143164e-01 1.07142901e+00 0.00000000e+00]\n",
            "   ...\n",
            "   [7.94949036e+01 5.74949074e+01 1.64949055e+01]\n",
            "   [8.31988983e+01 6.19846115e+01 1.94131832e+01]\n",
            "   [7.63471680e+01 5.51328812e+01 1.25614538e+01]]\n",
            "\n",
            "  ...\n",
            "\n",
            "  [[2.11923431e+02 2.03494843e+02 1.54066254e+02]\n",
            "   [2.18382675e+02 2.10739792e+02 1.58954086e+02]\n",
            "   [2.25117355e+02 2.17474472e+02 1.63688766e+02]\n",
            "   ...\n",
            "   [1.20500031e+02 1.01928558e+02 5.82857666e+01]\n",
            "   [1.33545898e+02 1.12545898e+02 6.94030151e+01]\n",
            "   [1.33719421e+02 1.11719421e+02 6.45663452e+01]]\n",
            "\n",
            "  [[2.04642776e+02 1.94642776e+02 1.43642776e+02]\n",
            "   [2.17719330e+02 2.07719330e+02 1.54994812e+02]\n",
            "   [2.19714188e+02 2.09913162e+02 1.56515198e+02]\n",
            "   ...\n",
            "   [1.18683723e+02 1.01040840e+02 5.46122818e+01]\n",
            "   [1.28295853e+02 1.07295845e+02 6.22957878e+01]\n",
            "   [1.29857056e+02 1.07857056e+02 5.89488640e+01]]\n",
            "\n",
            "  [[1.94545944e+02 1.84545944e+02 1.31545944e+02]\n",
            "   [2.03596985e+02 1.93596985e+02 1.40596985e+02]\n",
            "   [2.11928589e+02 2.02928589e+02 1.47928589e+02]\n",
            "   ...\n",
            "   [1.24877625e+02 1.07306152e+02 6.03878822e+01]\n",
            "   [1.30999939e+02 1.10045868e+02 6.35713501e+01]\n",
            "   [1.28086731e+02 1.06086731e+02 5.67295532e+01]]]\n",
            "\n",
            "\n",
            " [[[1.43658157e+02 1.29372452e+02 1.34515305e+02]\n",
            "   [1.90397964e+02 1.67658173e+02 1.60020401e+02]\n",
            "   [1.92479584e+02 1.70612244e+02 1.54127548e+02]\n",
            "   ...\n",
            "   [1.82867355e+02 1.78867355e+02 1.92867355e+02]\n",
            "   [1.97122543e+02 1.97265427e+02 2.09265427e+02]\n",
            "   [1.98856903e+02 2.02856903e+02 2.13856903e+02]]\n",
            "\n",
            "  [[1.57464279e+02 1.44178574e+02 1.42489792e+02]\n",
            "   [1.89714294e+02 1.69653061e+02 1.58943878e+02]\n",
            "   [1.90229584e+02 1.69030609e+02 1.55316330e+02]\n",
            "   ...\n",
            "   [2.06387787e+02 2.02387787e+02 2.16387787e+02]\n",
            "   [2.07857132e+02 2.07071457e+02 2.21000015e+02]\n",
            "   [2.04494781e+02 2.07300964e+02 2.19897873e+02]]\n",
            "\n",
            "  [[1.69846939e+02 1.56280609e+02 1.46775513e+02]\n",
            "   [1.87260208e+02 1.69346939e+02 1.57443878e+02]\n",
            "   [1.86239792e+02 1.67142853e+02 1.59000000e+02]\n",
            "   ...\n",
            "   [1.87290802e+02 1.82648010e+02 1.98199020e+02]\n",
            "   [1.88918350e+02 1.86030609e+02 2.02974472e+02]\n",
            "   [1.89795959e+02 1.89362381e+02 2.05219498e+02]]\n",
            "\n",
            "  ...\n",
            "\n",
            "  [[1.72291550e+02 1.36148911e+02 1.10720383e+02]\n",
            "   [1.53342575e+02 1.15398895e+02 8.89142685e+01]\n",
            "   [1.39041443e+02 9.72814026e+01 6.99957733e+01]\n",
            "   ...\n",
            "   [2.09755112e+02 2.09137726e+02 2.04785736e+02]\n",
            "   [2.09719513e+02 2.05392975e+02 2.07234787e+02]\n",
            "   [2.10137711e+02 2.04071320e+02 2.09556061e+02]]\n",
            "\n",
            "  [[1.92928680e+02 1.67143005e+02 1.50265472e+02]\n",
            "   [1.91571533e+02 1.66714417e+02 1.47000183e+02]\n",
            "   [1.88586853e+02 1.60729736e+02 1.40015503e+02]\n",
            "   ...\n",
            "   [2.07974548e+02 2.06219360e+02 2.07647949e+02]\n",
            "   [2.15795883e+02 2.09510117e+02 2.09234558e+02]\n",
            "   [2.08989655e+02 1.98918213e+02 1.97795746e+02]]\n",
            "\n",
            "  [[1.97285645e+02 1.73698883e+02 1.60872406e+02]\n",
            "   [1.97285645e+02 1.73928467e+02 1.60642822e+02]\n",
            "   [1.96862259e+02 1.73658157e+02 1.60219437e+02]\n",
            "   ...\n",
            "   [2.08479584e+02 2.04336639e+02 2.09326462e+02]\n",
            "   [2.07673172e+02 1.99555801e+02 1.97479248e+02]\n",
            "   [1.68299011e+02 1.56125443e+02 1.49870300e+02]]]\n",
            "\n",
            "\n",
            " [[[0.00000000e+00 3.64285707e+00 0.00000000e+00]\n",
            "   [0.00000000e+00 4.00000000e+00 0.00000000e+00]\n",
            "   [0.00000000e+00 5.00000000e+00 2.14285851e-01]\n",
            "   ...\n",
            "   [0.00000000e+00 0.00000000e+00 0.00000000e+00]\n",
            "   [0.00000000e+00 0.00000000e+00 0.00000000e+00]\n",
            "   [0.00000000e+00 0.00000000e+00 0.00000000e+00]]\n",
            "\n",
            "  [[0.00000000e+00 3.64285707e+00 0.00000000e+00]\n",
            "   [0.00000000e+00 4.00000000e+00 0.00000000e+00]\n",
            "   [0.00000000e+00 5.00000000e+00 2.14285851e-01]\n",
            "   ...\n",
            "   [0.00000000e+00 0.00000000e+00 0.00000000e+00]\n",
            "   [0.00000000e+00 0.00000000e+00 0.00000000e+00]\n",
            "   [0.00000000e+00 0.00000000e+00 0.00000000e+00]]\n",
            "\n",
            "  [[0.00000000e+00 3.64285707e+00 0.00000000e+00]\n",
            "   [0.00000000e+00 4.00000000e+00 0.00000000e+00]\n",
            "   [0.00000000e+00 5.00000000e+00 2.14285851e-01]\n",
            "   ...\n",
            "   [0.00000000e+00 0.00000000e+00 0.00000000e+00]\n",
            "   [0.00000000e+00 0.00000000e+00 0.00000000e+00]\n",
            "   [0.00000000e+00 0.00000000e+00 0.00000000e+00]]\n",
            "\n",
            "  ...\n",
            "\n",
            "  [[8.70441666e+01 8.70441666e+01 7.71047668e+01]\n",
            "   [1.36540070e+02 1.36540070e+02 1.26540077e+02]\n",
            "   [1.54139877e+02 1.54139877e+02 1.44139877e+02]\n",
            "   ...\n",
            "   [1.58849899e+02 1.51492691e+02 1.49278427e+02]\n",
            "   [1.58415588e+02 1.50415588e+02 1.48415588e+02]\n",
            "   [1.64562012e+02 1.54562012e+02 1.53562012e+02]]\n",
            "\n",
            "  [[3.50942917e+01 3.55451889e+01 2.71612682e+01]\n",
            "   [9.11512527e+01 9.16021500e+01 8.25039444e+01]\n",
            "   [1.38021591e+02 1.37828339e+02 1.27635101e+02]\n",
            "   ...\n",
            "   [1.60866455e+02 1.53058350e+02 1.52196777e+02]\n",
            "   [1.63450623e+02 1.54999725e+02 1.54352417e+02]\n",
            "   [1.65388046e+02 1.56289841e+02 1.54838943e+02]]\n",
            "\n",
            "  [[2.16900196e+01 2.43239918e+01 1.72717018e+01]\n",
            "   [3.65394592e+01 3.75394592e+01 2.95394611e+01]\n",
            "   [9.97901459e+01 9.93615723e+01 8.89330063e+01]\n",
            "   ...\n",
            "   [1.64357208e+02 1.56000000e+02 1.57135834e+02]\n",
            "   [1.66000000e+02 1.57000000e+02 1.58000000e+02]\n",
            "   [1.64642822e+02 1.56642822e+02 1.54642822e+02]]]], shape=(32, 224, 224, 3), dtype=float32) tf.Tensor(\n",
            "[[0. 0. 0. ... 0. 0. 0.]\n",
            " [0. 0. 0. ... 0. 0. 0.]\n",
            " [0. 0. 0. ... 0. 0. 0.]\n",
            " ...\n",
            " [0. 0. 0. ... 1. 0. 0.]\n",
            " [0. 0. 0. ... 0. 0. 0.]\n",
            " [0. 0. 0. ... 0. 0. 0.]], shape=(32, 101), dtype=float32)\n"
          ]
        }
      ]
    },
    {
      "cell_type": "code",
      "metadata": {
        "colab": {
          "base_uri": "https://localhost:8080/"
        },
        "id": "0UKlPsKsx0vU",
        "outputId": "cec029d4-b9e4-4d9f-c358-a84628b417d4"
      },
      "source": [
        "for images, labels in train_data.take(1):\n",
        "  print(images.shape)\n",
        "  print(labels.shape)"
      ],
      "execution_count": null,
      "outputs": [
        {
          "name": "stdout",
          "output_type": "stream",
          "text": [
            "(32, 224, 224, 3)\n",
            "(32, 101)\n"
          ]
        }
      ]
    },
    {
      "cell_type": "code",
      "metadata": {
        "colab": {
          "base_uri": "https://localhost:8080/"
        },
        "id": "Qm3hFQbvbwaM",
        "outputId": "16a3cde0-60c6-44c8-8bfe-47c6664e9c60"
      },
      "source": [
        "for images, labels in train_data.take(1):\n",
        "  print(tf.reduce_max(images))\n"
      ],
      "execution_count": null,
      "outputs": [
        {
          "name": "stdout",
          "output_type": "stream",
          "text": [
            "tf.Tensor(255.0, shape=(), dtype=float32)\n"
          ]
        }
      ]
    },
    {
      "cell_type": "markdown",
      "metadata": {
        "id": "f5el50rOrmaA"
      },
      "source": [
        "# Model 1: feature extraction with EfficientNetB0"
      ]
    },
    {
      "cell_type": "code",
      "metadata": {
        "colab": {
          "base_uri": "https://localhost:8080/"
        },
        "id": "c4AnqBp_v62-",
        "outputId": "e3e62a9b-68cb-4a7a-9811-511aed6f638e"
      },
      "source": [
        "from tensorflow.keras import layers\n",
        "\n",
        "base_model = tf.keras.applications.EfficientNetB0(include_top=False)\n",
        "base_model.trainable = False\n",
        "\n",
        "inputs = layers.Input(shape=(224, 224, 3))\n",
        "x = base_model(inputs)\n",
        "x = layers.GlobalAveragePooling2D()(x)\n",
        "outputs = layers.Dense(len(train_data.class_names), activation='softmax')(x)\n",
        "\n",
        "model_1 = tf.keras.Model(inputs, outputs)"
      ],
      "execution_count": null,
      "outputs": [
        {
          "name": "stdout",
          "output_type": "stream",
          "text": [
            "Downloading data from https://storage.googleapis.com/keras-applications/efficientnetb0_notop.h5\n",
            "16711680/16705208 [==============================] - 0s 0us/step\n",
            "16719872/16705208 [==============================] - 0s 0us/step\n"
          ]
        }
      ]
    },
    {
      "cell_type": "code",
      "metadata": {
        "id": "J9hBMEezyPwv"
      },
      "source": [
        "model_1.compile(optimizer=tf.keras.optimizers.Adam(),\n",
        "                loss=\"categorical_crossentropy\",\n",
        "                metrics=['accuracy'])"
      ],
      "execution_count": null,
      "outputs": []
    },
    {
      "cell_type": "code",
      "metadata": {
        "id": "9kql700P0gS0"
      },
      "source": [
        "early_stopping = tf.keras.callbacks.EarlyStopping(monitor=\"val_accuracy\", \n",
        "                                                  patience=2)"
      ],
      "execution_count": null,
      "outputs": []
    },
    {
      "cell_type": "code",
      "metadata": {
        "colab": {
          "base_uri": "https://localhost:8080/"
        },
        "id": "Ge7jbbXqzz-G",
        "outputId": "e4e0581d-7f00-4533-e04a-e8bc747d15bb"
      },
      "source": [
        "history_1 = model_1.fit(train_data,\n",
        "                      epochs = 10,\n",
        "                      validation_data = val_data,\n",
        "                      verbose = 1,\n",
        "                      validation_steps = int(0.1*len(val_data)),\n",
        "                      callbacks=[early_stopping])"
      ],
      "execution_count": null,
      "outputs": [
        {
          "name": "stdout",
          "output_type": "stream",
          "text": [
            "Epoch 1/10\n",
            "2525/2525 [==============================] - 370s 132ms/step - loss: 1.8076 - accuracy: 0.5575 - val_loss: 1.3743 - val_accuracy: 0.6419\n",
            "Epoch 2/10\n",
            "2525/2525 [==============================] - 333s 132ms/step - loss: 1.3058 - accuracy: 0.6609 - val_loss: 1.2861 - val_accuracy: 0.6612\n",
            "Epoch 3/10\n",
            "2525/2525 [==============================] - 335s 132ms/step - loss: 1.1717 - accuracy: 0.6936 - val_loss: 1.2663 - val_accuracy: 0.6682\n",
            "Epoch 4/10\n",
            "2525/2525 [==============================] - 336s 133ms/step - loss: 1.0882 - accuracy: 0.7128 - val_loss: 1.2263 - val_accuracy: 0.6726\n",
            "Epoch 5/10\n",
            "2525/2525 [==============================] - 335s 132ms/step - loss: 1.0274 - accuracy: 0.7284 - val_loss: 1.2577 - val_accuracy: 0.6726\n",
            "Epoch 6/10\n",
            "2525/2525 [==============================] - 334s 132ms/step - loss: 0.9783 - accuracy: 0.7398 - val_loss: 1.2269 - val_accuracy: 0.6771\n",
            "Epoch 7/10\n",
            "2525/2525 [==============================] - 336s 133ms/step - loss: 0.9387 - accuracy: 0.7476 - val_loss: 1.2562 - val_accuracy: 0.6806\n",
            "Epoch 8/10\n",
            "2525/2525 [==============================] - 335s 133ms/step - loss: 0.9048 - accuracy: 0.7572 - val_loss: 1.2546 - val_accuracy: 0.6820\n",
            "Epoch 9/10\n",
            "2525/2525 [==============================] - 336s 133ms/step - loss: 0.8765 - accuracy: 0.7620 - val_loss: 1.2440 - val_accuracy: 0.6860\n",
            "Epoch 10/10\n",
            "2525/2525 [==============================] - 336s 133ms/step - loss: 0.8544 - accuracy: 0.7688 - val_loss: 1.2516 - val_accuracy: 0.6910\n"
          ]
        }
      ]
    },
    {
      "cell_type": "markdown",
      "metadata": {
        "id": "801QzOgK9mD7"
      },
      "source": [
        "# Fine tune Model 1"
      ]
    },
    {
      "cell_type": "code",
      "metadata": {
        "id": "5C1yxicV9s6B"
      },
      "source": [
        "base_model.trainable = True\n",
        "\n",
        "for layer in base_model.layers[:-10]:\n",
        "  layer.trainable = False"
      ],
      "execution_count": null,
      "outputs": []
    },
    {
      "cell_type": "code",
      "metadata": {
        "id": "PkQqAYwI923m"
      },
      "source": [
        "# Recompile model with lower learning rate\n",
        "model_1.compile(loss='categorical_crossentropy',\n",
        "              optimizer=tf.keras.optimizers.Adam(1e-4), # 10x lower learning rate than default\n",
        "              metrics=['accuracy'])"
      ],
      "execution_count": null,
      "outputs": []
    },
    {
      "cell_type": "code",
      "metadata": {
        "id": "PHMHiXqu1GYU"
      },
      "source": [
        "early_stopping = tf.keras.callbacks.EarlyStopping(monitor=\"val_accuracy\", \n",
        "                                                  patience=2)"
      ],
      "execution_count": null,
      "outputs": []
    },
    {
      "cell_type": "code",
      "metadata": {
        "colab": {
          "background_save": true,
          "base_uri": "https://localhost:8080/"
        },
        "id": "zUXG2bjP9-RQ",
        "outputId": "aab9a46d-7cb8-45e1-fee3-4fde122ca2e7"
      },
      "source": [
        "fine_tune_epochs = 20\n",
        "\n",
        "history_2 = model_1.fit(train_data,\n",
        "                        epochs = fine_tune_epochs,\n",
        "                        validation_data = val_data,\n",
        "                        # validation_steps = int(0.1*len(val_data)),\n",
        "                        initial_epoch=history_1.epoch[-1],\n",
        "                        callbacks=[early_stopping]\n",
        ")"
      ],
      "execution_count": null,
      "outputs": [
        {
          "name": "stdout",
          "output_type": "stream",
          "text": [
            "Epoch 10/20\n",
            "2525/2525 [==============================] - 432s 168ms/step - loss: 0.8907 - accuracy: 0.7547 - val_loss: 1.2273 - val_accuracy: 0.6946\n",
            "Epoch 11/20\n",
            "2525/2525 [==============================] - 418s 165ms/step - loss: 0.7443 - accuracy: 0.7955 - val_loss: 1.2002 - val_accuracy: 0.7011\n",
            "Epoch 12/20\n",
            "2525/2525 [==============================] - 425s 168ms/step - loss: 0.6625 - accuracy: 0.8193 - val_loss: 1.1887 - val_accuracy: 0.7051\n",
            "Epoch 13/20\n",
            "2525/2525 [==============================] - 426s 168ms/step - loss: 0.5897 - accuracy: 0.8379 - val_loss: 1.1803 - val_accuracy: 0.7103\n",
            "Epoch 14/20\n",
            "2525/2525 [==============================] - 426s 169ms/step - loss: 0.5377 - accuracy: 0.8537 - val_loss: 1.1758 - val_accuracy: 0.7127\n",
            "Epoch 15/20\n",
            "2525/2525 [==============================] - 426s 169ms/step - loss: 0.4864 - accuracy: 0.8688 - val_loss: 1.1793 - val_accuracy: 0.7134\n",
            "Epoch 16/20\n",
            "2525/2525 [==============================] - 426s 169ms/step - loss: 0.4435 - accuracy: 0.8806 - val_loss: 1.1769 - val_accuracy: 0.7133\n",
            "Epoch 17/20\n",
            "2525/2525 [==============================] - 425s 168ms/step - loss: 0.4070 - accuracy: 0.8924 - val_loss: 1.1818 - val_accuracy: 0.7150\n",
            "Epoch 18/20\n",
            "2525/2525 [==============================] - 426s 168ms/step - loss: 0.3791 - accuracy: 0.9009 - val_loss: 1.1893 - val_accuracy: 0.7143\n",
            "Epoch 19/20\n",
            "2525/2525 [==============================] - 426s 168ms/step - loss: 0.3404 - accuracy: 0.9121 - val_loss: 1.1884 - val_accuracy: 0.7186\n",
            "Epoch 20/20\n",
            "2525/2525 [==============================] - 426s 168ms/step - loss: 0.3127 - accuracy: 0.9210 - val_loss: 1.2049 - val_accuracy: 0.7157\n"
          ]
        }
      ]
    },
    {
      "cell_type": "code",
      "metadata": {
        "id": "Y7PQea-y_P2a"
      },
      "source": [
        "def compare_historys(original_history, new_history, initial_epochs=5):\n",
        "    \"\"\"\n",
        "    Compares two TensorFlow model History objects.\n",
        "    \n",
        "    Args:\n",
        "      original_history: History object from original model (before new_history)\n",
        "      new_history: History object from continued model training (after original_history)\n",
        "      initial_epochs: Number of epochs in original_history (new_history plot starts from here) \n",
        "    \"\"\"\n",
        "\n",
        "    acc = original_history.history[\"accuracy\"]\n",
        "    loss = original_history.history[\"loss\"]\n",
        "\n",
        "    val_acc = original_history.history[\"val_accuracy\"]\n",
        "    val_loss = original_history.history[\"val_loss\"]\n",
        "\n",
        "    total_acc = acc + new_history.history[\"accuracy\"]\n",
        "    total_loss = loss + new_history.history[\"loss\"]\n",
        "\n",
        "    total_val_acc = val_acc + new_history.history[\"val_accuracy\"]\n",
        "    total_val_loss = val_loss + new_history.history[\"val_loss\"]\n",
        "\n",
        "    plt.figure(figsize=(8, 8))\n",
        "    plt.subplot(2, 1, 1)\n",
        "    plt.plot(total_acc, label='Training Accuracy')\n",
        "    plt.plot(total_val_acc, label='Validation Accuracy')\n",
        "    plt.plot([initial_epochs-1, initial_epochs-1],\n",
        "              plt.ylim(), label='Start Fine Tuning') \n",
        "    plt.legend(loc='lower right')\n",
        "    plt.title('Training and Validation Accuracy')\n",
        "\n",
        "    plt.subplot(2, 1, 2)\n",
        "    plt.plot(total_loss, label='Training Loss')\n",
        "    plt.plot(total_val_loss, label='Validation Loss')\n",
        "    plt.plot([initial_epochs-1, initial_epochs-1],\n",
        "              plt.ylim(), label='Start Fine Tuning')\n",
        "    plt.legend(loc='upper right')\n",
        "    plt.title('Training and Validation Loss')\n",
        "    plt.xlabel('epoch')\n",
        "    plt.show()\n",
        "  "
      ],
      "execution_count": null,
      "outputs": []
    },
    {
      "cell_type": "code",
      "metadata": {
        "id": "Zk5cutnO_pG0",
        "colab": {
          "base_uri": "https://localhost:8080/",
          "height": 513
        },
        "outputId": "1bad6976-2dad-4ceb-a30b-bf680cb54477"
      },
      "source": [
        "compare_historys(original_history=history_1,\n",
        "                 new_history=history_2,\n",
        "                 initial_epochs=10)"
      ],
      "execution_count": null,
      "outputs": [
        {
          "output_type": "display_data",
          "data": {
            "image/png": "[encoded data removed]",
            "text/plain": [
              "<Figure size 576x576 with 2 Axes>"
            ]
          },
          "metadata": {
            "needs_background": "light"
          }
        }
      ]
    }
  ]
}