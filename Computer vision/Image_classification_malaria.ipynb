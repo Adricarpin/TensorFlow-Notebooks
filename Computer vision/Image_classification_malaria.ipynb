{
  "nbformat": 4,
  "nbformat_minor": 0,
  "metadata": {
    "colab": {
      "name": "Image-classification-malaria.ipynb",
      "provenance": [],
      "collapsed_sections": [
        "l3MEmnhfGUUj",
        "NhfK2e9bC6Jh",
        "8dup4RgGGdI0",
        "yYkLjz3MG2xC",
        "lQKFbXNFGw3t",
        "tl7vFH5pngLC",
        "Rcjk4KlL15gO",
        "4f8A89zRthWl"
      ],
      "authorship_tag": "ABX9TyOuOQqyc0tPFrGfkjlpjKU2",
      "include_colab_link": true
    },
    "kernelspec": {
      "name": "python3",
      "display_name": "Python 3"
    },
    "language_info": {
      "name": "python"
    },
    "accelerator": "GPU",
    "widgets": {
      "application/vnd.jupyter.widget-state+json": {
        "55bbdec2665945d5b2449456f0cd0bc6": {
          "model_module": "@jupyter-widgets/controls",
          "model_name": "HBoxModel",
          "model_module_version": "1.5.0",
          "state": {
            "_view_name": "HBoxView",
            "_dom_classes": [],
            "_model_name": "HBoxModel",
            "_view_module": "@jupyter-widgets/controls",
            "_model_module_version": "1.5.0",
            "_view_count": null,
            "_view_module_version": "1.5.0",
            "box_style": "",
            "layout": "IPY_MODEL_74b437fce3634f4495d5ae2f94070e0d",
            "_model_module": "@jupyter-widgets/controls",
            "children": [
              "IPY_MODEL_201b37f89404486e9d0d700b22221890",
              "IPY_MODEL_9ad740854e1e42ef84c902e7d7f023bc",
              "IPY_MODEL_b6b3ec989e594130b78fa1ea468ec6f1"
            ]
          }
        },
        "74b437fce3634f4495d5ae2f94070e0d": {
          "model_module": "@jupyter-widgets/base",
          "model_name": "LayoutModel",
          "model_module_version": "1.2.0",
          "state": {
            "_view_name": "LayoutView",
            "grid_template_rows": null,
            "right": null,
            "justify_content": null,
            "_view_module": "@jupyter-widgets/base",
            "overflow": null,
            "_model_module_version": "1.2.0",
            "_view_count": null,
            "flex_flow": null,
            "width": null,
            "min_width": null,
            "border": null,
            "align_items": null,
            "bottom": null,
            "_model_module": "@jupyter-widgets/base",
            "top": null,
            "grid_column": null,
            "overflow_y": null,
            "overflow_x": null,
            "grid_auto_flow": null,
            "grid_area": null,
            "grid_template_columns": null,
            "flex": null,
            "_model_name": "LayoutModel",
            "justify_items": null,
            "grid_row": null,
            "max_height": null,
            "align_content": null,
            "visibility": null,
            "align_self": null,
            "height": null,
            "min_height": null,
            "padding": null,
            "grid_auto_rows": null,
            "grid_gap": null,
            "max_width": null,
            "order": null,
            "_view_module_version": "1.2.0",
            "grid_template_areas": null,
            "object_position": null,
            "object_fit": null,
            "grid_auto_columns": null,
            "margin": null,
            "display": null,
            "left": null
          }
        },
        "201b37f89404486e9d0d700b22221890": {
          "model_module": "@jupyter-widgets/controls",
          "model_name": "HTMLModel",
          "model_module_version": "1.5.0",
          "state": {
            "_view_name": "HTMLView",
            "style": "IPY_MODEL_1ab704c6a0294fceb6e13797640f5473",
            "_dom_classes": [],
            "description": "",
            "_model_name": "HTMLModel",
            "placeholder": "​",
            "_view_module": "@jupyter-widgets/controls",
            "_model_module_version": "1.5.0",
            "value": "Dl Completed...: 100%",
            "_view_count": null,
            "_view_module_version": "1.5.0",
            "description_tooltip": null,
            "_model_module": "@jupyter-widgets/controls",
            "layout": "IPY_MODEL_bbd90bbd58034cb6af6ae9f497d3c668"
          }
        },
        "9ad740854e1e42ef84c902e7d7f023bc": {
          "model_module": "@jupyter-widgets/controls",
          "model_name": "FloatProgressModel",
          "model_module_version": "1.5.0",
          "state": {
            "_view_name": "ProgressView",
            "style": "IPY_MODEL_60c0eda43d3a43b2bb0f1a38a413b276",
            "_dom_classes": [],
            "description": "",
            "_model_name": "FloatProgressModel",
            "bar_style": "success",
            "max": 1,
            "_view_module": "@jupyter-widgets/controls",
            "_model_module_version": "1.5.0",
            "value": 1,
            "_view_count": null,
            "_view_module_version": "1.5.0",
            "orientation": "horizontal",
            "min": 0,
            "description_tooltip": null,
            "_model_module": "@jupyter-widgets/controls",
            "layout": "IPY_MODEL_5bad3342545e404f848f2ea6f807f31f"
          }
        },
        "b6b3ec989e594130b78fa1ea468ec6f1": {
          "model_module": "@jupyter-widgets/controls",
          "model_name": "HTMLModel",
          "model_module_version": "1.5.0",
          "state": {
            "_view_name": "HTMLView",
            "style": "IPY_MODEL_3695a9d972c943728b47471ce4518628",
            "_dom_classes": [],
            "description": "",
            "_model_name": "HTMLModel",
            "placeholder": "​",
            "_view_module": "@jupyter-widgets/controls",
            "_model_module_version": "1.5.0",
            "value": " 1/1 [02:35&lt;00:00, 146.15s/ url]",
            "_view_count": null,
            "_view_module_version": "1.5.0",
            "description_tooltip": null,
            "_model_module": "@jupyter-widgets/controls",
            "layout": "IPY_MODEL_b44d551ce29f46c8b9dd5be2c9b690d5"
          }
        },
        "1ab704c6a0294fceb6e13797640f5473": {
          "model_module": "@jupyter-widgets/controls",
          "model_name": "DescriptionStyleModel",
          "model_module_version": "1.5.0",
          "state": {
            "_view_name": "StyleView",
            "_model_name": "DescriptionStyleModel",
            "description_width": "",
            "_view_module": "@jupyter-widgets/base",
            "_model_module_version": "1.5.0",
            "_view_count": null,
            "_view_module_version": "1.2.0",
            "_model_module": "@jupyter-widgets/controls"
          }
        },
        "bbd90bbd58034cb6af6ae9f497d3c668": {
          "model_module": "@jupyter-widgets/base",
          "model_name": "LayoutModel",
          "model_module_version": "1.2.0",
          "state": {
            "_view_name": "LayoutView",
            "grid_template_rows": null,
            "right": null,
            "justify_content": null,
            "_view_module": "@jupyter-widgets/base",
            "overflow": null,
            "_model_module_version": "1.2.0",
            "_view_count": null,
            "flex_flow": null,
            "width": null,
            "min_width": null,
            "border": null,
            "align_items": null,
            "bottom": null,
            "_model_module": "@jupyter-widgets/base",
            "top": null,
            "grid_column": null,
            "overflow_y": null,
            "overflow_x": null,
            "grid_auto_flow": null,
            "grid_area": null,
            "grid_template_columns": null,
            "flex": null,
            "_model_name": "LayoutModel",
            "justify_items": null,
            "grid_row": null,
            "max_height": null,
            "align_content": null,
            "visibility": null,
            "align_self": null,
            "height": null,
            "min_height": null,
            "padding": null,
            "grid_auto_rows": null,
            "grid_gap": null,
            "max_width": null,
            "order": null,
            "_view_module_version": "1.2.0",
            "grid_template_areas": null,
            "object_position": null,
            "object_fit": null,
            "grid_auto_columns": null,
            "margin": null,
            "display": null,
            "left": null
          }
        },
        "60c0eda43d3a43b2bb0f1a38a413b276": {
          "model_module": "@jupyter-widgets/controls",
          "model_name": "ProgressStyleModel",
          "model_module_version": "1.5.0",
          "state": {
            "_view_name": "StyleView",
            "_model_name": "ProgressStyleModel",
            "description_width": "",
            "_view_module": "@jupyter-widgets/base",
            "_model_module_version": "1.5.0",
            "_view_count": null,
            "_view_module_version": "1.2.0",
            "bar_color": null,
            "_model_module": "@jupyter-widgets/controls"
          }
        },
        "5bad3342545e404f848f2ea6f807f31f": {
          "model_module": "@jupyter-widgets/base",
          "model_name": "LayoutModel",
          "model_module_version": "1.2.0",
          "state": {
            "_view_name": "LayoutView",
            "grid_template_rows": null,
            "right": null,
            "justify_content": null,
            "_view_module": "@jupyter-widgets/base",
            "overflow": null,
            "_model_module_version": "1.2.0",
            "_view_count": null,
            "flex_flow": null,
            "width": "20px",
            "min_width": null,
            "border": null,
            "align_items": null,
            "bottom": null,
            "_model_module": "@jupyter-widgets/base",
            "top": null,
            "grid_column": null,
            "overflow_y": null,
            "overflow_x": null,
            "grid_auto_flow": null,
            "grid_area": null,
            "grid_template_columns": null,
            "flex": null,
            "_model_name": "LayoutModel",
            "justify_items": null,
            "grid_row": null,
            "max_height": null,
            "align_content": null,
            "visibility": null,
            "align_self": null,
            "height": null,
            "min_height": null,
            "padding": null,
            "grid_auto_rows": null,
            "grid_gap": null,
            "max_width": null,
            "order": null,
            "_view_module_version": "1.2.0",
            "grid_template_areas": null,
            "object_position": null,
            "object_fit": null,
            "grid_auto_columns": null,
            "margin": null,
            "display": null,
            "left": null
          }
        },
        "3695a9d972c943728b47471ce4518628": {
          "model_module": "@jupyter-widgets/controls",
          "model_name": "DescriptionStyleModel",
          "model_module_version": "1.5.0",
          "state": {
            "_view_name": "StyleView",
            "_model_name": "DescriptionStyleModel",
            "description_width": "",
            "_view_module": "@jupyter-widgets/base",
            "_model_module_version": "1.5.0",
            "_view_count": null,
            "_view_module_version": "1.2.0",
            "_model_module": "@jupyter-widgets/controls"
          }
        },
        "b44d551ce29f46c8b9dd5be2c9b690d5": {
          "model_module": "@jupyter-widgets/base",
          "model_name": "LayoutModel",
          "model_module_version": "1.2.0",
          "state": {
            "_view_name": "LayoutView",
            "grid_template_rows": null,
            "right": null,
            "justify_content": null,
            "_view_module": "@jupyter-widgets/base",
            "overflow": null,
            "_model_module_version": "1.2.0",
            "_view_count": null,
            "flex_flow": null,
            "width": null,
            "min_width": null,
            "border": null,
            "align_items": null,
            "bottom": null,
            "_model_module": "@jupyter-widgets/base",
            "top": null,
            "grid_column": null,
            "overflow_y": null,
            "overflow_x": null,
            "grid_auto_flow": null,
            "grid_area": null,
            "grid_template_columns": null,
            "flex": null,
            "_model_name": "LayoutModel",
            "justify_items": null,
            "grid_row": null,
            "max_height": null,
            "align_content": null,
            "visibility": null,
            "align_self": null,
            "height": null,
            "min_height": null,
            "padding": null,
            "grid_auto_rows": null,
            "grid_gap": null,
            "max_width": null,
            "order": null,
            "_view_module_version": "1.2.0",
            "grid_template_areas": null,
            "object_position": null,
            "object_fit": null,
            "grid_auto_columns": null,
            "margin": null,
            "display": null,
            "left": null
          }
        },
        "3d868891582e4bed9fcf8509447790d7": {
          "model_module": "@jupyter-widgets/controls",
          "model_name": "HBoxModel",
          "model_module_version": "1.5.0",
          "state": {
            "_view_name": "HBoxView",
            "_dom_classes": [],
            "_model_name": "HBoxModel",
            "_view_module": "@jupyter-widgets/controls",
            "_model_module_version": "1.5.0",
            "_view_count": null,
            "_view_module_version": "1.5.0",
            "box_style": "",
            "layout": "IPY_MODEL_817321f06dc7483cbfda14a26cf764b5",
            "_model_module": "@jupyter-widgets/controls",
            "children": [
              "IPY_MODEL_c12fe6df0d824296877c01fc4c0e254c",
              "IPY_MODEL_77b5de4c603e40d6ae9eeac21898122c",
              "IPY_MODEL_489caf6710f54125a4fa0ea1d01cb843"
            ]
          }
        },
        "817321f06dc7483cbfda14a26cf764b5": {
          "model_module": "@jupyter-widgets/base",
          "model_name": "LayoutModel",
          "model_module_version": "1.2.0",
          "state": {
            "_view_name": "LayoutView",
            "grid_template_rows": null,
            "right": null,
            "justify_content": null,
            "_view_module": "@jupyter-widgets/base",
            "overflow": null,
            "_model_module_version": "1.2.0",
            "_view_count": null,
            "flex_flow": null,
            "width": null,
            "min_width": null,
            "border": null,
            "align_items": null,
            "bottom": null,
            "_model_module": "@jupyter-widgets/base",
            "top": null,
            "grid_column": null,
            "overflow_y": null,
            "overflow_x": null,
            "grid_auto_flow": null,
            "grid_area": null,
            "grid_template_columns": null,
            "flex": null,
            "_model_name": "LayoutModel",
            "justify_items": null,
            "grid_row": null,
            "max_height": null,
            "align_content": null,
            "visibility": null,
            "align_self": null,
            "height": null,
            "min_height": null,
            "padding": null,
            "grid_auto_rows": null,
            "grid_gap": null,
            "max_width": null,
            "order": null,
            "_view_module_version": "1.2.0",
            "grid_template_areas": null,
            "object_position": null,
            "object_fit": null,
            "grid_auto_columns": null,
            "margin": null,
            "display": null,
            "left": null
          }
        },
        "c12fe6df0d824296877c01fc4c0e254c": {
          "model_module": "@jupyter-widgets/controls",
          "model_name": "HTMLModel",
          "model_module_version": "1.5.0",
          "state": {
            "_view_name": "HTMLView",
            "style": "IPY_MODEL_edd3534e8da847b5b9feec69d2672148",
            "_dom_classes": [],
            "description": "",
            "_model_name": "HTMLModel",
            "placeholder": "​",
            "_view_module": "@jupyter-widgets/controls",
            "_model_module_version": "1.5.0",
            "value": "Dl Size...: 100%",
            "_view_count": null,
            "_view_module_version": "1.5.0",
            "description_tooltip": null,
            "_model_module": "@jupyter-widgets/controls",
            "layout": "IPY_MODEL_d179f66891d344458c9233b9ef1a95e2"
          }
        },
        "77b5de4c603e40d6ae9eeac21898122c": {
          "model_module": "@jupyter-widgets/controls",
          "model_name": "FloatProgressModel",
          "model_module_version": "1.5.0",
          "state": {
            "_view_name": "ProgressView",
            "style": "IPY_MODEL_a8e974eb252a47dea466f1c40fbf93d9",
            "_dom_classes": [],
            "description": "",
            "_model_name": "FloatProgressModel",
            "bar_style": "success",
            "max": 1,
            "_view_module": "@jupyter-widgets/controls",
            "_model_module_version": "1.5.0",
            "value": 1,
            "_view_count": null,
            "_view_module_version": "1.5.0",
            "orientation": "horizontal",
            "min": 0,
            "description_tooltip": null,
            "_model_module": "@jupyter-widgets/controls",
            "layout": "IPY_MODEL_de1dfceb4c2c49898f479e6613b990b1"
          }
        },
        "489caf6710f54125a4fa0ea1d01cb843": {
          "model_module": "@jupyter-widgets/controls",
          "model_name": "HTMLModel",
          "model_module_version": "1.5.0",
          "state": {
            "_view_name": "HTMLView",
            "style": "IPY_MODEL_3bc7c0c23be2447fab2b8eaaa5c7d390",
            "_dom_classes": [],
            "description": "",
            "_model_name": "HTMLModel",
            "placeholder": "​",
            "_view_module": "@jupyter-widgets/controls",
            "_model_module_version": "1.5.0",
            "value": " 337/337 [02:35&lt;00:00,  2.33 MiB/s]",
            "_view_count": null,
            "_view_module_version": "1.5.0",
            "description_tooltip": null,
            "_model_module": "@jupyter-widgets/controls",
            "layout": "IPY_MODEL_b525fe0849fd4df1ab666f57723fc321"
          }
        },
        "edd3534e8da847b5b9feec69d2672148": {
          "model_module": "@jupyter-widgets/controls",
          "model_name": "DescriptionStyleModel",
          "model_module_version": "1.5.0",
          "state": {
            "_view_name": "StyleView",
            "_model_name": "DescriptionStyleModel",
            "description_width": "",
            "_view_module": "@jupyter-widgets/base",
            "_model_module_version": "1.5.0",
            "_view_count": null,
            "_view_module_version": "1.2.0",
            "_model_module": "@jupyter-widgets/controls"
          }
        },
        "d179f66891d344458c9233b9ef1a95e2": {
          "model_module": "@jupyter-widgets/base",
          "model_name": "LayoutModel",
          "model_module_version": "1.2.0",
          "state": {
            "_view_name": "LayoutView",
            "grid_template_rows": null,
            "right": null,
            "justify_content": null,
            "_view_module": "@jupyter-widgets/base",
            "overflow": null,
            "_model_module_version": "1.2.0",
            "_view_count": null,
            "flex_flow": null,
            "width": null,
            "min_width": null,
            "border": null,
            "align_items": null,
            "bottom": null,
            "_model_module": "@jupyter-widgets/base",
            "top": null,
            "grid_column": null,
            "overflow_y": null,
            "overflow_x": null,
            "grid_auto_flow": null,
            "grid_area": null,
            "grid_template_columns": null,
            "flex": null,
            "_model_name": "LayoutModel",
            "justify_items": null,
            "grid_row": null,
            "max_height": null,
            "align_content": null,
            "visibility": null,
            "align_self": null,
            "height": null,
            "min_height": null,
            "padding": null,
            "grid_auto_rows": null,
            "grid_gap": null,
            "max_width": null,
            "order": null,
            "_view_module_version": "1.2.0",
            "grid_template_areas": null,
            "object_position": null,
            "object_fit": null,
            "grid_auto_columns": null,
            "margin": null,
            "display": null,
            "left": null
          }
        },
        "a8e974eb252a47dea466f1c40fbf93d9": {
          "model_module": "@jupyter-widgets/controls",
          "model_name": "ProgressStyleModel",
          "model_module_version": "1.5.0",
          "state": {
            "_view_name": "StyleView",
            "_model_name": "ProgressStyleModel",
            "description_width": "",
            "_view_module": "@jupyter-widgets/base",
            "_model_module_version": "1.5.0",
            "_view_count": null,
            "_view_module_version": "1.2.0",
            "bar_color": null,
            "_model_module": "@jupyter-widgets/controls"
          }
        },
        "de1dfceb4c2c49898f479e6613b990b1": {
          "model_module": "@jupyter-widgets/base",
          "model_name": "LayoutModel",
          "model_module_version": "1.2.0",
          "state": {
            "_view_name": "LayoutView",
            "grid_template_rows": null,
            "right": null,
            "justify_content": null,
            "_view_module": "@jupyter-widgets/base",
            "overflow": null,
            "_model_module_version": "1.2.0",
            "_view_count": null,
            "flex_flow": null,
            "width": "20px",
            "min_width": null,
            "border": null,
            "align_items": null,
            "bottom": null,
            "_model_module": "@jupyter-widgets/base",
            "top": null,
            "grid_column": null,
            "overflow_y": null,
            "overflow_x": null,
            "grid_auto_flow": null,
            "grid_area": null,
            "grid_template_columns": null,
            "flex": null,
            "_model_name": "LayoutModel",
            "justify_items": null,
            "grid_row": null,
            "max_height": null,
            "align_content": null,
            "visibility": null,
            "align_self": null,
            "height": null,
            "min_height": null,
            "padding": null,
            "grid_auto_rows": null,
            "grid_gap": null,
            "max_width": null,
            "order": null,
            "_view_module_version": "1.2.0",
            "grid_template_areas": null,
            "object_position": null,
            "object_fit": null,
            "grid_auto_columns": null,
            "margin": null,
            "display": null,
            "left": null
          }
        },
        "3bc7c0c23be2447fab2b8eaaa5c7d390": {
          "model_module": "@jupyter-widgets/controls",
          "model_name": "DescriptionStyleModel",
          "model_module_version": "1.5.0",
          "state": {
            "_view_name": "StyleView",
            "_model_name": "DescriptionStyleModel",
            "description_width": "",
            "_view_module": "@jupyter-widgets/base",
            "_model_module_version": "1.5.0",
            "_view_count": null,
            "_view_module_version": "1.2.0",
            "_model_module": "@jupyter-widgets/controls"
          }
        },
        "b525fe0849fd4df1ab666f57723fc321": {
          "model_module": "@jupyter-widgets/base",
          "model_name": "LayoutModel",
          "model_module_version": "1.2.0",
          "state": {
            "_view_name": "LayoutView",
            "grid_template_rows": null,
            "right": null,
            "justify_content": null,
            "_view_module": "@jupyter-widgets/base",
            "overflow": null,
            "_model_module_version": "1.2.0",
            "_view_count": null,
            "flex_flow": null,
            "width": null,
            "min_width": null,
            "border": null,
            "align_items": null,
            "bottom": null,
            "_model_module": "@jupyter-widgets/base",
            "top": null,
            "grid_column": null,
            "overflow_y": null,
            "overflow_x": null,
            "grid_auto_flow": null,
            "grid_area": null,
            "grid_template_columns": null,
            "flex": null,
            "_model_name": "LayoutModel",
            "justify_items": null,
            "grid_row": null,
            "max_height": null,
            "align_content": null,
            "visibility": null,
            "align_self": null,
            "height": null,
            "min_height": null,
            "padding": null,
            "grid_auto_rows": null,
            "grid_gap": null,
            "max_width": null,
            "order": null,
            "_view_module_version": "1.2.0",
            "grid_template_areas": null,
            "object_position": null,
            "object_fit": null,
            "grid_auto_columns": null,
            "margin": null,
            "display": null,
            "left": null
          }
        },
        "238016806686408bb417e1b1e524a317": {
          "model_module": "@jupyter-widgets/controls",
          "model_name": "HBoxModel",
          "model_module_version": "1.5.0",
          "state": {
            "_view_name": "HBoxView",
            "_dom_classes": [],
            "_model_name": "HBoxModel",
            "_view_module": "@jupyter-widgets/controls",
            "_model_module_version": "1.5.0",
            "_view_count": null,
            "_view_module_version": "1.5.0",
            "box_style": "",
            "layout": "IPY_MODEL_ba723d26431b46b8a83888c361e57f8b",
            "_model_module": "@jupyter-widgets/controls",
            "children": [
              "IPY_MODEL_749ee67216364104aeee96a6ada30a82",
              "IPY_MODEL_c71b43485207400a9c39b575ddec0383",
              "IPY_MODEL_848e3903edeb440083ec5d198d20d217"
            ]
          }
        },
        "ba723d26431b46b8a83888c361e57f8b": {
          "model_module": "@jupyter-widgets/base",
          "model_name": "LayoutModel",
          "model_module_version": "1.2.0",
          "state": {
            "_view_name": "LayoutView",
            "grid_template_rows": null,
            "right": null,
            "justify_content": null,
            "_view_module": "@jupyter-widgets/base",
            "overflow": null,
            "_model_module_version": "1.2.0",
            "_view_count": null,
            "flex_flow": null,
            "width": null,
            "min_width": null,
            "border": null,
            "align_items": null,
            "bottom": null,
            "_model_module": "@jupyter-widgets/base",
            "top": null,
            "grid_column": null,
            "overflow_y": null,
            "overflow_x": null,
            "grid_auto_flow": null,
            "grid_area": null,
            "grid_template_columns": null,
            "flex": null,
            "_model_name": "LayoutModel",
            "justify_items": null,
            "grid_row": null,
            "max_height": null,
            "align_content": null,
            "visibility": null,
            "align_self": null,
            "height": null,
            "min_height": null,
            "padding": null,
            "grid_auto_rows": null,
            "grid_gap": null,
            "max_width": null,
            "order": null,
            "_view_module_version": "1.2.0",
            "grid_template_areas": null,
            "object_position": null,
            "object_fit": null,
            "grid_auto_columns": null,
            "margin": null,
            "display": null,
            "left": null
          }
        },
        "749ee67216364104aeee96a6ada30a82": {
          "model_module": "@jupyter-widgets/controls",
          "model_name": "HTMLModel",
          "model_module_version": "1.5.0",
          "state": {
            "_view_name": "HTMLView",
            "style": "IPY_MODEL_b7e94f2dc62d43029a538f43fcfadb53",
            "_dom_classes": [],
            "description": "",
            "_model_name": "HTMLModel",
            "placeholder": "​",
            "_view_module": "@jupyter-widgets/controls",
            "_model_module_version": "1.5.0",
            "value": "Extraction completed...: 100%",
            "_view_count": null,
            "_view_module_version": "1.5.0",
            "description_tooltip": null,
            "_model_module": "@jupyter-widgets/controls",
            "layout": "IPY_MODEL_f7b38dfc27d84297ac26949303c1347e"
          }
        },
        "c71b43485207400a9c39b575ddec0383": {
          "model_module": "@jupyter-widgets/controls",
          "model_name": "FloatProgressModel",
          "model_module_version": "1.5.0",
          "state": {
            "_view_name": "ProgressView",
            "style": "IPY_MODEL_c470d9ea1e364d5ea82263721b1add7e",
            "_dom_classes": [],
            "description": "",
            "_model_name": "FloatProgressModel",
            "bar_style": "success",
            "max": 1,
            "_view_module": "@jupyter-widgets/controls",
            "_model_module_version": "1.5.0",
            "value": 1,
            "_view_count": null,
            "_view_module_version": "1.5.0",
            "orientation": "horizontal",
            "min": 0,
            "description_tooltip": null,
            "_model_module": "@jupyter-widgets/controls",
            "layout": "IPY_MODEL_4645d4e5706d434f89ca8df55f1d271b"
          }
        },
        "848e3903edeb440083ec5d198d20d217": {
          "model_module": "@jupyter-widgets/controls",
          "model_name": "HTMLModel",
          "model_module_version": "1.5.0",
          "state": {
            "_view_name": "HTMLView",
            "style": "IPY_MODEL_6ab50e14dbed484a8e71ee43ed338abc",
            "_dom_classes": [],
            "description": "",
            "_model_name": "HTMLModel",
            "placeholder": "​",
            "_view_module": "@jupyter-widgets/controls",
            "_model_module_version": "1.5.0",
            "value": " 1/1 [02:35&lt;00:00, 155.57s/ file]",
            "_view_count": null,
            "_view_module_version": "1.5.0",
            "description_tooltip": null,
            "_model_module": "@jupyter-widgets/controls",
            "layout": "IPY_MODEL_c5f67d8aa79044808968b9be52623865"
          }
        },
        "b7e94f2dc62d43029a538f43fcfadb53": {
          "model_module": "@jupyter-widgets/controls",
          "model_name": "DescriptionStyleModel",
          "model_module_version": "1.5.0",
          "state": {
            "_view_name": "StyleView",
            "_model_name": "DescriptionStyleModel",
            "description_width": "",
            "_view_module": "@jupyter-widgets/base",
            "_model_module_version": "1.5.0",
            "_view_count": null,
            "_view_module_version": "1.2.0",
            "_model_module": "@jupyter-widgets/controls"
          }
        },
        "f7b38dfc27d84297ac26949303c1347e": {
          "model_module": "@jupyter-widgets/base",
          "model_name": "LayoutModel",
          "model_module_version": "1.2.0",
          "state": {
            "_view_name": "LayoutView",
            "grid_template_rows": null,
            "right": null,
            "justify_content": null,
            "_view_module": "@jupyter-widgets/base",
            "overflow": null,
            "_model_module_version": "1.2.0",
            "_view_count": null,
            "flex_flow": null,
            "width": null,
            "min_width": null,
            "border": null,
            "align_items": null,
            "bottom": null,
            "_model_module": "@jupyter-widgets/base",
            "top": null,
            "grid_column": null,
            "overflow_y": null,
            "overflow_x": null,
            "grid_auto_flow": null,
            "grid_area": null,
            "grid_template_columns": null,
            "flex": null,
            "_model_name": "LayoutModel",
            "justify_items": null,
            "grid_row": null,
            "max_height": null,
            "align_content": null,
            "visibility": null,
            "align_self": null,
            "height": null,
            "min_height": null,
            "padding": null,
            "grid_auto_rows": null,
            "grid_gap": null,
            "max_width": null,
            "order": null,
            "_view_module_version": "1.2.0",
            "grid_template_areas": null,
            "object_position": null,
            "object_fit": null,
            "grid_auto_columns": null,
            "margin": null,
            "display": null,
            "left": null
          }
        },
        "c470d9ea1e364d5ea82263721b1add7e": {
          "model_module": "@jupyter-widgets/controls",
          "model_name": "ProgressStyleModel",
          "model_module_version": "1.5.0",
          "state": {
            "_view_name": "StyleView",
            "_model_name": "ProgressStyleModel",
            "description_width": "",
            "_view_module": "@jupyter-widgets/base",
            "_model_module_version": "1.5.0",
            "_view_count": null,
            "_view_module_version": "1.2.0",
            "bar_color": null,
            "_model_module": "@jupyter-widgets/controls"
          }
        },
        "4645d4e5706d434f89ca8df55f1d271b": {
          "model_module": "@jupyter-widgets/base",
          "model_name": "LayoutModel",
          "model_module_version": "1.2.0",
          "state": {
            "_view_name": "LayoutView",
            "grid_template_rows": null,
            "right": null,
            "justify_content": null,
            "_view_module": "@jupyter-widgets/base",
            "overflow": null,
            "_model_module_version": "1.2.0",
            "_view_count": null,
            "flex_flow": null,
            "width": "20px",
            "min_width": null,
            "border": null,
            "align_items": null,
            "bottom": null,
            "_model_module": "@jupyter-widgets/base",
            "top": null,
            "grid_column": null,
            "overflow_y": null,
            "overflow_x": null,
            "grid_auto_flow": null,
            "grid_area": null,
            "grid_template_columns": null,
            "flex": null,
            "_model_name": "LayoutModel",
            "justify_items": null,
            "grid_row": null,
            "max_height": null,
            "align_content": null,
            "visibility": null,
            "align_self": null,
            "height": null,
            "min_height": null,
            "padding": null,
            "grid_auto_rows": null,
            "grid_gap": null,
            "max_width": null,
            "order": null,
            "_view_module_version": "1.2.0",
            "grid_template_areas": null,
            "object_position": null,
            "object_fit": null,
            "grid_auto_columns": null,
            "margin": null,
            "display": null,
            "left": null
          }
        },
        "6ab50e14dbed484a8e71ee43ed338abc": {
          "model_module": "@jupyter-widgets/controls",
          "model_name": "DescriptionStyleModel",
          "model_module_version": "1.5.0",
          "state": {
            "_view_name": "StyleView",
            "_model_name": "DescriptionStyleModel",
            "description_width": "",
            "_view_module": "@jupyter-widgets/base",
            "_model_module_version": "1.5.0",
            "_view_count": null,
            "_view_module_version": "1.2.0",
            "_model_module": "@jupyter-widgets/controls"
          }
        },
        "c5f67d8aa79044808968b9be52623865": {
          "model_module": "@jupyter-widgets/base",
          "model_name": "LayoutModel",
          "model_module_version": "1.2.0",
          "state": {
            "_view_name": "LayoutView",
            "grid_template_rows": null,
            "right": null,
            "justify_content": null,
            "_view_module": "@jupyter-widgets/base",
            "overflow": null,
            "_model_module_version": "1.2.0",
            "_view_count": null,
            "flex_flow": null,
            "width": null,
            "min_width": null,
            "border": null,
            "align_items": null,
            "bottom": null,
            "_model_module": "@jupyter-widgets/base",
            "top": null,
            "grid_column": null,
            "overflow_y": null,
            "overflow_x": null,
            "grid_auto_flow": null,
            "grid_area": null,
            "grid_template_columns": null,
            "flex": null,
            "_model_name": "LayoutModel",
            "justify_items": null,
            "grid_row": null,
            "max_height": null,
            "align_content": null,
            "visibility": null,
            "align_self": null,
            "height": null,
            "min_height": null,
            "padding": null,
            "grid_auto_rows": null,
            "grid_gap": null,
            "max_width": null,
            "order": null,
            "_view_module_version": "1.2.0",
            "grid_template_areas": null,
            "object_position": null,
            "object_fit": null,
            "grid_auto_columns": null,
            "margin": null,
            "display": null,
            "left": null
          }
        },
        "d4376d89535541bfb4a0077702e7ba63": {
          "model_module": "@jupyter-widgets/controls",
          "model_name": "HBoxModel",
          "model_module_version": "1.5.0",
          "state": {
            "_view_name": "HBoxView",
            "_dom_classes": [],
            "_model_name": "HBoxModel",
            "_view_module": "@jupyter-widgets/controls",
            "_model_module_version": "1.5.0",
            "_view_count": null,
            "_view_module_version": "1.5.0",
            "box_style": "",
            "layout": "IPY_MODEL_8eff645aa528453392e2388941576675",
            "_model_module": "@jupyter-widgets/controls",
            "children": [
              "IPY_MODEL_647a58258458417cb0a0ac652ee6038c",
              "IPY_MODEL_2649d10d879f4652b0986f90550e0ff0",
              "IPY_MODEL_bfec906293d84bb68cb3f66cc997a17f"
            ]
          }
        },
        "8eff645aa528453392e2388941576675": {
          "model_module": "@jupyter-widgets/base",
          "model_name": "LayoutModel",
          "model_module_version": "1.2.0",
          "state": {
            "_view_name": "LayoutView",
            "grid_template_rows": null,
            "right": null,
            "justify_content": null,
            "_view_module": "@jupyter-widgets/base",
            "overflow": null,
            "_model_module_version": "1.2.0",
            "_view_count": null,
            "flex_flow": null,
            "width": null,
            "min_width": null,
            "border": null,
            "align_items": null,
            "bottom": null,
            "_model_module": "@jupyter-widgets/base",
            "top": null,
            "grid_column": null,
            "overflow_y": null,
            "overflow_x": null,
            "grid_auto_flow": null,
            "grid_area": null,
            "grid_template_columns": null,
            "flex": null,
            "_model_name": "LayoutModel",
            "justify_items": null,
            "grid_row": null,
            "max_height": null,
            "align_content": null,
            "visibility": null,
            "align_self": null,
            "height": null,
            "min_height": null,
            "padding": null,
            "grid_auto_rows": null,
            "grid_gap": null,
            "max_width": null,
            "order": null,
            "_view_module_version": "1.2.0",
            "grid_template_areas": null,
            "object_position": null,
            "object_fit": null,
            "grid_auto_columns": null,
            "margin": null,
            "display": null,
            "left": null
          }
        },
        "647a58258458417cb0a0ac652ee6038c": {
          "model_module": "@jupyter-widgets/controls",
          "model_name": "HTMLModel",
          "model_module_version": "1.5.0",
          "state": {
            "_view_name": "HTMLView",
            "style": "IPY_MODEL_2d47bf1d3a294da29a205b70fa2990fe",
            "_dom_classes": [],
            "description": "",
            "_model_name": "HTMLModel",
            "placeholder": "​",
            "_view_module": "@jupyter-widgets/controls",
            "_model_module_version": "1.5.0",
            "value": "",
            "_view_count": null,
            "_view_module_version": "1.5.0",
            "description_tooltip": null,
            "_model_module": "@jupyter-widgets/controls",
            "layout": "IPY_MODEL_2012939dc97044858e35e13af9af1b3f"
          }
        },
        "2649d10d879f4652b0986f90550e0ff0": {
          "model_module": "@jupyter-widgets/controls",
          "model_name": "FloatProgressModel",
          "model_module_version": "1.5.0",
          "state": {
            "_view_name": "ProgressView",
            "style": "IPY_MODEL_893b970c3f1942ee879b5561e6fdb801",
            "_dom_classes": [],
            "description": "",
            "_model_name": "FloatProgressModel",
            "bar_style": "info",
            "max": 1,
            "_view_module": "@jupyter-widgets/controls",
            "_model_module_version": "1.5.0",
            "value": 1,
            "_view_count": null,
            "_view_module_version": "1.5.0",
            "orientation": "horizontal",
            "min": 0,
            "description_tooltip": null,
            "_model_module": "@jupyter-widgets/controls",
            "layout": "IPY_MODEL_4b3142ecbf5f42be9add9d853d669d08"
          }
        },
        "bfec906293d84bb68cb3f66cc997a17f": {
          "model_module": "@jupyter-widgets/controls",
          "model_name": "HTMLModel",
          "model_module_version": "1.5.0",
          "state": {
            "_view_name": "HTMLView",
            "style": "IPY_MODEL_9596ae0632bf47d7a96d3db3687bd3be",
            "_dom_classes": [],
            "description": "",
            "_model_name": "HTMLModel",
            "placeholder": "​",
            "_view_module": "@jupyter-widgets/controls",
            "_model_module_version": "1.5.0",
            "value": " 27385/0 [00:11&lt;00:00, 2454.11 examples/s]",
            "_view_count": null,
            "_view_module_version": "1.5.0",
            "description_tooltip": null,
            "_model_module": "@jupyter-widgets/controls",
            "layout": "IPY_MODEL_be66f227e2894d47bf647f512ce09d03"
          }
        },
        "2d47bf1d3a294da29a205b70fa2990fe": {
          "model_module": "@jupyter-widgets/controls",
          "model_name": "DescriptionStyleModel",
          "model_module_version": "1.5.0",
          "state": {
            "_view_name": "StyleView",
            "_model_name": "DescriptionStyleModel",
            "description_width": "",
            "_view_module": "@jupyter-widgets/base",
            "_model_module_version": "1.5.0",
            "_view_count": null,
            "_view_module_version": "1.2.0",
            "_model_module": "@jupyter-widgets/controls"
          }
        },
        "2012939dc97044858e35e13af9af1b3f": {
          "model_module": "@jupyter-widgets/base",
          "model_name": "LayoutModel",
          "model_module_version": "1.2.0",
          "state": {
            "_view_name": "LayoutView",
            "grid_template_rows": null,
            "right": null,
            "justify_content": null,
            "_view_module": "@jupyter-widgets/base",
            "overflow": null,
            "_model_module_version": "1.2.0",
            "_view_count": null,
            "flex_flow": null,
            "width": null,
            "min_width": null,
            "border": null,
            "align_items": null,
            "bottom": null,
            "_model_module": "@jupyter-widgets/base",
            "top": null,
            "grid_column": null,
            "overflow_y": null,
            "overflow_x": null,
            "grid_auto_flow": null,
            "grid_area": null,
            "grid_template_columns": null,
            "flex": null,
            "_model_name": "LayoutModel",
            "justify_items": null,
            "grid_row": null,
            "max_height": null,
            "align_content": null,
            "visibility": null,
            "align_self": null,
            "height": null,
            "min_height": null,
            "padding": null,
            "grid_auto_rows": null,
            "grid_gap": null,
            "max_width": null,
            "order": null,
            "_view_module_version": "1.2.0",
            "grid_template_areas": null,
            "object_position": null,
            "object_fit": null,
            "grid_auto_columns": null,
            "margin": null,
            "display": null,
            "left": null
          }
        },
        "893b970c3f1942ee879b5561e6fdb801": {
          "model_module": "@jupyter-widgets/controls",
          "model_name": "ProgressStyleModel",
          "model_module_version": "1.5.0",
          "state": {
            "_view_name": "StyleView",
            "_model_name": "ProgressStyleModel",
            "description_width": "",
            "_view_module": "@jupyter-widgets/base",
            "_model_module_version": "1.5.0",
            "_view_count": null,
            "_view_module_version": "1.2.0",
            "bar_color": null,
            "_model_module": "@jupyter-widgets/controls"
          }
        },
        "4b3142ecbf5f42be9add9d853d669d08": {
          "model_module": "@jupyter-widgets/base",
          "model_name": "LayoutModel",
          "model_module_version": "1.2.0",
          "state": {
            "_view_name": "LayoutView",
            "grid_template_rows": null,
            "right": null,
            "justify_content": null,
            "_view_module": "@jupyter-widgets/base",
            "overflow": null,
            "_model_module_version": "1.2.0",
            "_view_count": null,
            "flex_flow": null,
            "width": "20px",
            "min_width": null,
            "border": null,
            "align_items": null,
            "bottom": null,
            "_model_module": "@jupyter-widgets/base",
            "top": null,
            "grid_column": null,
            "overflow_y": null,
            "overflow_x": null,
            "grid_auto_flow": null,
            "grid_area": null,
            "grid_template_columns": null,
            "flex": null,
            "_model_name": "LayoutModel",
            "justify_items": null,
            "grid_row": null,
            "max_height": null,
            "align_content": null,
            "visibility": null,
            "align_self": null,
            "height": null,
            "min_height": null,
            "padding": null,
            "grid_auto_rows": null,
            "grid_gap": null,
            "max_width": null,
            "order": null,
            "_view_module_version": "1.2.0",
            "grid_template_areas": null,
            "object_position": null,
            "object_fit": null,
            "grid_auto_columns": null,
            "margin": null,
            "display": null,
            "left": null
          }
        },
        "9596ae0632bf47d7a96d3db3687bd3be": {
          "model_module": "@jupyter-widgets/controls",
          "model_name": "DescriptionStyleModel",
          "model_module_version": "1.5.0",
          "state": {
            "_view_name": "StyleView",
            "_model_name": "DescriptionStyleModel",
            "description_width": "",
            "_view_module": "@jupyter-widgets/base",
            "_model_module_version": "1.5.0",
            "_view_count": null,
            "_view_module_version": "1.2.0",
            "_model_module": "@jupyter-widgets/controls"
          }
        },
        "be66f227e2894d47bf647f512ce09d03": {
          "model_module": "@jupyter-widgets/base",
          "model_name": "LayoutModel",
          "model_module_version": "1.2.0",
          "state": {
            "_view_name": "LayoutView",
            "grid_template_rows": null,
            "right": null,
            "justify_content": null,
            "_view_module": "@jupyter-widgets/base",
            "overflow": null,
            "_model_module_version": "1.2.0",
            "_view_count": null,
            "flex_flow": null,
            "width": null,
            "min_width": null,
            "border": null,
            "align_items": null,
            "bottom": null,
            "_model_module": "@jupyter-widgets/base",
            "top": null,
            "grid_column": null,
            "overflow_y": null,
            "overflow_x": null,
            "grid_auto_flow": null,
            "grid_area": null,
            "grid_template_columns": null,
            "flex": null,
            "_model_name": "LayoutModel",
            "justify_items": null,
            "grid_row": null,
            "max_height": null,
            "align_content": null,
            "visibility": null,
            "align_self": null,
            "height": null,
            "min_height": null,
            "padding": null,
            "grid_auto_rows": null,
            "grid_gap": null,
            "max_width": null,
            "order": null,
            "_view_module_version": "1.2.0",
            "grid_template_areas": null,
            "object_position": null,
            "object_fit": null,
            "grid_auto_columns": null,
            "margin": null,
            "display": null,
            "left": null
          }
        },
        "fb7bd5879e2042a4b2406f87e854be59": {
          "model_module": "@jupyter-widgets/controls",
          "model_name": "HBoxModel",
          "model_module_version": "1.5.0",
          "state": {
            "_view_name": "HBoxView",
            "_dom_classes": [],
            "_model_name": "HBoxModel",
            "_view_module": "@jupyter-widgets/controls",
            "_model_module_version": "1.5.0",
            "_view_count": null,
            "_view_module_version": "1.5.0",
            "box_style": "",
            "layout": "IPY_MODEL_e39a804aa6074cb2a174e829f0af56c4",
            "_model_module": "@jupyter-widgets/controls",
            "children": [
              "IPY_MODEL_7f3370d3b8f943b7aa80e8ad9561fab7",
              "IPY_MODEL_0f93e96f2fd64d0ebcef05ec9beeb663",
              "IPY_MODEL_694230267dbd40b5aaf372f5357378ae"
            ]
          }
        },
        "e39a804aa6074cb2a174e829f0af56c4": {
          "model_module": "@jupyter-widgets/base",
          "model_name": "LayoutModel",
          "model_module_version": "1.2.0",
          "state": {
            "_view_name": "LayoutView",
            "grid_template_rows": null,
            "right": null,
            "justify_content": null,
            "_view_module": "@jupyter-widgets/base",
            "overflow": null,
            "_model_module_version": "1.2.0",
            "_view_count": null,
            "flex_flow": null,
            "width": null,
            "min_width": null,
            "border": null,
            "align_items": null,
            "bottom": null,
            "_model_module": "@jupyter-widgets/base",
            "top": null,
            "grid_column": null,
            "overflow_y": null,
            "overflow_x": null,
            "grid_auto_flow": null,
            "grid_area": null,
            "grid_template_columns": null,
            "flex": null,
            "_model_name": "LayoutModel",
            "justify_items": null,
            "grid_row": null,
            "max_height": null,
            "align_content": null,
            "visibility": null,
            "align_self": null,
            "height": null,
            "min_height": null,
            "padding": null,
            "grid_auto_rows": null,
            "grid_gap": null,
            "max_width": null,
            "order": null,
            "_view_module_version": "1.2.0",
            "grid_template_areas": null,
            "object_position": null,
            "object_fit": null,
            "grid_auto_columns": null,
            "margin": null,
            "display": null,
            "left": null
          }
        },
        "7f3370d3b8f943b7aa80e8ad9561fab7": {
          "model_module": "@jupyter-widgets/controls",
          "model_name": "HTMLModel",
          "model_module_version": "1.5.0",
          "state": {
            "_view_name": "HTMLView",
            "style": "IPY_MODEL_ea4e8485837240b6af402621f257685b",
            "_dom_classes": [],
            "description": "",
            "_model_name": "HTMLModel",
            "placeholder": "​",
            "_view_module": "@jupyter-widgets/controls",
            "_model_module_version": "1.5.0",
            "value": "100%",
            "_view_count": null,
            "_view_module_version": "1.5.0",
            "description_tooltip": null,
            "_model_module": "@jupyter-widgets/controls",
            "layout": "IPY_MODEL_a32beffabffc4cd4b1c176cac2d66a37"
          }
        },
        "0f93e96f2fd64d0ebcef05ec9beeb663": {
          "model_module": "@jupyter-widgets/controls",
          "model_name": "FloatProgressModel",
          "model_module_version": "1.5.0",
          "state": {
            "_view_name": "ProgressView",
            "style": "IPY_MODEL_0041e0f051a94b3d84323fd35cddf37d",
            "_dom_classes": [],
            "description": "",
            "_model_name": "FloatProgressModel",
            "bar_style": "danger",
            "max": 27558,
            "_view_module": "@jupyter-widgets/controls",
            "_model_module_version": "1.5.0",
            "value": 27557,
            "_view_count": null,
            "_view_module_version": "1.5.0",
            "orientation": "horizontal",
            "min": 0,
            "description_tooltip": null,
            "_model_module": "@jupyter-widgets/controls",
            "layout": "IPY_MODEL_22f1f7254851473299fcb53f89942246"
          }
        },
        "694230267dbd40b5aaf372f5357378ae": {
          "model_module": "@jupyter-widgets/controls",
          "model_name": "HTMLModel",
          "model_module_version": "1.5.0",
          "state": {
            "_view_name": "HTMLView",
            "style": "IPY_MODEL_135130a5d2734fd1afb5b851aaf28b86",
            "_dom_classes": [],
            "description": "",
            "_model_name": "HTMLModel",
            "placeholder": "​",
            "_view_module": "@jupyter-widgets/controls",
            "_model_module_version": "1.5.0",
            "value": " 27557/27558 [00:01&lt;00:00, 29856.70 examples/s]",
            "_view_count": null,
            "_view_module_version": "1.5.0",
            "description_tooltip": null,
            "_model_module": "@jupyter-widgets/controls",
            "layout": "IPY_MODEL_85c164022f79489e9ad9265400cff7e9"
          }
        },
        "ea4e8485837240b6af402621f257685b": {
          "model_module": "@jupyter-widgets/controls",
          "model_name": "DescriptionStyleModel",
          "model_module_version": "1.5.0",
          "state": {
            "_view_name": "StyleView",
            "_model_name": "DescriptionStyleModel",
            "description_width": "",
            "_view_module": "@jupyter-widgets/base",
            "_model_module_version": "1.5.0",
            "_view_count": null,
            "_view_module_version": "1.2.0",
            "_model_module": "@jupyter-widgets/controls"
          }
        },
        "a32beffabffc4cd4b1c176cac2d66a37": {
          "model_module": "@jupyter-widgets/base",
          "model_name": "LayoutModel",
          "model_module_version": "1.2.0",
          "state": {
            "_view_name": "LayoutView",
            "grid_template_rows": null,
            "right": null,
            "justify_content": null,
            "_view_module": "@jupyter-widgets/base",
            "overflow": null,
            "_model_module_version": "1.2.0",
            "_view_count": null,
            "flex_flow": null,
            "width": null,
            "min_width": null,
            "border": null,
            "align_items": null,
            "bottom": null,
            "_model_module": "@jupyter-widgets/base",
            "top": null,
            "grid_column": null,
            "overflow_y": null,
            "overflow_x": null,
            "grid_auto_flow": null,
            "grid_area": null,
            "grid_template_columns": null,
            "flex": null,
            "_model_name": "LayoutModel",
            "justify_items": null,
            "grid_row": null,
            "max_height": null,
            "align_content": null,
            "visibility": null,
            "align_self": null,
            "height": null,
            "min_height": null,
            "padding": null,
            "grid_auto_rows": null,
            "grid_gap": null,
            "max_width": null,
            "order": null,
            "_view_module_version": "1.2.0",
            "grid_template_areas": null,
            "object_position": null,
            "object_fit": null,
            "grid_auto_columns": null,
            "margin": null,
            "display": null,
            "left": null
          }
        },
        "0041e0f051a94b3d84323fd35cddf37d": {
          "model_module": "@jupyter-widgets/controls",
          "model_name": "ProgressStyleModel",
          "model_module_version": "1.5.0",
          "state": {
            "_view_name": "StyleView",
            "_model_name": "ProgressStyleModel",
            "description_width": "",
            "_view_module": "@jupyter-widgets/base",
            "_model_module_version": "1.5.0",
            "_view_count": null,
            "_view_module_version": "1.2.0",
            "bar_color": null,
            "_model_module": "@jupyter-widgets/controls"
          }
        },
        "22f1f7254851473299fcb53f89942246": {
          "model_module": "@jupyter-widgets/base",
          "model_name": "LayoutModel",
          "model_module_version": "1.2.0",
          "state": {
            "_view_name": "LayoutView",
            "grid_template_rows": null,
            "right": null,
            "justify_content": null,
            "_view_module": "@jupyter-widgets/base",
            "overflow": null,
            "_model_module_version": "1.2.0",
            "_view_count": null,
            "flex_flow": null,
            "width": null,
            "min_width": null,
            "border": null,
            "align_items": null,
            "bottom": null,
            "_model_module": "@jupyter-widgets/base",
            "top": null,
            "grid_column": null,
            "overflow_y": null,
            "overflow_x": null,
            "grid_auto_flow": null,
            "grid_area": null,
            "grid_template_columns": null,
            "flex": null,
            "_model_name": "LayoutModel",
            "justify_items": null,
            "grid_row": null,
            "max_height": null,
            "align_content": null,
            "visibility": null,
            "align_self": null,
            "height": null,
            "min_height": null,
            "padding": null,
            "grid_auto_rows": null,
            "grid_gap": null,
            "max_width": null,
            "order": null,
            "_view_module_version": "1.2.0",
            "grid_template_areas": null,
            "object_position": null,
            "object_fit": null,
            "grid_auto_columns": null,
            "margin": null,
            "display": null,
            "left": null
          }
        },
        "135130a5d2734fd1afb5b851aaf28b86": {
          "model_module": "@jupyter-widgets/controls",
          "model_name": "DescriptionStyleModel",
          "model_module_version": "1.5.0",
          "state": {
            "_view_name": "StyleView",
            "_model_name": "DescriptionStyleModel",
            "description_width": "",
            "_view_module": "@jupyter-widgets/base",
            "_model_module_version": "1.5.0",
            "_view_count": null,
            "_view_module_version": "1.2.0",
            "_model_module": "@jupyter-widgets/controls"
          }
        },
        "85c164022f79489e9ad9265400cff7e9": {
          "model_module": "@jupyter-widgets/base",
          "model_name": "LayoutModel",
          "model_module_version": "1.2.0",
          "state": {
            "_view_name": "LayoutView",
            "grid_template_rows": null,
            "right": null,
            "justify_content": null,
            "_view_module": "@jupyter-widgets/base",
            "overflow": null,
            "_model_module_version": "1.2.0",
            "_view_count": null,
            "flex_flow": null,
            "width": null,
            "min_width": null,
            "border": null,
            "align_items": null,
            "bottom": null,
            "_model_module": "@jupyter-widgets/base",
            "top": null,
            "grid_column": null,
            "overflow_y": null,
            "overflow_x": null,
            "grid_auto_flow": null,
            "grid_area": null,
            "grid_template_columns": null,
            "flex": null,
            "_model_name": "LayoutModel",
            "justify_items": null,
            "grid_row": null,
            "max_height": null,
            "align_content": null,
            "visibility": null,
            "align_self": null,
            "height": null,
            "min_height": null,
            "padding": null,
            "grid_auto_rows": null,
            "grid_gap": null,
            "max_width": null,
            "order": null,
            "_view_module_version": "1.2.0",
            "grid_template_areas": null,
            "object_position": null,
            "object_fit": null,
            "grid_auto_columns": null,
            "margin": null,
            "display": null,
            "left": null
          }
        }
      }
    }
  },
  "cells": [
    {
      "cell_type": "markdown",
      "metadata": {
        "id": "view-in-github",
        "colab_type": "text"
      },
      "source": [
        "<a href=\"https://colab.research.google.com/github/Adricarpin/TensorFlow-notebooks/blob/master/Computer%20vision/Image_classification_malaria.ipynb\" target=\"_parent\"><img src=\"https://colab.research.google.com/assets/colab-badge.svg\" alt=\"Open In Colab\"/></a>"
      ]
    },
    {
      "cell_type": "markdown",
      "metadata": {
        "id": "l3MEmnhfGUUj"
      },
      "source": [
        "# Download Data"
      ]
    },
    {
      "cell_type": "markdown",
      "metadata": {
        "id": "1816dK_27jK4"
      },
      "source": [
        "For information about the dataset visit: https://www.tensorflow.org/datasets/catalog/malaria"
      ]
    },
    {
      "cell_type": "code",
      "metadata": {
        "id": "fVRZ25j5NlRH"
      },
      "source": [
        "import tensorflow_datasets as tfds\n"
      ],
      "execution_count": null,
      "outputs": []
    },
    {
      "cell_type": "markdown",
      "metadata": {
        "id": "n0sbtQVp8c_B"
      },
      "source": [
        "We load training data as a  `tf.data.Dataset` and the information associated to the dataset as `tdfs.core.DatasetInfo`"
      ]
    },
    {
      "cell_type": "code",
      "metadata": {
        "colab": {
          "base_uri": "https://localhost:8080/",
          "height": 253,
          "referenced_widgets": [
            "55bbdec2665945d5b2449456f0cd0bc6",
            "74b437fce3634f4495d5ae2f94070e0d",
            "201b37f89404486e9d0d700b22221890",
            "9ad740854e1e42ef84c902e7d7f023bc",
            "b6b3ec989e594130b78fa1ea468ec6f1",
            "1ab704c6a0294fceb6e13797640f5473",
            "bbd90bbd58034cb6af6ae9f497d3c668",
            "60c0eda43d3a43b2bb0f1a38a413b276",
            "5bad3342545e404f848f2ea6f807f31f",
            "3695a9d972c943728b47471ce4518628",
            "b44d551ce29f46c8b9dd5be2c9b690d5",
            "3d868891582e4bed9fcf8509447790d7",
            "817321f06dc7483cbfda14a26cf764b5",
            "c12fe6df0d824296877c01fc4c0e254c",
            "77b5de4c603e40d6ae9eeac21898122c",
            "489caf6710f54125a4fa0ea1d01cb843",
            "edd3534e8da847b5b9feec69d2672148",
            "d179f66891d344458c9233b9ef1a95e2",
            "a8e974eb252a47dea466f1c40fbf93d9",
            "de1dfceb4c2c49898f479e6613b990b1",
            "3bc7c0c23be2447fab2b8eaaa5c7d390",
            "b525fe0849fd4df1ab666f57723fc321",
            "238016806686408bb417e1b1e524a317",
            "ba723d26431b46b8a83888c361e57f8b",
            "749ee67216364104aeee96a6ada30a82",
            "c71b43485207400a9c39b575ddec0383",
            "848e3903edeb440083ec5d198d20d217",
            "b7e94f2dc62d43029a538f43fcfadb53",
            "f7b38dfc27d84297ac26949303c1347e",
            "c470d9ea1e364d5ea82263721b1add7e",
            "4645d4e5706d434f89ca8df55f1d271b",
            "6ab50e14dbed484a8e71ee43ed338abc",
            "c5f67d8aa79044808968b9be52623865",
            "d4376d89535541bfb4a0077702e7ba63",
            "8eff645aa528453392e2388941576675",
            "647a58258458417cb0a0ac652ee6038c",
            "2649d10d879f4652b0986f90550e0ff0",
            "bfec906293d84bb68cb3f66cc997a17f",
            "2d47bf1d3a294da29a205b70fa2990fe",
            "2012939dc97044858e35e13af9af1b3f",
            "893b970c3f1942ee879b5561e6fdb801",
            "4b3142ecbf5f42be9add9d853d669d08",
            "9596ae0632bf47d7a96d3db3687bd3be",
            "be66f227e2894d47bf647f512ce09d03",
            "fb7bd5879e2042a4b2406f87e854be59",
            "e39a804aa6074cb2a174e829f0af56c4",
            "7f3370d3b8f943b7aa80e8ad9561fab7",
            "0f93e96f2fd64d0ebcef05ec9beeb663",
            "694230267dbd40b5aaf372f5357378ae",
            "ea4e8485837240b6af402621f257685b",
            "a32beffabffc4cd4b1c176cac2d66a37",
            "0041e0f051a94b3d84323fd35cddf37d",
            "22f1f7254851473299fcb53f89942246",
            "135130a5d2734fd1afb5b851aaf28b86",
            "85c164022f79489e9ad9265400cff7e9"
          ]
        },
        "id": "TEqrjC3GOkis",
        "outputId": "2932bd22-fa21-46e5-8032-9623c4bd154c"
      },
      "source": [
        "train_data, ds_info = tfds.load(name=\"malaria\", \n",
        "                                             shuffle_files=True, # shuffle files on download?\n",
        "                                             as_supervised=True, # download data in tuple format (sample, label), e.g. (image, label)\n",
        "                                             with_info=True) # include dataset metadata? if so, tfds.load() returns tuple (data, ds_info)"
      ],
      "execution_count": null,
      "outputs": [
        {
          "output_type": "stream",
          "name": "stdout",
          "text": [
            "\u001b[1mDownloading and preparing dataset malaria/1.0.0 (download: 337.08 MiB, generated: Unknown size, total: 337.08 MiB) to /root/tensorflow_datasets/malaria/1.0.0...\u001b[0m\n"
          ]
        },
        {
          "output_type": "display_data",
          "data": {
            "application/vnd.jupyter.widget-view+json": {
              "model_id": "55bbdec2665945d5b2449456f0cd0bc6",
              "version_minor": 0,
              "version_major": 2
            },
            "text/plain": [
              "Dl Completed...: 0 url [00:00, ? url/s]"
            ]
          },
          "metadata": {}
        },
        {
          "output_type": "display_data",
          "data": {
            "application/vnd.jupyter.widget-view+json": {
              "model_id": "3d868891582e4bed9fcf8509447790d7",
              "version_minor": 0,
              "version_major": 2
            },
            "text/plain": [
              "Dl Size...: 0 MiB [00:00, ? MiB/s]"
            ]
          },
          "metadata": {}
        },
        {
          "output_type": "display_data",
          "data": {
            "application/vnd.jupyter.widget-view+json": {
              "model_id": "238016806686408bb417e1b1e524a317",
              "version_minor": 0,
              "version_major": 2
            },
            "text/plain": [
              "Extraction completed...: 0 file [00:00, ? file/s]"
            ]
          },
          "metadata": {}
        },
        {
          "output_type": "stream",
          "name": "stdout",
          "text": [
            "\n",
            "\n",
            "\n"
          ]
        },
        {
          "output_type": "display_data",
          "data": {
            "application/vnd.jupyter.widget-view+json": {
              "model_id": "d4376d89535541bfb4a0077702e7ba63",
              "version_minor": 0,
              "version_major": 2
            },
            "text/plain": [
              "0 examples [00:00, ? examples/s]"
            ]
          },
          "metadata": {}
        },
        {
          "output_type": "stream",
          "name": "stdout",
          "text": [
            "Shuffling and writing examples to /root/tensorflow_datasets/malaria/1.0.0.incompleteWNF5SZ/malaria-train.tfrecord\n"
          ]
        },
        {
          "output_type": "display_data",
          "data": {
            "application/vnd.jupyter.widget-view+json": {
              "model_id": "fb7bd5879e2042a4b2406f87e854be59",
              "version_minor": 0,
              "version_major": 2
            },
            "text/plain": [
              "  0%|          | 0/27558 [00:00<?, ? examples/s]"
            ]
          },
          "metadata": {}
        },
        {
          "output_type": "stream",
          "name": "stdout",
          "text": [
            "\u001b[1mDataset malaria downloaded and prepared to /root/tensorflow_datasets/malaria/1.0.0. Subsequent calls will reuse this data.\u001b[0m\n"
          ]
        }
      ]
    },
    {
      "cell_type": "markdown",
      "metadata": {
        "id": "NhfK2e9bC6Jh"
      },
      "source": [
        "# Become one with data"
      ]
    },
    {
      "cell_type": "markdown",
      "metadata": {
        "id": "F4Y_pQTE705D"
      },
      "source": [
        "Let's see what this dataset is about. First we can have a look at the information:"
      ]
    },
    {
      "cell_type": "code",
      "metadata": {
        "colab": {
          "base_uri": "https://localhost:8080/"
        },
        "id": "iwhxIbg-Qkv6",
        "outputId": "aef5d1e4-ee2f-4711-c203-419921d6a060"
      },
      "source": [
        "ds_info.features"
      ],
      "execution_count": null,
      "outputs": [
        {
          "output_type": "execute_result",
          "data": {
            "text/plain": [
              "FeaturesDict({\n",
              "    'image': Image(shape=(None, None, 3), dtype=tf.uint8),\n",
              "    'label': ClassLabel(shape=(), dtype=tf.int64, num_classes=2),\n",
              "})"
            ]
          },
          "metadata": {},
          "execution_count": 3
        }
      ]
    },
    {
      "cell_type": "code",
      "metadata": {
        "id": "AHnRWOeoPU3L",
        "colab": {
          "base_uri": "https://localhost:8080/"
        },
        "outputId": "69851308-d4e0-47fc-f3e7-279247458a2b"
      },
      "source": [
        "class_names = ds_info.features[\"label\"].names\n",
        "class_names"
      ],
      "execution_count": null,
      "outputs": [
        {
          "output_type": "execute_result",
          "data": {
            "text/plain": [
              "['parasitized', 'uninfected']"
            ]
          },
          "metadata": {},
          "execution_count": 4
        }
      ]
    },
    {
      "cell_type": "code",
      "metadata": {
        "id": "HR1GsNuPVq4P"
      },
      "source": [
        "# Direcotry where the images are stored\n",
        "train_dir = '/root/tensorflow_datasets/downloads/extracted/ZIP.ceb.nlm.nih.gov_proj_malaria_cell_imagesCLJ1vGxXDKcJmHnYfoar_K3ipRQWtxIVA-imvIbvBbs.zip/cell_images/'\n"
      ],
      "execution_count": null,
      "outputs": []
    },
    {
      "cell_type": "markdown",
      "metadata": {
        "id": "tJ_CH4XzCiNb"
      },
      "source": [
        "Walk through the folder, show number of directories and images in directories:"
      ]
    },
    {
      "cell_type": "code",
      "metadata": {
        "colab": {
          "base_uri": "https://localhost:8080/"
        },
        "id": "zxbOQS9yQpeT",
        "outputId": "83d69d72-b65a-4b51-f0e4-981fe423c0d8"
      },
      "source": [
        "import os\n",
        "for dirpath, dirnames, filenames in os.walk(train_dir): \n",
        "  print(f\"There are {len(dirnames)} directories and {len(filenames)} images in '{dirpath}'.\")"
      ],
      "execution_count": null,
      "outputs": [
        {
          "output_type": "stream",
          "name": "stdout",
          "text": [
            "There are 2 directories and 0 images in '/root/tensorflow_datasets/downloads/extracted/ZIP.ceb.nlm.nih.gov_proj_malaria_cell_imagesCLJ1vGxXDKcJmHnYfoar_K3ipRQWtxIVA-imvIbvBbs.zip/cell_images/'.\n",
            "There are 0 directories and 13780 images in '/root/tensorflow_datasets/downloads/extracted/ZIP.ceb.nlm.nih.gov_proj_malaria_cell_imagesCLJ1vGxXDKcJmHnYfoar_K3ipRQWtxIVA-imvIbvBbs.zip/cell_images/Parasitized'.\n",
            "There are 0 directories and 13780 images in '/root/tensorflow_datasets/downloads/extracted/ZIP.ceb.nlm.nih.gov_proj_malaria_cell_imagesCLJ1vGxXDKcJmHnYfoar_K3ipRQWtxIVA-imvIbvBbs.zip/cell_images/Uninfected'.\n"
          ]
        }
      ]
    },
    {
      "cell_type": "markdown",
      "metadata": {
        "id": "Li4TWEuYC2Ku"
      },
      "source": [
        "View a random image. We can run these cells a few times in order to see how the Dataset looks like."
      ]
    },
    {
      "cell_type": "code",
      "metadata": {
        "id": "850PJVo6V5jq"
      },
      "source": [
        "import matplotlib.pyplot as plt\n",
        "import matplotlib.image as mpimg\n",
        "import random\n",
        "\n",
        "def view_random_image(target_dir, target_class):\n",
        "  target_folder = target_dir+target_class\n",
        "\n",
        "  random_image = random.sample(os.listdir(target_folder), 1)\n",
        "\n",
        "  img = mpimg.imread(target_folder + \"/\" + random_image[0])\n",
        "  plt.imshow(img)\n",
        "  plt.title(target_class)\n",
        "  plt.axis(\"off\");\n",
        "\n",
        "  print(f\"Image shape: {img.shape}\") # show the shape of the image\n",
        "\n",
        "  return img"
      ],
      "execution_count": null,
      "outputs": []
    },
    {
      "cell_type": "code",
      "metadata": {
        "colab": {
          "base_uri": "https://localhost:8080/",
          "height": 282
        },
        "id": "BGKg1OzWWWrq",
        "outputId": "187baa52-f0b1-422e-d345-339392330dfb"
      },
      "source": [
        "# View a random image from the training dataset\n",
        "img = view_random_image(target_dir=train_dir,\n",
        "                        target_class=\"Parasitized\")"
      ],
      "execution_count": null,
      "outputs": [
        {
          "output_type": "stream",
          "name": "stdout",
          "text": [
            "Image shape: (127, 121, 3)\n"
          ]
        },
        {
          "output_type": "display_data",
          "data": {
            "image/png": "[encoded data removed]",
            "text/plain": [
              "<Figure size 432x288 with 1 Axes>"
            ]
          },
          "metadata": {
            "needs_background": "light"
          }
        }
      ]
    },
    {
      "cell_type": "markdown",
      "metadata": {
        "id": "8dup4RgGGdI0"
      },
      "source": [
        "#  From folders with images to tensoflow datasets"
      ]
    },
    {
      "cell_type": "markdown",
      "metadata": {
        "id": "IAO1o05YE6S0"
      },
      "source": [
        "We will use `image_dataset_from_directory` in order to make datasets from images stored in folders. Data will be stored in pairs of images and labels. The labels will be the names of the folders where images are stored. We also split data into train and validation. "
      ]
    },
    {
      "cell_type": "code",
      "metadata": {
        "id": "5fJQfIfi9gY_"
      },
      "source": [
        "import tensorflow as tf"
      ],
      "execution_count": null,
      "outputs": []
    },
    {
      "cell_type": "code",
      "metadata": {
        "colab": {
          "base_uri": "https://localhost:8080/"
        },
        "id": "XHFWQqSte4RV",
        "outputId": "f4f7fcec-48d2-4d32-c1da-cbaf1975184f"
      },
      "source": [
        "train_data = tf.keras.preprocessing.image_dataset_from_directory(directory=train_dir,\n",
        "                                                                            image_size=(120, 120),\n",
        "                                                                            label_mode=\"binary\",\n",
        "                                                                            batch_size=32,\n",
        "                                                                 validation_split=0.2,\n",
        "                                                                 subset='training',\n",
        "                                                                 seed=17)\n",
        "\n",
        "validation_data = tf.keras.preprocessing.image_dataset_from_directory(directory=train_dir,\n",
        "                                                                            image_size=(120, 120),\n",
        "                                                                            label_mode=\"binary\", \n",
        "                                                                            batch_size=32,\n",
        "                                                                 validation_split=0.2,\n",
        "                                                                 subset='validation',\n",
        "                                                                 seed=17)"
      ],
      "execution_count": null,
      "outputs": [
        {
          "output_type": "stream",
          "name": "stdout",
          "text": [
            "Found 27558 files belonging to 2 classes.\n",
            "Using 22047 files for training.\n",
            "Found 27558 files belonging to 2 classes.\n",
            "Using 5511 files for validation.\n"
          ]
        }
      ]
    },
    {
      "cell_type": "markdown",
      "metadata": {
        "id": "yYkLjz3MG2xC"
      },
      "source": [
        "# Working with TF Datasets"
      ]
    },
    {
      "cell_type": "markdown",
      "metadata": {
        "id": "7bH02_nMGCP2"
      },
      "source": [
        "Show class names (it must match with the name of the folders)"
      ]
    },
    {
      "cell_type": "code",
      "metadata": {
        "colab": {
          "base_uri": "https://localhost:8080/"
        },
        "id": "mrdCn29afGCd",
        "outputId": "709831de-ba85-444e-be10-7a09ca071086"
      },
      "source": [
        "train_data.class_names"
      ],
      "execution_count": null,
      "outputs": [
        {
          "output_type": "execute_result",
          "data": {
            "text/plain": [
              "['Parasitized', 'Uninfected']"
            ]
          },
          "metadata": {},
          "execution_count": 32
        }
      ]
    },
    {
      "cell_type": "markdown",
      "metadata": {
        "id": "sSRzVIaFGKqe"
      },
      "source": [
        "Number of batches:"
      ]
    },
    {
      "cell_type": "code",
      "metadata": {
        "colab": {
          "base_uri": "https://localhost:8080/"
        },
        "id": "YtkMwS1-mS23",
        "outputId": "ad39cd1f-2c94-40d6-cfa0-bf72aebd6467"
      },
      "source": [
        "train_data.__len__().numpy()"
      ],
      "execution_count": null,
      "outputs": [
        {
          "output_type": "execute_result",
          "data": {
            "text/plain": [
              "689"
            ]
          },
          "metadata": {},
          "execution_count": 33
        }
      ]
    },
    {
      "cell_type": "markdown",
      "metadata": {
        "id": "v-g047ikHNfg"
      },
      "source": [
        "Show shape of images and labels:"
      ]
    },
    {
      "cell_type": "code",
      "metadata": {
        "colab": {
          "base_uri": "https://localhost:8080/"
        },
        "id": "a7gi0-fAHAEo",
        "outputId": "94519a49-00da-4daa-c4d6-5390057472a6"
      },
      "source": [
        "for images, labels in train_data.take(1):\n",
        "  print(images.shape)\n",
        "  print(labels.shape)"
      ],
      "execution_count": null,
      "outputs": [
        {
          "output_type": "stream",
          "name": "stdout",
          "text": [
            "(32, 120, 120, 3)\n",
            "(32, 1)\n"
          ]
        }
      ]
    },
    {
      "cell_type": "markdown",
      "metadata": {
        "id": "RUumn8wNGRFp"
      },
      "source": [
        "Max values in a batch. We can see that the Dataset needs normalization."
      ]
    },
    {
      "cell_type": "code",
      "metadata": {
        "colab": {
          "base_uri": "https://localhost:8080/"
        },
        "id": "31PLXzH_mZF5",
        "outputId": "61215e65-c34b-45cc-9d16-cb95bed7af0b"
      },
      "source": [
        "for images, labels in train_data.take(1):\n",
        "  print(tf.reduce_max(images))"
      ],
      "execution_count": null,
      "outputs": [
        {
          "output_type": "stream",
          "name": "stdout",
          "text": [
            "tf.Tensor(236.325, shape=(), dtype=float32)\n"
          ]
        }
      ]
    },
    {
      "cell_type": "markdown",
      "metadata": {
        "id": "lQKFbXNFGw3t"
      },
      "source": [
        "# Subset"
      ]
    },
    {
      "cell_type": "markdown",
      "metadata": {
        "id": "HX-ar1xXGmyp"
      },
      "source": [
        " We take a small subset in order to train the models faster. We will use 10% of the training data"
      ]
    },
    {
      "cell_type": "code",
      "metadata": {
        "id": "mKqg6Hmoml20"
      },
      "source": [
        "train_len = train_data.cardinality().numpy()\n",
        "\n",
        "reduce_train = int(train_len*0.1)\n",
        "\n",
        "train_data_mini = train_data.take(reduce_train)"
      ],
      "execution_count": null,
      "outputs": []
    },
    {
      "cell_type": "code",
      "metadata": {
        "colab": {
          "base_uri": "https://localhost:8080/"
        },
        "id": "WJAiU67-mvvU",
        "outputId": "4a40f609-3dcf-4f79-d11c-98a233a00080"
      },
      "source": [
        "train_data_mini.cardinality().numpy()"
      ],
      "execution_count": null,
      "outputs": [
        {
          "output_type": "execute_result",
          "data": {
            "text/plain": [
              "68"
            ]
          },
          "metadata": {},
          "execution_count": 36
        }
      ]
    },
    {
      "cell_type": "markdown",
      "metadata": {
        "id": "tl7vFH5pngLC"
      },
      "source": [
        "# Model 1 (10% of the data Flatten + Dense)\n"
      ]
    },
    {
      "cell_type": "markdown",
      "metadata": {
        "id": "GfXiUPtMHSlC"
      },
      "source": [
        "This will be our baseline model."
      ]
    },
    {
      "cell_type": "code",
      "metadata": {
        "id": "Zd4fi-ORnlqL"
      },
      "source": [
        "model_1 = tf.keras.Sequential([\n",
        "  tf.keras.layers.Flatten(input_shape=(120, 120, 3)),\n",
        "  tf.keras.layers.Dense(100, activation='relu'),\n",
        "  tf.keras.layers.Dense(1, activation='sigmoid')\n",
        "])"
      ],
      "execution_count": null,
      "outputs": []
    },
    {
      "cell_type": "code",
      "metadata": {
        "id": "WEboH0FQnuC5"
      },
      "source": [
        "model_1.compile(loss=\"binary_crossentropy\",\n",
        "                optimizer=tf.keras.optimizers.Adam(),\n",
        "                metrics=[\"accuracy\"])"
      ],
      "execution_count": null,
      "outputs": []
    },
    {
      "cell_type": "code",
      "metadata": {
        "colab": {
          "base_uri": "https://localhost:8080/"
        },
        "id": "sHGIHl-boAhm",
        "outputId": "eff51e64-dfb4-4dab-e435-451d0bd5b6b9"
      },
      "source": [
        "history = model_1.fit(train_data_mini,\n",
        "                      epochs=20,\n",
        "                      validation_data=validation_data,\n",
        "                      verbose=1,\n",
        "                      validation_steps=int(0.15 * len(validation_data))) # we use 15% of validation data"
      ],
      "execution_count": null,
      "outputs": [
        {
          "output_type": "stream",
          "name": "stdout",
          "text": [
            "Epoch 1/20\n",
            "68/68 [==============================] - 4s 53ms/step - loss: 664.7120 - accuracy: 0.5381 - val_loss: 52.5728 - val_accuracy: 0.5813\n",
            "Epoch 2/20\n",
            "68/68 [==============================] - 4s 52ms/step - loss: 164.6956 - accuracy: 0.5533 - val_loss: 606.8979 - val_accuracy: 0.5100\n",
            "Epoch 3/20\n",
            "68/68 [==============================] - 4s 52ms/step - loss: 137.6871 - accuracy: 0.6034 - val_loss: 84.0173 - val_accuracy: 0.5650\n",
            "Epoch 4/20\n",
            "68/68 [==============================] - 4s 52ms/step - loss: 87.8419 - accuracy: 0.5965 - val_loss: 81.4594 - val_accuracy: 0.5838\n",
            "Epoch 5/20\n",
            "68/68 [==============================] - 4s 51ms/step - loss: 47.8697 - accuracy: 0.6567 - val_loss: 74.0985 - val_accuracy: 0.5175\n",
            "Epoch 6/20\n",
            "68/68 [==============================] - 4s 52ms/step - loss: 181.9919 - accuracy: 0.5749 - val_loss: 178.2171 - val_accuracy: 0.5462\n",
            "Epoch 7/20\n",
            "68/68 [==============================] - 4s 52ms/step - loss: 60.7550 - accuracy: 0.6581 - val_loss: 54.5065 - val_accuracy: 0.5962\n",
            "Epoch 8/20\n",
            "68/68 [==============================] - 4s 51ms/step - loss: 76.0706 - accuracy: 0.6291 - val_loss: 100.9452 - val_accuracy: 0.5562\n",
            "Epoch 9/20\n",
            "68/68 [==============================] - 4s 51ms/step - loss: 49.4550 - accuracy: 0.6756 - val_loss: 143.2528 - val_accuracy: 0.5225\n",
            "Epoch 10/20\n",
            "68/68 [==============================] - 4s 52ms/step - loss: 49.6497 - accuracy: 0.6673 - val_loss: 62.4531 - val_accuracy: 0.5562\n",
            "Epoch 11/20\n",
            "68/68 [==============================] - 4s 52ms/step - loss: 43.0018 - accuracy: 0.6778 - val_loss: 50.3392 - val_accuracy: 0.5775\n",
            "Epoch 12/20\n",
            "68/68 [==============================] - 4s 52ms/step - loss: 26.6814 - accuracy: 0.7178 - val_loss: 37.3366 - val_accuracy: 0.5888\n",
            "Epoch 13/20\n",
            "68/68 [==============================] - 4s 52ms/step - loss: 45.8398 - accuracy: 0.6815 - val_loss: 75.1798 - val_accuracy: 0.5238\n",
            "Epoch 14/20\n",
            "68/68 [==============================] - 4s 52ms/step - loss: 24.3198 - accuracy: 0.7275 - val_loss: 56.2025 - val_accuracy: 0.5775\n",
            "Epoch 15/20\n",
            "68/68 [==============================] - 4s 52ms/step - loss: 64.4801 - accuracy: 0.6310 - val_loss: 84.0629 - val_accuracy: 0.5625\n",
            "Epoch 16/20\n",
            "68/68 [==============================] - 4s 52ms/step - loss: 62.1967 - accuracy: 0.6494 - val_loss: 74.3079 - val_accuracy: 0.5875\n",
            "Epoch 17/20\n",
            "68/68 [==============================] - 4s 51ms/step - loss: 47.7116 - accuracy: 0.6953 - val_loss: 120.4266 - val_accuracy: 0.4812\n",
            "Epoch 18/20\n",
            "68/68 [==============================] - 4s 51ms/step - loss: 29.7996 - accuracy: 0.7261 - val_loss: 39.7897 - val_accuracy: 0.6075\n",
            "Epoch 19/20\n",
            "68/68 [==============================] - 4s 52ms/step - loss: 32.9668 - accuracy: 0.7408 - val_loss: 171.0774 - val_accuracy: 0.5288\n",
            "Epoch 20/20\n",
            "68/68 [==============================] - 4s 52ms/step - loss: 22.6252 - accuracy: 0.7734 - val_loss: 57.3821 - val_accuracy: 0.5587\n"
          ]
        }
      ]
    },
    {
      "cell_type": "markdown",
      "metadata": {
        "id": "Rcjk4KlL15gO"
      },
      "source": [
        "# Model 2 (10% of the data + Conv2D)"
      ]
    },
    {
      "cell_type": "code",
      "metadata": {
        "id": "i4aid7dg1_nb"
      },
      "source": [
        "model_2 = tf.keras.models.Sequential([\n",
        "  tf.keras.layers.Rescaling(1./255),\n",
        "  tf.keras.layers.Conv2D(filters=10, \n",
        "                         kernel_size=3,\n",
        "                         activation=\"relu\", \n",
        "                         input_shape=(120, 120, 3)), \n",
        "  tf.keras.layers.MaxPool2D(2),\n",
        "  tf.keras.layers.Conv2D(10, 3, activation=\"relu\"),\n",
        "  tf.keras.layers.MaxPool2D(2),\n",
        "  tf.keras.layers.Flatten(),\n",
        "  tf.keras.layers.Dense(1, activation=\"sigmoid\") # binary activation output\n",
        "])"
      ],
      "execution_count": null,
      "outputs": []
    },
    {
      "cell_type": "code",
      "metadata": {
        "id": "_svAw6ox2MR-"
      },
      "source": [
        "model_2.compile(loss=\"binary_crossentropy\",\n",
        "                optimizer=tf.keras.optimizers.Adam(),\n",
        "                metrics=[\"accuracy\"])"
      ],
      "execution_count": null,
      "outputs": []
    },
    {
      "cell_type": "code",
      "metadata": {
        "colab": {
          "base_uri": "https://localhost:8080/"
        },
        "id": "Y-zstu9S2Rn1",
        "outputId": "2bd71f27-f724-4f9c-bbb9-937ddeb4b827"
      },
      "source": [
        "history_2 = model_2.fit(train_data_mini,\n",
        "                      epochs=20,\n",
        "                      validation_data=validation_data,\n",
        "                      verbose=1,\n",
        "                      validation_steps=int(0.15 * len(validation_data)))"
      ],
      "execution_count": null,
      "outputs": [
        {
          "output_type": "stream",
          "name": "stdout",
          "text": [
            "Epoch 1/20\n",
            "68/68 [==============================] - 32s 58ms/step - loss: 0.6799 - accuracy: 0.5542 - val_loss: 0.6432 - val_accuracy: 0.6150\n",
            "Epoch 2/20\n",
            "68/68 [==============================] - 4s 55ms/step - loss: 0.6241 - accuracy: 0.6581 - val_loss: 0.6285 - val_accuracy: 0.6513\n",
            "Epoch 3/20\n",
            "68/68 [==============================] - 4s 54ms/step - loss: 0.6016 - accuracy: 0.6857 - val_loss: 0.6208 - val_accuracy: 0.6700\n",
            "Epoch 4/20\n",
            "68/68 [==============================] - 4s 55ms/step - loss: 0.6052 - accuracy: 0.6705 - val_loss: 0.6349 - val_accuracy: 0.6375\n",
            "Epoch 5/20\n",
            "68/68 [==============================] - 4s 54ms/step - loss: 0.5608 - accuracy: 0.7233 - val_loss: 0.6094 - val_accuracy: 0.6812\n",
            "Epoch 6/20\n",
            "68/68 [==============================] - 4s 55ms/step - loss: 0.5662 - accuracy: 0.7132 - val_loss: 0.6328 - val_accuracy: 0.6737\n",
            "Epoch 7/20\n",
            "68/68 [==============================] - 4s 56ms/step - loss: 0.5154 - accuracy: 0.7675 - val_loss: 0.6805 - val_accuracy: 0.7163\n",
            "Epoch 8/20\n",
            "68/68 [==============================] - 4s 55ms/step - loss: 0.5055 - accuracy: 0.7799 - val_loss: 0.6114 - val_accuracy: 0.7362\n",
            "Epoch 9/20\n",
            "68/68 [==============================] - 4s 55ms/step - loss: 0.4519 - accuracy: 0.8065 - val_loss: 0.8112 - val_accuracy: 0.7538\n",
            "Epoch 10/20\n",
            "68/68 [==============================] - 4s 55ms/step - loss: 0.4611 - accuracy: 0.8143 - val_loss: 0.5616 - val_accuracy: 0.7275\n",
            "Epoch 11/20\n",
            "68/68 [==============================] - 4s 55ms/step - loss: 0.4073 - accuracy: 0.8442 - val_loss: 0.5973 - val_accuracy: 0.7487\n",
            "Epoch 12/20\n",
            "68/68 [==============================] - 4s 54ms/step - loss: 0.3813 - accuracy: 0.8653 - val_loss: 0.5582 - val_accuracy: 0.7588\n",
            "Epoch 13/20\n",
            "68/68 [==============================] - 4s 56ms/step - loss: 0.3424 - accuracy: 0.8778 - val_loss: 0.5332 - val_accuracy: 0.7650\n",
            "Epoch 14/20\n",
            "68/68 [==============================] - 4s 55ms/step - loss: 0.2950 - accuracy: 0.8994 - val_loss: 0.6410 - val_accuracy: 0.8125\n",
            "Epoch 15/20\n",
            "68/68 [==============================] - 4s 55ms/step - loss: 0.2855 - accuracy: 0.9062 - val_loss: 0.6065 - val_accuracy: 0.8188\n",
            "Epoch 16/20\n",
            "68/68 [==============================] - 4s 56ms/step - loss: 0.2681 - accuracy: 0.9159 - val_loss: 0.7174 - val_accuracy: 0.8363\n",
            "Epoch 17/20\n",
            "68/68 [==============================] - 4s 55ms/step - loss: 0.2853 - accuracy: 0.9118 - val_loss: 0.5017 - val_accuracy: 0.8225\n",
            "Epoch 18/20\n",
            "68/68 [==============================] - 4s 56ms/step - loss: 0.2348 - accuracy: 0.9311 - val_loss: 0.6334 - val_accuracy: 0.8037\n",
            "Epoch 19/20\n",
            "68/68 [==============================] - 4s 55ms/step - loss: 0.2186 - accuracy: 0.9352 - val_loss: 0.8653 - val_accuracy: 0.8425\n",
            "Epoch 20/20\n",
            "68/68 [==============================] - 4s 55ms/step - loss: 0.2366 - accuracy: 0.9251 - val_loss: 0.5751 - val_accuracy: 0.7788\n"
          ]
        }
      ]
    },
    {
      "cell_type": "markdown",
      "metadata": {
        "id": "4f8A89zRthWl"
      },
      "source": [
        "# Model 3 (10% of the data + data_augmentation + Conv2D)\n"
      ]
    },
    {
      "cell_type": "code",
      "metadata": {
        "id": "s98RtyRqt1zT"
      },
      "source": [
        "from tensorflow.keras import layers\n",
        "from tensorflow.keras import Model\n",
        "from tensorflow.keras import Sequential"
      ],
      "execution_count": null,
      "outputs": []
    },
    {
      "cell_type": "code",
      "metadata": {
        "id": "ok1JoHQXtxS_"
      },
      "source": [
        "data_augmentation = Sequential([\n",
        "  layers.RandomFlip(\"horizontal\"),\n",
        "  layers.RandomRotation(0.2),\n",
        "  layers.RandomHeight(0.2),\n",
        "  layers.RandomWidth(0.2),\n",
        "  layers.Rescaling(1./255) \n",
        "])"
      ],
      "execution_count": null,
      "outputs": []
    },
    {
      "cell_type": "code",
      "metadata": {
        "id": "F7WEjKR8uFWM"
      },
      "source": [
        "input = layers.Input(shape=(120, 120, 3))\n",
        "x = data_augmentation(input)\n",
        "x = layers.Conv2D(filters=10, \n",
        "                  kernel_size=3,\n",
        "                  activation=\"relu\")(x)\n",
        "x = layers.MaxPool2D(2)(x)\n",
        "x = layers.Conv2D(10, 3, activation=\"relu\")(x)\n",
        "x = layers.MaxPool2D(2)(x)\n",
        "x = layers.GlobalAveragePooling2D()(x)\n",
        "output = layers.Dense(1, activation=\"sigmoid\")(x)\n",
        "\n",
        "model_3 = Model(input, output)"
      ],
      "execution_count": null,
      "outputs": []
    },
    {
      "cell_type": "code",
      "metadata": {
        "id": "kHT8w2VKu1Nj"
      },
      "source": [
        "model_3.compile(loss=\"binary_crossentropy\",\n",
        "                optimizer=tf.keras.optimizers.Adam(),\n",
        "                metrics=[\"accuracy\"])"
      ],
      "execution_count": null,
      "outputs": []
    },
    {
      "cell_type": "code",
      "metadata": {
        "colab": {
          "base_uri": "https://localhost:8080/"
        },
        "id": "zgkWUuWuwGTP",
        "outputId": "4c8d0fbe-84da-4148-d25e-7c7a95a77189"
      },
      "source": [
        "history_3 = model_3.fit(train_data_mini,\n",
        "                      epochs=20,\n",
        "                      validation_data=validation_data,\n",
        "                      verbose=1,\n",
        "                      validation_steps=int(0.15 * len(validation_data)))"
      ],
      "execution_count": null,
      "outputs": [
        {
          "output_type": "stream",
          "name": "stdout",
          "text": [
            "Epoch 1/20\n",
            "68/68 [==============================] - 5s 61ms/step - loss: 0.6888 - accuracy: 0.5386 - val_loss: 0.6862 - val_accuracy: 0.5200\n",
            "Epoch 2/20\n",
            "68/68 [==============================] - 4s 59ms/step - loss: 0.6739 - accuracy: 0.5887 - val_loss: 0.6999 - val_accuracy: 0.4988\n",
            "Epoch 3/20\n",
            "68/68 [==============================] - 4s 58ms/step - loss: 0.6722 - accuracy: 0.5735 - val_loss: 0.6829 - val_accuracy: 0.5450\n",
            "Epoch 4/20\n",
            "68/68 [==============================] - 4s 58ms/step - loss: 0.6678 - accuracy: 0.5915 - val_loss: 0.6914 - val_accuracy: 0.5775\n",
            "Epoch 5/20\n",
            "68/68 [==============================] - 4s 62ms/step - loss: 0.6657 - accuracy: 0.5947 - val_loss: 0.6585 - val_accuracy: 0.6288\n",
            "Epoch 6/20\n",
            "68/68 [==============================] - 4s 59ms/step - loss: 0.6657 - accuracy: 0.5887 - val_loss: 0.6597 - val_accuracy: 0.6500\n",
            "Epoch 7/20\n",
            "68/68 [==============================] - 4s 60ms/step - loss: 0.6535 - accuracy: 0.6268 - val_loss: 0.6609 - val_accuracy: 0.6250\n",
            "Epoch 8/20\n",
            "68/68 [==============================] - 4s 60ms/step - loss: 0.6524 - accuracy: 0.6126 - val_loss: 0.6493 - val_accuracy: 0.6737\n",
            "Epoch 9/20\n",
            "68/68 [==============================] - 4s 60ms/step - loss: 0.6472 - accuracy: 0.6273 - val_loss: 0.6443 - val_accuracy: 0.6812\n",
            "Epoch 10/20\n",
            "68/68 [==============================] - 4s 61ms/step - loss: 0.6659 - accuracy: 0.6250 - val_loss: 0.6641 - val_accuracy: 0.6400\n",
            "Epoch 11/20\n",
            "68/68 [==============================] - 4s 59ms/step - loss: 0.6351 - accuracy: 0.6636 - val_loss: 0.6374 - val_accuracy: 0.6737\n",
            "Epoch 12/20\n",
            "68/68 [==============================] - 4s 59ms/step - loss: 0.6534 - accuracy: 0.6209 - val_loss: 0.6413 - val_accuracy: 0.6888\n",
            "Epoch 13/20\n",
            "68/68 [==============================] - 4s 59ms/step - loss: 0.6240 - accuracy: 0.6664 - val_loss: 0.6717 - val_accuracy: 0.7175\n",
            "Epoch 14/20\n",
            "68/68 [==============================] - 4s 60ms/step - loss: 0.6351 - accuracy: 0.6544 - val_loss: 0.7313 - val_accuracy: 0.6762\n",
            "Epoch 15/20\n",
            "68/68 [==============================] - 4s 59ms/step - loss: 0.6235 - accuracy: 0.6935 - val_loss: 0.6131 - val_accuracy: 0.7250\n",
            "Epoch 16/20\n",
            "68/68 [==============================] - 4s 60ms/step - loss: 0.6014 - accuracy: 0.7146 - val_loss: 0.5921 - val_accuracy: 0.8175\n",
            "Epoch 17/20\n",
            "68/68 [==============================] - 4s 60ms/step - loss: 0.5535 - accuracy: 0.7960 - val_loss: 0.5615 - val_accuracy: 0.7200\n",
            "Epoch 18/20\n",
            "68/68 [==============================] - 4s 58ms/step - loss: 0.5192 - accuracy: 0.8107 - val_loss: 0.7422 - val_accuracy: 0.9200\n",
            "Epoch 19/20\n",
            "68/68 [==============================] - 4s 58ms/step - loss: 0.6288 - accuracy: 0.6949 - val_loss: 0.5275 - val_accuracy: 0.8250\n",
            "Epoch 20/20\n",
            "68/68 [==============================] - 4s 59ms/step - loss: 0.4437 - accuracy: 0.8442 - val_loss: 0.4458 - val_accuracy: 0.8875\n"
          ]
        }
      ]
    },
    {
      "cell_type": "markdown",
      "metadata": {
        "id": "j3qzxgOZ2Xl0"
      },
      "source": [
        "# Model 4 (100% of the data + Conv2D)"
      ]
    },
    {
      "cell_type": "code",
      "metadata": {
        "id": "J3m86fF2KB4C"
      },
      "source": [
        "model_4 = tf.keras.models.Sequential([\n",
        "  tf.keras.layers.Rescaling(1./255),\n",
        "  tf.keras.layers.Conv2D(filters=10, \n",
        "                         kernel_size=3,\n",
        "                         activation=\"relu\", \n",
        "                         input_shape=(120, 120, 3)), \n",
        "  tf.keras.layers.MaxPool2D(2),\n",
        "  tf.keras.layers.Conv2D(10, 3, activation=\"relu\"),\n",
        "  tf.keras.layers.MaxPool2D(2),\n",
        "  tf.keras.layers.Flatten(),\n",
        "  tf.keras.layers.Dense(1, activation=\"sigmoid\") # binary activation output\n",
        "])"
      ],
      "execution_count": null,
      "outputs": []
    },
    {
      "cell_type": "code",
      "metadata": {
        "id": "sK_qEBBb2rft"
      },
      "source": [
        "model_4.compile(loss=\"binary_crossentropy\",\n",
        "                optimizer=tf.keras.optimizers.Adam(),\n",
        "                metrics=[\"accuracy\"])"
      ],
      "execution_count": null,
      "outputs": []
    },
    {
      "cell_type": "code",
      "metadata": {
        "id": "eTV6v3XdaqLg"
      },
      "source": [
        "reduce_lr = tf.keras.callbacks.ReduceLROnPlateau(monitor=\"val_accuracy\",  \n",
        "                                                 factor=0.2, # multiply the learning rate by 0.2 (reduce by 5x)\n",
        "                                                 patience=4, \n",
        "                                                 verbose=1, \n",
        "                                                 min_lr=1e-7)"
      ],
      "execution_count": null,
      "outputs": []
    },
    {
      "cell_type": "code",
      "metadata": {
        "colab": {
          "base_uri": "https://localhost:8080/"
        },
        "id": "wUtHBr4T25bG",
        "outputId": "fe1a5c98-a9fb-421a-c6cb-52f96ea8b853"
      },
      "source": [
        "history_4 = model_4.fit(train_data,\n",
        "                      epochs=5,\n",
        "                      validation_data=validation_data,\n",
        "                      verbose=1,\n",
        "                      callbacks=[reduce_lr])"
      ],
      "execution_count": null,
      "outputs": [
        {
          "output_type": "stream",
          "name": "stdout",
          "text": [
            "Epoch 1/5\n",
            "689/689 [==============================] - 34s 48ms/step - loss: 0.6091 - accuracy: 0.6688 - val_loss: 0.6096 - val_accuracy: 0.7031\n",
            "Epoch 2/5\n",
            "689/689 [==============================] - 33s 48ms/step - loss: 0.5177 - accuracy: 0.7578 - val_loss: 0.4754 - val_accuracy: 0.8928\n",
            "Epoch 3/5\n",
            "689/689 [==============================] - 34s 49ms/step - loss: 0.3692 - accuracy: 0.8698 - val_loss: 0.4496 - val_accuracy: 0.9120\n",
            "Epoch 4/5\n",
            "689/689 [==============================] - 34s 48ms/step - loss: 0.3215 - accuracy: 0.8886 - val_loss: 0.3568 - val_accuracy: 0.9102\n",
            "Epoch 5/5\n",
            "689/689 [==============================] - 33s 48ms/step - loss: 0.2723 - accuracy: 0.9082 - val_loss: 0.2634 - val_accuracy: 0.9122\n"
          ]
        }
      ]
    }
  ]
}